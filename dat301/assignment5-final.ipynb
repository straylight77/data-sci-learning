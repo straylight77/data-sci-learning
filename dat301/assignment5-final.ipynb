{
 "cells": [
  {
   "cell_type": "markdown",
   "metadata": {},
   "source": [
    "# DAT 301 - Assignment 5: CNN (5 of 5)\n",
    "- Name: Colin Bowers (bowerc3)\n",
    "- Date: Mar 20, 2024"
   ]
  },
  {
   "cell_type": "markdown",
   "metadata": {},
   "source": [
    "## Final Optimized Model\n",
    "The best parameters and configuration for the CNN model were chosen from previous experiments and combined into a single model.  \n",
    "1. Adding a 3rd convolutional layer\n",
    "2. Using 64 filters\n"
   ]
  },
  {
   "cell_type": "markdown",
   "metadata": {
    "colab_type": "text",
    "id": "3DR-eO17geWu"
   },
   "source": [
    "# Convolutional Neural Network"
   ]
  },
  {
   "cell_type": "markdown",
   "metadata": {
    "colab_type": "text",
    "id": "EMefrVPCg-60"
   },
   "source": [
    "### Importing the libraries"
   ]
  },
  {
   "cell_type": "code",
   "execution_count": 1,
   "metadata": {
    "colab": {},
    "colab_type": "code",
    "id": "sCV30xyVhFbE"
   },
   "outputs": [
    {
     "name": "stderr",
     "output_type": "stream",
     "text": [
      "2024-03-11 12:32:12.855960: I external/local_tsl/tsl/cuda/cudart_stub.cc:31] Could not find cuda drivers on your machine, GPU will not be used.\n",
      "2024-03-11 12:32:13.499330: E external/local_xla/xla/stream_executor/cuda/cuda_dnn.cc:9261] Unable to register cuDNN factory: Attempting to register factory for plugin cuDNN when one has already been registered\n",
      "2024-03-11 12:32:13.509299: E external/local_xla/xla/stream_executor/cuda/cuda_fft.cc:607] Unable to register cuFFT factory: Attempting to register factory for plugin cuFFT when one has already been registered\n",
      "2024-03-11 12:32:13.543005: E external/local_xla/xla/stream_executor/cuda/cuda_blas.cc:1515] Unable to register cuBLAS factory: Attempting to register factory for plugin cuBLAS when one has already been registered\n",
      "2024-03-11 12:32:13.897682: I external/local_tsl/tsl/cuda/cudart_stub.cc:31] Could not find cuda drivers on your machine, GPU will not be used.\n",
      "2024-03-11 12:32:13.906042: I tensorflow/core/platform/cpu_feature_guard.cc:182] This TensorFlow binary is optimized to use available CPU instructions in performance-critical operations.\n",
      "To enable the following instructions: AVX2 FMA, in other operations, rebuild TensorFlow with the appropriate compiler flags.\n",
      "2024-03-11 12:32:17.437706: W tensorflow/compiler/tf2tensorrt/utils/py_utils.cc:38] TF-TRT Warning: Could not find TensorRT\n"
     ]
    }
   ],
   "source": [
    "import tensorflow as tf\n",
    "from keras.preprocessing.image import ImageDataGenerator"
   ]
  },
  {
   "cell_type": "code",
   "execution_count": 2,
   "metadata": {
    "colab": {},
    "colab_type": "code",
    "id": "FIleuCAjoFD8"
   },
   "outputs": [
    {
     "data": {
      "text/plain": [
       "'2.15.0'"
      ]
     },
     "execution_count": 2,
     "metadata": {},
     "output_type": "execute_result"
    }
   ],
   "source": [
    "tf.__version__"
   ]
  },
  {
   "cell_type": "markdown",
   "metadata": {
    "colab_type": "text",
    "id": "oxQxCBWyoGPE"
   },
   "source": [
    "## Part 1 - Data Preprocessing"
   ]
  },
  {
   "cell_type": "markdown",
   "metadata": {
    "colab_type": "text",
    "id": "MvE-heJNo3GG"
   },
   "source": [
    "### Preprocessing the Training set"
   ]
  },
  {
   "cell_type": "code",
   "execution_count": 3,
   "metadata": {
    "colab": {},
    "colab_type": "code",
    "id": "0koUcJMJpEBD"
   },
   "outputs": [
    {
     "name": "stdout",
     "output_type": "stream",
     "text": [
      "Found 8000 images belonging to 2 classes.\n"
     ]
    }
   ],
   "source": [
    "train_datagen = ImageDataGenerator(rescale = 1./255,\n",
    "                                   shear_range = 0.2,\n",
    "                                   zoom_range = 0.2,\n",
    "                                   horizontal_flip = True)\n",
    "training_set = train_datagen.flow_from_directory('dataset/training_set',\n",
    "                                                 target_size = (64, 64),\n",
    "                                                 batch_size = 32,\n",
    "                                                 class_mode = 'binary')"
   ]
  },
  {
   "cell_type": "markdown",
   "metadata": {
    "colab_type": "text",
    "id": "mrCMmGw9pHys"
   },
   "source": [
    "### Preprocessing the Test set"
   ]
  },
  {
   "cell_type": "code",
   "execution_count": 4,
   "metadata": {
    "colab": {},
    "colab_type": "code",
    "id": "SH4WzfOhpKc3"
   },
   "outputs": [
    {
     "name": "stdout",
     "output_type": "stream",
     "text": [
      "Found 2000 images belonging to 2 classes.\n"
     ]
    }
   ],
   "source": [
    "test_datagen = ImageDataGenerator(rescale = 1./255)\n",
    "test_set = test_datagen.flow_from_directory('dataset/test_set',\n",
    "                                            target_size = (64, 64),\n",
    "                                            batch_size = 32,\n",
    "                                            class_mode = 'binary')"
   ]
  },
  {
   "cell_type": "markdown",
   "metadata": {
    "colab_type": "text",
    "id": "af8O4l90gk7B"
   },
   "source": [
    "## Part 2 - Building the CNN"
   ]
  },
  {
   "cell_type": "markdown",
   "metadata": {
    "colab_type": "text",
    "id": "ces1gXY2lmoX"
   },
   "source": [
    "### Create the convolutional base"
   ]
  },
  {
   "cell_type": "code",
   "execution_count": 5,
   "metadata": {
    "colab": {},
    "colab_type": "code",
    "id": "SAUt4UMPlhLS"
   },
   "outputs": [],
   "source": [
    "cnn = tf.keras.models.Sequential()"
   ]
  },
  {
   "cell_type": "code",
   "execution_count": 6,
   "metadata": {},
   "outputs": [],
   "source": [
    "# first layer\n",
    "cnn.add(tf.keras.layers.Conv2D(64, (3, 3), activation='relu', input_shape=[64, 64, 3]))\n",
    "cnn.add(tf.keras.layers.MaxPool2D((2,2)))\n",
    "\n",
    "# second layer\n",
    "cnn.add(tf.keras.layers.Conv2D(64, (3, 3), activation='relu'))\n",
    "cnn.add(tf.keras.layers.MaxPool2D((2,2)))\n",
    "\n",
    "# third layer\n",
    "cnn.add(tf.keras.layers.Conv2D(64, (3, 3), activation='relu'))\n",
    "cnn.add(tf.keras.layers.MaxPool2D((2,2)))\n"
   ]
  },
  {
   "cell_type": "markdown",
   "metadata": {
    "colab_type": "text",
    "id": "tmiEuvTunKfk"
   },
   "source": [
    "### Add dense layers"
   ]
  },
  {
   "cell_type": "code",
   "execution_count": 7,
   "metadata": {
    "colab": {},
    "colab_type": "code",
    "id": "6AZeOGCvnNZn"
   },
   "outputs": [],
   "source": [
    "cnn.add(tf.keras.layers.Flatten())\n",
    "cnn.add(tf.keras.layers.Dense(units=128, activation='relu'))\n",
    "cnn.add(tf.keras.layers.Dense(units=1, activation='sigmoid'))"
   ]
  },
  {
   "cell_type": "markdown",
   "metadata": {},
   "source": [
    "### Model Summary"
   ]
  },
  {
   "cell_type": "code",
   "execution_count": 8,
   "metadata": {},
   "outputs": [
    {
     "name": "stdout",
     "output_type": "stream",
     "text": [
      "Model: \"sequential\"\n",
      "_________________________________________________________________\n",
      " Layer (type)                Output Shape              Param #   \n",
      "=================================================================\n",
      " conv2d (Conv2D)             (None, 62, 62, 64)        1792      \n",
      "                                                                 \n",
      " max_pooling2d (MaxPooling2  (None, 31, 31, 64)        0         \n",
      " D)                                                              \n",
      "                                                                 \n",
      " conv2d_1 (Conv2D)           (None, 29, 29, 64)        36928     \n",
      "                                                                 \n",
      " max_pooling2d_1 (MaxPoolin  (None, 14, 14, 64)        0         \n",
      " g2D)                                                            \n",
      "                                                                 \n",
      " conv2d_2 (Conv2D)           (None, 12, 12, 64)        36928     \n",
      "                                                                 \n",
      " max_pooling2d_2 (MaxPoolin  (None, 6, 6, 64)          0         \n",
      " g2D)                                                            \n",
      "                                                                 \n",
      " flatten (Flatten)           (None, 2304)              0         \n",
      "                                                                 \n",
      " dense (Dense)               (None, 128)               295040    \n",
      "                                                                 \n",
      " dense_1 (Dense)             (None, 1)                 129       \n",
      "                                                                 \n",
      "=================================================================\n",
      "Total params: 370817 (1.41 MB)\n",
      "Trainable params: 370817 (1.41 MB)\n",
      "Non-trainable params: 0 (0.00 Byte)\n",
      "_________________________________________________________________\n"
     ]
    }
   ],
   "source": [
    "cnn.summary()"
   ]
  },
  {
   "cell_type": "markdown",
   "metadata": {
    "colab_type": "text",
    "id": "D6XkI90snSDl"
   },
   "source": [
    "## Part 3 - Training the CNN"
   ]
  },
  {
   "cell_type": "markdown",
   "metadata": {
    "colab_type": "text",
    "id": "vfrFQACEnc6i"
   },
   "source": [
    "### Compiling the CNN"
   ]
  },
  {
   "cell_type": "code",
   "execution_count": 9,
   "metadata": {
    "colab": {},
    "colab_type": "code",
    "id": "NALksrNQpUlJ"
   },
   "outputs": [],
   "source": [
    "cnn.compile(optimizer = 'adam', loss = 'binary_crossentropy', metrics = ['accuracy'])"
   ]
  },
  {
   "cell_type": "markdown",
   "metadata": {
    "colab_type": "text",
    "id": "ehS-v3MIpX2h"
   },
   "source": [
    "### Training the CNN on the Training set and evaluating it on the Test set"
   ]
  },
  {
   "cell_type": "code",
   "execution_count": 10,
   "metadata": {
    "colab": {},
    "colab_type": "code",
    "id": "XUj1W4PJptta"
   },
   "outputs": [
    {
     "name": "stdout",
     "output_type": "stream",
     "text": [
      "Epoch 1/25\n"
     ]
    },
    {
     "name": "stderr",
     "output_type": "stream",
     "text": [
      "2024-03-11 12:32:26.185778: W external/local_tsl/tsl/framework/cpu_allocator_impl.cc:83] Allocation of 31490048 exceeds 10% of free system memory.\n",
      "2024-03-11 12:32:26.646003: W external/local_tsl/tsl/framework/cpu_allocator_impl.cc:83] Allocation of 7872512 exceeds 10% of free system memory.\n",
      "2024-03-11 12:32:26.651805: W external/local_tsl/tsl/framework/cpu_allocator_impl.cc:83] Allocation of 6889472 exceeds 10% of free system memory.\n",
      "2024-03-11 12:32:26.835093: W external/local_tsl/tsl/framework/cpu_allocator_impl.cc:83] Allocation of 20238336 exceeds 10% of free system memory.\n",
      "2024-03-11 12:32:26.835279: W external/local_tsl/tsl/framework/cpu_allocator_impl.cc:83] Allocation of 20238336 exceeds 10% of free system memory.\n"
     ]
    },
    {
     "name": "stdout",
     "output_type": "stream",
     "text": [
      "250/250 [==============================] - 61s 236ms/step - loss: 0.6902 - accuracy: 0.5324 - val_loss: 0.6678 - val_accuracy: 0.6005\n",
      "Epoch 2/25\n",
      "250/250 [==============================] - 56s 223ms/step - loss: 0.6352 - accuracy: 0.6371 - val_loss: 0.5875 - val_accuracy: 0.6930\n",
      "Epoch 3/25\n",
      "250/250 [==============================] - 54s 217ms/step - loss: 0.5682 - accuracy: 0.7075 - val_loss: 0.5596 - val_accuracy: 0.7120\n",
      "Epoch 4/25\n",
      "250/250 [==============================] - 58s 231ms/step - loss: 0.5395 - accuracy: 0.7264 - val_loss: 0.5674 - val_accuracy: 0.7230\n",
      "Epoch 5/25\n",
      "250/250 [==============================] - 50s 199ms/step - loss: 0.5139 - accuracy: 0.7375 - val_loss: 0.5160 - val_accuracy: 0.7535\n",
      "Epoch 6/25\n",
      "250/250 [==============================] - 53s 213ms/step - loss: 0.4873 - accuracy: 0.7632 - val_loss: 0.4721 - val_accuracy: 0.7700\n",
      "Epoch 7/25\n",
      "250/250 [==============================] - 59s 236ms/step - loss: 0.4680 - accuracy: 0.7747 - val_loss: 0.4534 - val_accuracy: 0.7825\n",
      "Epoch 8/25\n",
      "250/250 [==============================] - 54s 214ms/step - loss: 0.4556 - accuracy: 0.7815 - val_loss: 0.4325 - val_accuracy: 0.7990\n",
      "Epoch 9/25\n",
      "250/250 [==============================] - 56s 224ms/step - loss: 0.4415 - accuracy: 0.7861 - val_loss: 0.4326 - val_accuracy: 0.7995\n",
      "Epoch 10/25\n",
      "250/250 [==============================] - 55s 221ms/step - loss: 0.4151 - accuracy: 0.8073 - val_loss: 0.4279 - val_accuracy: 0.7985\n",
      "Epoch 11/25\n",
      "250/250 [==============================] - 53s 210ms/step - loss: 0.4043 - accuracy: 0.8102 - val_loss: 0.3972 - val_accuracy: 0.8135\n",
      "Epoch 12/25\n",
      "250/250 [==============================] - 51s 202ms/step - loss: 0.3913 - accuracy: 0.8201 - val_loss: 0.3848 - val_accuracy: 0.8290\n",
      "Epoch 13/25\n",
      "250/250 [==============================] - 58s 232ms/step - loss: 0.3859 - accuracy: 0.8216 - val_loss: 0.4107 - val_accuracy: 0.8150\n",
      "Epoch 14/25\n",
      "250/250 [==============================] - 55s 219ms/step - loss: 0.3668 - accuracy: 0.8357 - val_loss: 0.3844 - val_accuracy: 0.8205\n",
      "Epoch 15/25\n",
      "250/250 [==============================] - 54s 216ms/step - loss: 0.3498 - accuracy: 0.8422 - val_loss: 0.4124 - val_accuracy: 0.8235\n",
      "Epoch 16/25\n",
      "250/250 [==============================] - 57s 226ms/step - loss: 0.3459 - accuracy: 0.8454 - val_loss: 0.4128 - val_accuracy: 0.8200\n",
      "Epoch 17/25\n",
      "250/250 [==============================] - 60s 238ms/step - loss: 0.3283 - accuracy: 0.8514 - val_loss: 0.3803 - val_accuracy: 0.8315\n",
      "Epoch 18/25\n",
      "250/250 [==============================] - 63s 250ms/step - loss: 0.3108 - accuracy: 0.8605 - val_loss: 0.4006 - val_accuracy: 0.8200\n",
      "Epoch 19/25\n",
      "250/250 [==============================] - 57s 229ms/step - loss: 0.3046 - accuracy: 0.8661 - val_loss: 0.3897 - val_accuracy: 0.8280\n",
      "Epoch 20/25\n",
      "250/250 [==============================] - 51s 202ms/step - loss: 0.2902 - accuracy: 0.8733 - val_loss: 0.3741 - val_accuracy: 0.8415\n",
      "Epoch 21/25\n",
      "250/250 [==============================] - 55s 219ms/step - loss: 0.2828 - accuracy: 0.8770 - val_loss: 0.3553 - val_accuracy: 0.8430\n",
      "Epoch 22/25\n",
      "250/250 [==============================] - 54s 214ms/step - loss: 0.2794 - accuracy: 0.8776 - val_loss: 0.3749 - val_accuracy: 0.8375\n",
      "Epoch 23/25\n",
      "250/250 [==============================] - 55s 221ms/step - loss: 0.2705 - accuracy: 0.8808 - val_loss: 0.3805 - val_accuracy: 0.8480\n",
      "Epoch 24/25\n",
      "250/250 [==============================] - 50s 201ms/step - loss: 0.2666 - accuracy: 0.8873 - val_loss: 0.3695 - val_accuracy: 0.8400\n",
      "Epoch 25/25\n",
      "250/250 [==============================] - 55s 218ms/step - loss: 0.2443 - accuracy: 0.8963 - val_loss: 0.4023 - val_accuracy: 0.8435\n",
      "CPU times: user 1h 27min 50s, sys: 3min 30s, total: 1h 31min 21s\n",
      "Wall time: 23min 2s\n"
     ]
    }
   ],
   "source": [
    "%%time\n",
    "history = cnn.fit(x = training_set, validation_data = test_set, epochs = 25)"
   ]
  },
  {
   "cell_type": "markdown",
   "metadata": {},
   "source": [
    "### Evaluate the Model"
   ]
  },
  {
   "cell_type": "code",
   "execution_count": 11,
   "metadata": {},
   "outputs": [
    {
     "name": "stdout",
     "output_type": "stream",
     "text": [
      "63/63 - 6s - loss: 0.4023 - accuracy: 0.8435 - 6s/epoch - 98ms/step\n"
     ]
    },
    {
     "data": {
      "image/png": "[encoded data removed]",
      "text/plain": [
       "<Figure size 640x480 with 1 Axes>"
      ]
     },
     "metadata": {},
     "output_type": "display_data"
    }
   ],
   "source": [
    "import matplotlib.pyplot as plt\n",
    "\n",
    "plt.plot(history.history['accuracy'], label='accuracy')\n",
    "plt.plot(history.history['val_accuracy'], label = 'val_accuracy')\n",
    "plt.xlabel('Epoch')\n",
    "plt.ylabel('Accuracy')\n",
    "plt.ylim([0.5, 1])\n",
    "plt.legend(loc='lower right')\n",
    "\n",
    "test_loss, test_acc = cnn.evaluate(test_set, verbose=2)"
   ]
  },
  {
   "cell_type": "code",
   "execution_count": 12,
   "metadata": {},
   "outputs": [
    {
     "name": "stdout",
     "output_type": "stream",
     "text": [
      "Accuracy: 0.843500018119812\n",
      "    Loss: 0.4022901952266693\n"
     ]
    }
   ],
   "source": [
    "print(f\"Accuracy: {test_acc}\")\n",
    "print(f\"    Loss: {test_loss}\")"
   ]
  },
  {
   "cell_type": "code",
   "execution_count": 13,
   "metadata": {},
   "outputs": [
    {
     "name": "stdout",
     "output_type": "stream",
     "text": [
      "Increase in Accuracy: 0.0480000376701355\n"
     ]
    }
   ],
   "source": [
    "original_acc = 0.7954999804496765\n",
    "delta_acc = test_acc - original_acc\n",
    "print(f\"Increase in Accuracy: {delta_acc}\")"
   ]
  },
  {
   "cell_type": "code",
   "execution_count": 14,
   "metadata": {},
   "outputs": [
    {
     "name": "stdout",
     "output_type": "stream",
     "text": [
      "SUMMARY\n",
      "Accuracy (%): 84.35\n",
      "Increase (%): 4.8\n"
     ]
    }
   ],
   "source": [
    "print(\"SUMMARY\")\n",
    "print(f\"Accuracy (%): {round(test_acc*100, 3)}\")\n",
    "print(f\"Increase (%): {round(delta_acc*100, 3)}\")"
   ]
  }
 ],
 "metadata": {
  "colab": {
   "collapsed_sections": [],
   "name": "convolutional_neural_network.ipynb",
   "provenance": [],
   "toc_visible": true
  },
  "kernelspec": {
   "display_name": "Python 3 (ipykernel)",
   "language": "python",
   "name": "python3"
  },
  "language_info": {
   "codemirror_mode": {
    "name": "ipython",
    "version": 3
   },
   "file_extension": ".py",
   "mimetype": "text/x-python",
   "name": "python",
   "nbconvert_exporter": "python",
   "pygments_lexer": "ipython3",
   "version": "3.11.2"
  }
 },
 "nbformat": 4,
 "nbformat_minor": 4
}
