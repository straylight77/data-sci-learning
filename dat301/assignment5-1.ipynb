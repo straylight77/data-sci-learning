{
 "cells": [
  {
   "cell_type": "markdown",
   "metadata": {},
   "source": [
    "# DAT 301 - Assignment 5: CNN (2 of 5)\n",
    "- Name: Colin Bowers (bowerc3)\n",
    "- Date: Mar 20, 2024"
   ]
  },
  {
   "cell_type": "markdown",
   "metadata": {},
   "source": [
    "## Experiment #1\n",
    "Adding a third convolutional layer.\n",
    "\n",
    "**Note**: Changes from the original notebook are shown in <font color=\"red\">red</font>."
   ]
  },
  {
   "cell_type": "markdown",
   "metadata": {
    "colab_type": "text",
    "id": "3DR-eO17geWu"
   },
   "source": [
    "# Convolutional Neural Network"
   ]
  },
  {
   "cell_type": "markdown",
   "metadata": {
    "colab_type": "text",
    "id": "EMefrVPCg-60"
   },
   "source": [
    "### Importing the libraries"
   ]
  },
  {
   "cell_type": "code",
   "execution_count": 1,
   "metadata": {
    "colab": {},
    "colab_type": "code",
    "id": "sCV30xyVhFbE"
   },
   "outputs": [
    {
     "name": "stderr",
     "output_type": "stream",
     "text": [
      "2024-03-11 11:17:08.303030: I external/local_tsl/tsl/cuda/cudart_stub.cc:31] Could not find cuda drivers on your machine, GPU will not be used.\n",
      "2024-03-11 11:17:08.358271: E external/local_xla/xla/stream_executor/cuda/cuda_dnn.cc:9261] Unable to register cuDNN factory: Attempting to register factory for plugin cuDNN when one has already been registered\n",
      "2024-03-11 11:17:08.358339: E external/local_xla/xla/stream_executor/cuda/cuda_fft.cc:607] Unable to register cuFFT factory: Attempting to register factory for plugin cuFFT when one has already been registered\n",
      "2024-03-11 11:17:08.359910: E external/local_xla/xla/stream_executor/cuda/cuda_blas.cc:1515] Unable to register cuBLAS factory: Attempting to register factory for plugin cuBLAS when one has already been registered\n",
      "2024-03-11 11:17:08.368045: I external/local_tsl/tsl/cuda/cudart_stub.cc:31] Could not find cuda drivers on your machine, GPU will not be used.\n",
      "2024-03-11 11:17:08.369223: I tensorflow/core/platform/cpu_feature_guard.cc:182] This TensorFlow binary is optimized to use available CPU instructions in performance-critical operations.\n",
      "To enable the following instructions: AVX2 FMA, in other operations, rebuild TensorFlow with the appropriate compiler flags.\n",
      "2024-03-11 11:17:10.013885: W tensorflow/compiler/tf2tensorrt/utils/py_utils.cc:38] TF-TRT Warning: Could not find TensorRT\n"
     ]
    }
   ],
   "source": [
    "import tensorflow as tf\n",
    "from keras.preprocessing.image import ImageDataGenerator"
   ]
  },
  {
   "cell_type": "code",
   "execution_count": 2,
   "metadata": {
    "colab": {},
    "colab_type": "code",
    "id": "FIleuCAjoFD8"
   },
   "outputs": [
    {
     "data": {
      "text/plain": [
       "'2.15.0'"
      ]
     },
     "execution_count": 2,
     "metadata": {},
     "output_type": "execute_result"
    }
   ],
   "source": [
    "tf.__version__"
   ]
  },
  {
   "cell_type": "markdown",
   "metadata": {
    "colab_type": "text",
    "id": "oxQxCBWyoGPE"
   },
   "source": [
    "## Part 1 - Data Preprocessing"
   ]
  },
  {
   "cell_type": "markdown",
   "metadata": {
    "colab_type": "text",
    "id": "MvE-heJNo3GG"
   },
   "source": [
    "### Preprocessing the Training set"
   ]
  },
  {
   "cell_type": "code",
   "execution_count": 3,
   "metadata": {
    "colab": {},
    "colab_type": "code",
    "id": "0koUcJMJpEBD"
   },
   "outputs": [
    {
     "name": "stdout",
     "output_type": "stream",
     "text": [
      "Found 8000 images belonging to 2 classes.\n"
     ]
    }
   ],
   "source": [
    "train_datagen = ImageDataGenerator(rescale = 1./255,\n",
    "                                   shear_range = 0.2,\n",
    "                                   zoom_range = 0.2,\n",
    "                                   horizontal_flip = True)\n",
    "training_set = train_datagen.flow_from_directory('dataset/training_set',\n",
    "                                                 target_size = (64, 64),\n",
    "                                                 batch_size = 32,\n",
    "                                                 class_mode = 'binary')"
   ]
  },
  {
   "cell_type": "markdown",
   "metadata": {
    "colab_type": "text",
    "id": "mrCMmGw9pHys"
   },
   "source": [
    "### Preprocessing the Test set"
   ]
  },
  {
   "cell_type": "code",
   "execution_count": 4,
   "metadata": {
    "colab": {},
    "colab_type": "code",
    "id": "SH4WzfOhpKc3"
   },
   "outputs": [
    {
     "name": "stdout",
     "output_type": "stream",
     "text": [
      "Found 2000 images belonging to 2 classes.\n"
     ]
    }
   ],
   "source": [
    "test_datagen = ImageDataGenerator(rescale = 1./255)\n",
    "test_set = test_datagen.flow_from_directory('dataset/test_set',\n",
    "                                            target_size = (64, 64),\n",
    "                                            batch_size = 32,\n",
    "                                            class_mode = 'binary')"
   ]
  },
  {
   "cell_type": "markdown",
   "metadata": {
    "colab_type": "text",
    "id": "af8O4l90gk7B"
   },
   "source": [
    "## Part 2 - Building the CNN"
   ]
  },
  {
   "cell_type": "markdown",
   "metadata": {
    "colab_type": "text",
    "id": "ces1gXY2lmoX"
   },
   "source": [
    "### Initialising the CNN"
   ]
  },
  {
   "cell_type": "code",
   "execution_count": 5,
   "metadata": {
    "colab": {},
    "colab_type": "code",
    "id": "SAUt4UMPlhLS"
   },
   "outputs": [],
   "source": [
    "cnn = tf.keras.models.Sequential()"
   ]
  },
  {
   "cell_type": "markdown",
   "metadata": {
    "colab_type": "text",
    "id": "u5YJj_XMl5LF"
   },
   "source": [
    "### Step 1 - Convolution"
   ]
  },
  {
   "cell_type": "code",
   "execution_count": 6,
   "metadata": {
    "colab": {},
    "colab_type": "code",
    "id": "XPzPrMckl-hV"
   },
   "outputs": [],
   "source": [
    "cnn.add(tf.keras.layers.Conv2D(filters=32, kernel_size=3, activation='relu', input_shape=[64, 64, 3]))"
   ]
  },
  {
   "cell_type": "markdown",
   "metadata": {
    "colab_type": "text",
    "id": "tf87FpvxmNOJ"
   },
   "source": [
    "### Step 2 - Pooling"
   ]
  },
  {
   "cell_type": "code",
   "execution_count": 7,
   "metadata": {
    "colab": {},
    "colab_type": "code",
    "id": "ncpqPl69mOac"
   },
   "outputs": [],
   "source": [
    "cnn.add(tf.keras.layers.MaxPool2D(pool_size=2, strides=2))"
   ]
  },
  {
   "cell_type": "markdown",
   "metadata": {
    "colab_type": "text",
    "id": "xaTOgD8rm4mU"
   },
   "source": [
    "### Adding a second convolutional layer"
   ]
  },
  {
   "cell_type": "code",
   "execution_count": 8,
   "metadata": {
    "colab": {},
    "colab_type": "code",
    "id": "i_-FZjn_m8gk"
   },
   "outputs": [],
   "source": [
    "cnn.add(tf.keras.layers.Conv2D(filters=32, kernel_size=3, activation='relu'))\n",
    "cnn.add(tf.keras.layers.MaxPool2D(pool_size=2, strides=2))"
   ]
  },
  {
   "cell_type": "markdown",
   "metadata": {},
   "source": [
    "### <font color=\"red\">Add a third convolutional layer</font>"
   ]
  },
  {
   "cell_type": "code",
   "execution_count": 9,
   "metadata": {},
   "outputs": [],
   "source": [
    "cnn.add(tf.keras.layers.Conv2D(filters=32, kernel_size=3, activation='relu'))\n",
    "cnn.add(tf.keras.layers.MaxPool2D(pool_size=2, strides=2))"
   ]
  },
  {
   "cell_type": "markdown",
   "metadata": {
    "colab_type": "text",
    "id": "tmiEuvTunKfk"
   },
   "source": [
    "### Step 3 - Flattening"
   ]
  },
  {
   "cell_type": "code",
   "execution_count": 10,
   "metadata": {
    "colab": {},
    "colab_type": "code",
    "id": "6AZeOGCvnNZn"
   },
   "outputs": [],
   "source": [
    "cnn.add(tf.keras.layers.Flatten())"
   ]
  },
  {
   "cell_type": "markdown",
   "metadata": {
    "colab_type": "text",
    "id": "dAoSECOm203v"
   },
   "source": [
    "### Step 4 - Full Connection"
   ]
  },
  {
   "cell_type": "code",
   "execution_count": 11,
   "metadata": {
    "colab": {},
    "colab_type": "code",
    "id": "8GtmUlLd26Nq"
   },
   "outputs": [],
   "source": [
    "cnn.add(tf.keras.layers.Dense(units=128, activation='relu'))"
   ]
  },
  {
   "cell_type": "markdown",
   "metadata": {
    "colab_type": "text",
    "id": "yTldFvbX28Na"
   },
   "source": [
    "### Step 5 - Output Layer"
   ]
  },
  {
   "cell_type": "code",
   "execution_count": 12,
   "metadata": {
    "colab": {},
    "colab_type": "code",
    "id": "1p_Zj1Mc3Ko_"
   },
   "outputs": [],
   "source": [
    "cnn.add(tf.keras.layers.Dense(units=1, activation='sigmoid'))"
   ]
  },
  {
   "cell_type": "markdown",
   "metadata": {},
   "source": [
    "### Model Summary"
   ]
  },
  {
   "cell_type": "code",
   "execution_count": 13,
   "metadata": {},
   "outputs": [
    {
     "name": "stdout",
     "output_type": "stream",
     "text": [
      "Model: \"sequential\"\n",
      "_________________________________________________________________\n",
      " Layer (type)                Output Shape              Param #   \n",
      "=================================================================\n",
      " conv2d (Conv2D)             (None, 62, 62, 32)        896       \n",
      "                                                                 \n",
      " max_pooling2d (MaxPooling2  (None, 31, 31, 32)        0         \n",
      " D)                                                              \n",
      "                                                                 \n",
      " conv2d_1 (Conv2D)           (None, 29, 29, 32)        9248      \n",
      "                                                                 \n",
      " max_pooling2d_1 (MaxPoolin  (None, 14, 14, 32)        0         \n",
      " g2D)                                                            \n",
      "                                                                 \n",
      " conv2d_2 (Conv2D)           (None, 12, 12, 32)        9248      \n",
      "                                                                 \n",
      " max_pooling2d_2 (MaxPoolin  (None, 6, 6, 32)          0         \n",
      " g2D)                                                            \n",
      "                                                                 \n",
      " flatten (Flatten)           (None, 1152)              0         \n",
      "                                                                 \n",
      " dense (Dense)               (None, 128)               147584    \n",
      "                                                                 \n",
      " dense_1 (Dense)             (None, 1)                 129       \n",
      "                                                                 \n",
      "=================================================================\n",
      "Total params: 167105 (652.75 KB)\n",
      "Trainable params: 167105 (652.75 KB)\n",
      "Non-trainable params: 0 (0.00 Byte)\n",
      "_________________________________________________________________\n"
     ]
    }
   ],
   "source": [
    "cnn.summary()"
   ]
  },
  {
   "cell_type": "markdown",
   "metadata": {
    "colab_type": "text",
    "id": "D6XkI90snSDl"
   },
   "source": [
    "## Part 3 - Training the CNN"
   ]
  },
  {
   "cell_type": "markdown",
   "metadata": {
    "colab_type": "text",
    "id": "vfrFQACEnc6i"
   },
   "source": [
    "### Compiling the CNN"
   ]
  },
  {
   "cell_type": "code",
   "execution_count": 14,
   "metadata": {
    "colab": {},
    "colab_type": "code",
    "id": "NALksrNQpUlJ"
   },
   "outputs": [],
   "source": [
    "cnn.compile(optimizer = 'adam', loss = 'binary_crossentropy', metrics = ['accuracy'])"
   ]
  },
  {
   "cell_type": "markdown",
   "metadata": {
    "colab_type": "text",
    "id": "ehS-v3MIpX2h"
   },
   "source": [
    "### Training the CNN on the Training set and evaluating it on the Test set"
   ]
  },
  {
   "cell_type": "code",
   "execution_count": 15,
   "metadata": {
    "colab": {},
    "colab_type": "code",
    "id": "XUj1W4PJptta"
   },
   "outputs": [
    {
     "name": "stdout",
     "output_type": "stream",
     "text": [
      "Epoch 1/25\n",
      "  1/250 [..............................] - ETA: 4:54 - loss: 0.6981 - accuracy: 0.5312"
     ]
    },
    {
     "name": "stderr",
     "output_type": "stream",
     "text": [
      "2024-03-11 11:17:13.484271: W external/local_tsl/tsl/framework/cpu_allocator_impl.cc:83] Allocation of 15745024 exceeds 10% of free system memory.\n",
      "2024-03-11 11:17:13.526145: W external/local_tsl/tsl/framework/cpu_allocator_impl.cc:83] Allocation of 23721984 exceeds 10% of free system memory.\n",
      "2024-03-11 11:17:13.526429: W external/local_tsl/tsl/framework/cpu_allocator_impl.cc:83] Allocation of 23721984 exceeds 10% of free system memory.\n",
      "2024-03-11 11:17:13.533526: W external/local_tsl/tsl/framework/cpu_allocator_impl.cc:83] Allocation of 28096128 exceeds 10% of free system memory.\n",
      "2024-03-11 11:17:13.533654: W external/local_tsl/tsl/framework/cpu_allocator_impl.cc:83] Allocation of 28096128 exceeds 10% of free system memory.\n"
     ]
    },
    {
     "name": "stdout",
     "output_type": "stream",
     "text": [
      "250/250 [==============================] - 35s 137ms/step - loss: 0.6720 - accuracy: 0.5834 - val_loss: 0.6329 - val_accuracy: 0.6865\n",
      "Epoch 2/25\n",
      "250/250 [==============================] - 30s 120ms/step - loss: 0.6080 - accuracy: 0.6719 - val_loss: 0.5499 - val_accuracy: 0.7335\n",
      "Epoch 3/25\n",
      "250/250 [==============================] - 28s 111ms/step - loss: 0.5505 - accuracy: 0.7166 - val_loss: 0.5223 - val_accuracy: 0.7555\n",
      "Epoch 4/25\n",
      "250/250 [==============================] - 27s 109ms/step - loss: 0.5188 - accuracy: 0.7366 - val_loss: 0.4841 - val_accuracy: 0.7735\n",
      "Epoch 5/25\n",
      "250/250 [==============================] - 35s 141ms/step - loss: 0.4867 - accuracy: 0.7596 - val_loss: 0.4602 - val_accuracy: 0.7860\n",
      "Epoch 6/25\n",
      "250/250 [==============================] - 27s 107ms/step - loss: 0.4838 - accuracy: 0.7663 - val_loss: 0.4546 - val_accuracy: 0.7830\n",
      "Epoch 7/25\n",
      "250/250 [==============================] - 27s 108ms/step - loss: 0.4587 - accuracy: 0.7765 - val_loss: 0.4484 - val_accuracy: 0.7915\n",
      "Epoch 8/25\n",
      "250/250 [==============================] - 29s 116ms/step - loss: 0.4441 - accuracy: 0.7912 - val_loss: 0.4613 - val_accuracy: 0.7745\n",
      "Epoch 9/25\n",
      "250/250 [==============================] - 32s 126ms/step - loss: 0.4298 - accuracy: 0.7981 - val_loss: 0.4356 - val_accuracy: 0.8010\n",
      "Epoch 10/25\n",
      "250/250 [==============================] - 30s 119ms/step - loss: 0.4164 - accuracy: 0.8043 - val_loss: 0.4401 - val_accuracy: 0.7950\n",
      "Epoch 11/25\n",
      "250/250 [==============================] - 31s 122ms/step - loss: 0.4082 - accuracy: 0.8094 - val_loss: 0.4511 - val_accuracy: 0.7970\n",
      "Epoch 12/25\n",
      "250/250 [==============================] - 29s 115ms/step - loss: 0.3857 - accuracy: 0.8226 - val_loss: 0.3919 - val_accuracy: 0.8195\n",
      "Epoch 13/25\n",
      "250/250 [==============================] - 30s 118ms/step - loss: 0.3759 - accuracy: 0.8275 - val_loss: 0.4105 - val_accuracy: 0.8130\n",
      "Epoch 14/25\n",
      "250/250 [==============================] - 31s 122ms/step - loss: 0.3672 - accuracy: 0.8317 - val_loss: 0.4017 - val_accuracy: 0.8250\n",
      "Epoch 15/25\n",
      "250/250 [==============================] - 30s 118ms/step - loss: 0.3565 - accuracy: 0.8424 - val_loss: 0.4422 - val_accuracy: 0.8095\n",
      "Epoch 16/25\n",
      "250/250 [==============================] - 29s 118ms/step - loss: 0.3405 - accuracy: 0.8461 - val_loss: 0.4430 - val_accuracy: 0.8160\n",
      "Epoch 17/25\n",
      "250/250 [==============================] - 31s 125ms/step - loss: 0.3406 - accuracy: 0.8497 - val_loss: 0.4032 - val_accuracy: 0.8255\n",
      "Epoch 18/25\n",
      "250/250 [==============================] - 31s 125ms/step - loss: 0.3271 - accuracy: 0.8584 - val_loss: 0.4317 - val_accuracy: 0.8150\n",
      "Epoch 19/25\n",
      "250/250 [==============================] - 28s 113ms/step - loss: 0.3309 - accuracy: 0.8558 - val_loss: 0.3981 - val_accuracy: 0.8335\n",
      "Epoch 20/25\n",
      "250/250 [==============================] - 30s 118ms/step - loss: 0.3164 - accuracy: 0.8596 - val_loss: 0.3750 - val_accuracy: 0.8325\n",
      "Epoch 21/25\n",
      "250/250 [==============================] - 29s 114ms/step - loss: 0.2995 - accuracy: 0.8699 - val_loss: 0.4496 - val_accuracy: 0.8150\n",
      "Epoch 22/25\n",
      "250/250 [==============================] - 29s 115ms/step - loss: 0.2946 - accuracy: 0.8724 - val_loss: 0.3891 - val_accuracy: 0.8415\n",
      "Epoch 23/25\n",
      "250/250 [==============================] - 29s 115ms/step - loss: 0.2906 - accuracy: 0.8700 - val_loss: 0.3838 - val_accuracy: 0.8410\n",
      "Epoch 24/25\n",
      "250/250 [==============================] - 31s 123ms/step - loss: 0.2723 - accuracy: 0.8860 - val_loss: 0.3898 - val_accuracy: 0.8425\n",
      "Epoch 25/25\n",
      "250/250 [==============================] - 32s 127ms/step - loss: 0.2589 - accuracy: 0.8864 - val_loss: 0.4131 - val_accuracy: 0.8390\n",
      "CPU times: user 40min 42s, sys: 1min 25s, total: 42min 7s\n",
      "Wall time: 12min 28s\n"
     ]
    }
   ],
   "source": [
    "%%time\n",
    "history = cnn.fit(x = training_set, validation_data = test_set, epochs = 25)"
   ]
  },
  {
   "cell_type": "markdown",
   "metadata": {},
   "source": [
    "### Evaluate the Model"
   ]
  },
  {
   "cell_type": "code",
   "execution_count": 16,
   "metadata": {},
   "outputs": [
    {
     "name": "stdout",
     "output_type": "stream",
     "text": [
      "63/63 - 3s - loss: 0.4131 - accuracy: 0.8390 - 3s/epoch - 41ms/step\n"
     ]
    },
    {
     "data": {
      "image/png": "[encoded data removed]",
      "text/plain": [
       "<Figure size 640x480 with 1 Axes>"
      ]
     },
     "metadata": {},
     "output_type": "display_data"
    }
   ],
   "source": [
    "import matplotlib.pyplot as plt\n",
    "plt.plot(history.history['accuracy'], label='accuracy')\n",
    "plt.plot(history.history['val_accuracy'], label = 'val_accuracy')\n",
    "plt.xlabel('Epoch')\n",
    "plt.ylabel('Accuracy')\n",
    "plt.ylim([0.5, 1])\n",
    "plt.legend(loc='lower right')\n",
    "\n",
    "test_loss, test_acc = cnn.evaluate(test_set, verbose=2)"
   ]
  },
  {
   "cell_type": "code",
   "execution_count": 17,
   "metadata": {},
   "outputs": [
    {
     "name": "stdout",
     "output_type": "stream",
     "text": [
      "Accuracy: 0.8389999866485596\n",
      "    Loss: 0.4130960702896118\n"
     ]
    }
   ],
   "source": [
    "print(f\"Accuracy: {test_acc}\")\n",
    "print(f\"    Loss: {test_loss}\")"
   ]
  },
  {
   "cell_type": "code",
   "execution_count": 18,
   "metadata": {},
   "outputs": [
    {
     "name": "stdout",
     "output_type": "stream",
     "text": [
      "Increase in Accuracy: 0.04350000619888306\n"
     ]
    }
   ],
   "source": [
    "original_acc = 0.7954999804496765\n",
    "delta_acc = test_acc - original_acc\n",
    "print(f\"Increase in Accuracy: {delta_acc}\")"
   ]
  },
  {
   "cell_type": "code",
   "execution_count": 31,
   "metadata": {},
   "outputs": [
    {
     "name": "stdout",
     "output_type": "stream",
     "text": [
      "SUMMARY\n",
      "Accuracy (%): 83.9\n",
      "Increase (%): 4.35\n"
     ]
    }
   ],
   "source": [
    "print(\"SUMMARY\")\n",
    "print(f\"Accuracy (%): {round(test_acc*100, 3)}\")\n",
    "print(f\"Increase (%): {round(delta_acc*100, 3)}\")"
   ]
  }
 ],
 "metadata": {
  "colab": {
   "collapsed_sections": [],
   "name": "convolutional_neural_network.ipynb",
   "provenance": [],
   "toc_visible": true
  },
  "kernelspec": {
   "display_name": "Python 3 (ipykernel)",
   "language": "python",
   "name": "python3"
  },
  "language_info": {
   "codemirror_mode": {
    "name": "ipython",
    "version": 3
   },
   "file_extension": ".py",
   "mimetype": "text/x-python",
   "name": "python",
   "nbconvert_exporter": "python",
   "pygments_lexer": "ipython3",
   "version": "3.11.2"
  }
 },
 "nbformat": 4,
 "nbformat_minor": 4
}
