{
 "cells": [
  {
   "cell_type": "markdown",
   "id": "4a444b6c-c12d-4f39-b5f2-590512a72981",
   "metadata": {},
   "source": [
    "# DAT 301 - Assignment 3: Neural Networks\n",
    "- Name: Colin Bowers (bowerc3)\n",
    "- Date: "
   ]
  },
  {
   "cell_type": "markdown",
   "id": "98384c92-bd8b-4208-ac33-b042cf43ae4b",
   "metadata": {},
   "source": [
    "**1) Why do we need deep learning? Why is machine learning not enough? Mention at most three bullets (reasons) and briefly explain them.**"
   ]
  },
  {
   "cell_type": "markdown",
   "id": "eee375df-66e0-4ff0-871b-b782a25babff",
   "metadata": {},
   "source": [
    "Answer"
   ]
  },
  {
   "cell_type": "markdown",
   "id": "431b4431-cb6f-4d7a-8c3e-e70bbae00718",
   "metadata": {},
   "source": [
    "**2) Why is step function problematic to use in neural networks as an activation function? (hint: think of the loss function)**"
   ]
  },
  {
   "cell_type": "markdown",
   "id": "af688a89-312c-4fde-8a68-2e88030d1ac1",
   "metadata": {},
   "source": []
  },
  {
   "cell_type": "markdown",
   "id": "c50edb01-1497-4602-bcc4-2ab94a57404c",
   "metadata": {},
   "source": [
    "**3) Why is the squared error loss function (`(predicted-actual)^2` ) more convenient than the norm function (`||predicted-actual||`)**"
   ]
  },
  {
   "cell_type": "markdown",
   "id": "85cf378b-0023-4236-89ad-839d7a48dccc",
   "metadata": {},
   "source": []
  }
 ],
 "metadata": {
  "kernelspec": {
   "display_name": "Python 3 (ipykernel)",
   "language": "python",
   "name": "python3"
  },
  "language_info": {
   "codemirror_mode": {
    "name": "ipython",
    "version": 3
   },
   "file_extension": ".py",
   "mimetype": "text/x-python",
   "name": "python",
   "nbconvert_exporter": "python",
   "pygments_lexer": "ipython3",
   "version": "3.9.2"
  }
 },
 "nbformat": 4,
 "nbformat_minor": 5
}
