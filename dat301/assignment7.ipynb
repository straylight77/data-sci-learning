{
 "cells": [
  {
   "cell_type": "markdown",
   "metadata": {},
   "source": [
    "# Building paragraph vectors using Doc2Vec"
   ]
  },
  {
   "cell_type": "markdown",
   "metadata": {},
   "source": [
    "### Import common text corpus, Doc2Vec algorithm and Tagged Document functionality from Gensim"
   ]
  },
  {
   "cell_type": "code",
   "execution_count": 1,
   "metadata": {},
   "outputs": [],
   "source": [
    "#from ? import common_texts\n",
    "#from ? import Doc2Vec, TaggedDocument\n",
    "\n",
    "from gensim.test.utils import common_texts\n",
    "from gensim.models.doc2vec import Doc2Vec, TaggedDocument"
   ]
  },
  {
   "cell_type": "markdown",
   "metadata": {},
   "source": [
    "### Corpus on which training will happen"
   ]
  },
  {
   "cell_type": "code",
   "execution_count": 2,
   "metadata": {},
   "outputs": [
    {
     "data": {
      "text/plain": [
       "[['human', 'interface', 'computer'],\n",
       " ['survey', 'user', 'computer', 'system', 'response', 'time'],\n",
       " ['eps', 'user', 'interface', 'system'],\n",
       " ['system', 'human', 'system', 'eps'],\n",
       " ['user', 'response', 'time'],\n",
       " ['trees'],\n",
       " ['graph', 'trees'],\n",
       " ['graph', 'minors', 'trees'],\n",
       " ['graph', 'minors', 'survey']]"
      ]
     },
     "execution_count": 2,
     "metadata": {},
     "output_type": "execute_result"
    }
   ],
   "source": [
    "common_texts"
   ]
  },
  {
   "cell_type": "markdown",
   "metadata": {},
   "source": [
    "### Building Tagged Documents from the corpus as that's an expectation from the Doc2Vec model"
   ]
  },
  {
   "cell_type": "code",
   "execution_count": 3,
   "metadata": {},
   "outputs": [],
   "source": [
    "documents = [TaggedDocument(doc, [i]) for i, doc in enumerate(common_texts)]"
   ]
  },
  {
   "cell_type": "code",
   "execution_count": 4,
   "metadata": {},
   "outputs": [
    {
     "data": {
      "text/plain": [
       "[TaggedDocument(words=['human', 'interface', 'computer'], tags=[0]),\n",
       " TaggedDocument(words=['survey', 'user', 'computer', 'system', 'response', 'time'], tags=[1]),\n",
       " TaggedDocument(words=['eps', 'user', 'interface', 'system'], tags=[2]),\n",
       " TaggedDocument(words=['system', 'human', 'system', 'eps'], tags=[3]),\n",
       " TaggedDocument(words=['user', 'response', 'time'], tags=[4]),\n",
       " TaggedDocument(words=['trees'], tags=[5]),\n",
       " TaggedDocument(words=['graph', 'trees'], tags=[6]),\n",
       " TaggedDocument(words=['graph', 'minors', 'trees'], tags=[7]),\n",
       " TaggedDocument(words=['graph', 'minors', 'survey'], tags=[8])]"
      ]
     },
     "execution_count": 4,
     "metadata": {},
     "output_type": "execute_result"
    }
   ],
   "source": [
    "documents"
   ]
  },
  {
   "cell_type": "markdown",
   "metadata": {},
   "source": [
    "### Building a basic Doc2Vec model"
   ]
  },
  {
   "cell_type": "code",
   "execution_count": 5,
   "metadata": {},
   "outputs": [],
   "source": [
    "# model = Doc2Vec(?)\n",
    "\n",
    "model = Doc2Vec(documents, vector_size=5, window=2, min_count=1, workers=4)\n",
    "model.train(documents, total_examples=model.corpus_count, epochs=model.epochs)"
   ]
  },
  {
   "cell_type": "markdown",
   "metadata": {},
   "source": [
    "### What's the vector size (should be 5 as we specified it on top)"
   ]
  },
  {
   "cell_type": "code",
   "execution_count": 6,
   "metadata": {},
   "outputs": [
    {
     "data": {
      "text/plain": [
       "5"
      ]
     },
     "execution_count": 6,
     "metadata": {},
     "output_type": "execute_result"
    }
   ],
   "source": [
    "model.vector_size"
   ]
  },
  {
   "cell_type": "markdown",
   "metadata": {},
   "source": [
    "### How many document vectors did we train?"
   ]
  },
  {
   "cell_type": "code",
   "execution_count": 7,
   "metadata": {},
   "outputs": [
    {
     "data": {
      "text/plain": [
       "9"
      ]
     },
     "execution_count": 7,
     "metadata": {},
     "output_type": "execute_result"
    }
   ],
   "source": [
    "len(model.dv)   #Document vectors"
   ]
  },
  {
   "cell_type": "markdown",
   "metadata": {},
   "source": [
    "### Let's check out the vocabulary information for the model we built"
   ]
  },
  {
   "cell_type": "code",
   "execution_count": 8,
   "metadata": {},
   "outputs": [
    {
     "data": {
      "text/plain": [
       "12"
      ]
     },
     "execution_count": 8,
     "metadata": {},
     "output_type": "execute_result"
    }
   ],
   "source": [
    "len(model.wv.index_to_key)"
   ]
  },
  {
   "cell_type": "code",
   "execution_count": 9,
   "metadata": {},
   "outputs": [
    {
     "data": {
      "text/plain": [
       "['system',\n",
       " 'graph',\n",
       " 'trees',\n",
       " 'user',\n",
       " 'minors',\n",
       " 'eps',\n",
       " 'time',\n",
       " 'response',\n",
       " 'survey',\n",
       " 'computer',\n",
       " 'interface',\n",
       " 'human']"
      ]
     },
     "execution_count": 9,
     "metadata": {},
     "output_type": "execute_result"
    }
   ],
   "source": [
    "model.wv.index_to_key"
   ]
  },
  {
   "cell_type": "markdown",
   "metadata": {},
   "source": [
    "### Let's infer a vector based on the trained Doc2Vec model"
   ]
  },
  {
   "cell_type": "code",
   "execution_count": 10,
   "metadata": {},
   "outputs": [
    {
     "name": "stdout",
     "output_type": "stream",
     "text": [
      "[ 0.03293113 -0.02662134 -0.0981342  -0.08141453  0.09705759]\n"
     ]
    }
   ],
   "source": [
    "vector = model.infer_vector(['user', 'interface', 'for', 'computer'])\n",
    "print(vector)"
   ]
  },
  {
   "cell_type": "markdown",
   "metadata": {},
   "source": [
    "### Building a new model changing vector size and minimum count eligibility"
   ]
  },
  {
   "cell_type": "code",
   "execution_count": 11,
   "metadata": {},
   "outputs": [],
   "source": [
    "# model = Doc2Vec(?)\n",
    "# model.train(?)\n",
    "\n",
    "#model = Doc2Vec(documents, vector_size=5, window=2, min_count=1, workers=4)\n",
    "model = Doc2Vec(documents, vector_size=7, window=2, min_count=3, workers=4)\n",
    "model.train(documents, total_examples=model.corpus_count, epochs=model.epochs)"
   ]
  },
  {
   "cell_type": "code",
   "execution_count": 12,
   "metadata": {},
   "outputs": [
    {
     "data": {
      "text/plain": [
       "4"
      ]
     },
     "execution_count": 12,
     "metadata": {},
     "output_type": "execute_result"
    }
   ],
   "source": [
    "len(model.wv.index_to_key)"
   ]
  },
  {
   "cell_type": "code",
   "execution_count": 13,
   "metadata": {},
   "outputs": [
    {
     "data": {
      "text/plain": [
       "['system', 'graph', 'trees', 'user']"
      ]
     },
     "execution_count": 13,
     "metadata": {},
     "output_type": "execute_result"
    }
   ],
   "source": [
    "model.wv.index_to_key"
   ]
  },
  {
   "cell_type": "code",
   "execution_count": 14,
   "metadata": {},
   "outputs": [
    {
     "name": "stdout",
     "output_type": "stream",
     "text": [
      "[ 0.02379395 -0.01874841 -0.06993768 -0.05767021  0.06916166  0.00329727\n",
      "  0.02780787]\n"
     ]
    }
   ],
   "source": [
    "vector = model.infer_vector(['user', 'interface', 'for', 'computer'])\n",
    "print(vector)"
   ]
  },
  {
   "cell_type": "markdown",
   "metadata": {},
   "source": [
    "### Doc2Vec built next would be based on the distributed memory model (dm=1)"
   ]
  },
  {
   "cell_type": "code",
   "execution_count": 15,
   "metadata": {},
   "outputs": [],
   "source": [
    "model = Doc2Vec(documents, vector_size=50, min_count=2, epochs=40, dm=1)\n",
    "model.train(documents, total_examples=model.corpus_count, epochs=model.epochs)"
   ]
  },
  {
   "cell_type": "code",
   "execution_count": 16,
   "metadata": {},
   "outputs": [
    {
     "name": "stdout",
     "output_type": "stream",
     "text": [
      "[ 2.5129565e-03 -2.8590413e-03 -1.0210509e-02 -8.0397967e-03\n",
      "  9.4767064e-03  5.8537838e-04  3.6829989e-03 -5.4965434e-03\n",
      "  5.4534199e-03 -8.5089793e-03  9.3203067e-04  7.6628434e-03\n",
      "  9.2476262e-03  2.7751974e-03 -3.1386586e-04  3.9385525e-03\n",
      "  8.6753592e-03 -5.1197823e-04 -5.3686218e-04  1.0690932e-03\n",
      " -6.9114598e-03  8.7153092e-03 -3.9105187e-03 -2.9129456e-03\n",
      "  1.8245125e-03  5.2273981e-03 -3.3608309e-03 -7.7027720e-03\n",
      "  2.0877616e-03  5.5428012e-03 -2.8104393e-03  9.5390230e-03\n",
      " -4.2544394e-03 -6.6519314e-03 -8.8612894e-03 -6.4202650e-03\n",
      " -4.9203741e-03  1.4183531e-03 -9.7441947e-04 -8.5901897e-03\n",
      " -7.3711146e-03 -6.7650247e-04  8.8987118e-03 -6.1776289e-03\n",
      "  7.6986616e-05  9.4282506e-03  4.3436363e-03 -1.7463474e-04\n",
      " -9.0976479e-03 -6.9590560e-03]\n"
     ]
    }
   ],
   "source": [
    "vector = model.infer_vector(['user', 'interface', 'for', 'computer'])\n",
    "print(vector)"
   ]
  },
  {
   "cell_type": "markdown",
   "metadata": {},
   "source": [
    "### Doc2Vec built next would be based on the distributed bag of words approach (dm=0)"
   ]
  },
  {
   "cell_type": "code",
   "execution_count": 17,
   "metadata": {},
   "outputs": [],
   "source": [
    "model = Doc2Vec(documents, vector_size=50, min_count=2, epochs=40, dm=0)\n",
    "model.train(documents, total_examples=model.corpus_count, epochs=model.epochs)"
   ]
  },
  {
   "cell_type": "code",
   "execution_count": 18,
   "metadata": {},
   "outputs": [
    {
     "name": "stdout",
     "output_type": "stream",
     "text": [
      "[ 1.1956806e-03 -3.0869329e-03 -1.0814469e-02 -8.3818417e-03\n",
      "  9.0184361e-03  1.0042791e-03  3.1785793e-03 -4.4365115e-03\n",
      "  4.7955173e-03 -7.7096201e-03  1.3397253e-03  8.6195320e-03\n",
      "  9.7257709e-03  2.3056911e-03  4.1872950e-04  3.1840059e-03\n",
      "  8.0039306e-03 -3.3426576e-04 -1.1747690e-03  1.2832819e-03\n",
      " -7.5377515e-03  8.7644309e-03 -4.6716793e-03 -2.8593750e-03\n",
      "  1.5519031e-03  5.4514515e-03 -3.8221446e-03 -8.8624144e-03\n",
      "  2.0898974e-03  5.3269831e-03 -1.7528564e-03  1.0529709e-02\n",
      " -5.4976023e-03 -6.2896311e-03 -9.0830075e-03 -5.3400826e-03\n",
      " -5.4107546e-03  7.3501322e-04 -6.4538821e-04 -8.8071488e-03\n",
      " -8.1274752e-03  1.6123378e-04  8.5588675e-03 -7.0014503e-03\n",
      " -9.8662963e-04  1.0270949e-02  4.9251947e-03 -1.0129650e-05\n",
      " -8.4090969e-03 -7.2670938e-03]\n"
     ]
    }
   ],
   "source": [
    "vector = model.infer_vector(['user', 'interface', 'for', 'computer'])\n",
    "print(vector)"
   ]
  },
  {
   "cell_type": "markdown",
   "metadata": {},
   "source": [
    "### Adding the window size which controls the maximum distance between current and predicted word"
   ]
  },
  {
   "cell_type": "code",
   "execution_count": 19,
   "metadata": {},
   "outputs": [],
   "source": [
    "model = Doc2Vec(documents, vector_size=50, min_count=2, epochs=40, window=2, dm=0)\n",
    "model.train(documents, total_examples=model.corpus_count, epochs=model.epochs)"
   ]
  },
  {
   "cell_type": "code",
   "execution_count": 20,
   "metadata": {},
   "outputs": [
    {
     "name": "stdout",
     "output_type": "stream",
     "text": [
      "[ 1.1956806e-03 -3.0869329e-03 -1.0814469e-02 -8.3818417e-03\n",
      "  9.0184361e-03  1.0042791e-03  3.1785793e-03 -4.4365115e-03\n",
      "  4.7955173e-03 -7.7096201e-03  1.3397253e-03  8.6195320e-03\n",
      "  9.7257709e-03  2.3056911e-03  4.1872950e-04  3.1840059e-03\n",
      "  8.0039306e-03 -3.3426576e-04 -1.1747690e-03  1.2832819e-03\n",
      " -7.5377515e-03  8.7644309e-03 -4.6716793e-03 -2.8593750e-03\n",
      "  1.5519031e-03  5.4514515e-03 -3.8221446e-03 -8.8624144e-03\n",
      "  2.0898974e-03  5.3269831e-03 -1.7528564e-03  1.0529709e-02\n",
      " -5.4976023e-03 -6.2896311e-03 -9.0830075e-03 -5.3400826e-03\n",
      " -5.4107546e-03  7.3501322e-04 -6.4538821e-04 -8.8071488e-03\n",
      " -8.1274752e-03  1.6123378e-04  8.5588675e-03 -7.0014503e-03\n",
      " -9.8662963e-04  1.0270949e-02  4.9251947e-03 -1.0129650e-05\n",
      " -8.4090969e-03 -7.2670938e-03]\n"
     ]
    }
   ],
   "source": [
    "vector = model.infer_vector(['user', 'interface', 'for', 'computer'])\n",
    "print(vector)"
   ]
  },
  {
   "cell_type": "markdown",
   "metadata": {},
   "source": [
    "### Adding initial learning rate and to what value should the learning rate drop to linearly over training (alpha and min_alpha)"
   ]
  },
  {
   "cell_type": "code",
   "execution_count": 21,
   "metadata": {},
   "outputs": [],
   "source": [
    "model = Doc2Vec(documents, vector_size=50, min_count=2, epochs=40, window=2, dm=1, alpha=0.3, min_alpha=0.05)\n",
    "model.train(documents, total_examples=model.corpus_count, epochs=model.epochs)"
   ]
  },
  {
   "cell_type": "code",
   "execution_count": 22,
   "metadata": {},
   "outputs": [
    {
     "name": "stdout",
     "output_type": "stream",
     "text": [
      "[-0.3116695  -0.06601492 -0.2128796  -0.01449418 -0.12568796  0.11837932\n",
      " -0.16337775  0.17997113 -0.2682414   0.10986268  0.23731141  0.27597734\n",
      "  0.12723248 -0.2459707   0.1738427  -0.34377733 -0.07230664  0.1342671\n",
      " -0.34074977 -0.03962194 -0.07792115  0.07897228 -0.17505121  0.1639164\n",
      " -0.04400393  0.00153042 -0.21497984 -0.294362    0.06010399 -0.18453573\n",
      "  0.32766533  0.23394103 -0.35268384 -0.08386058 -0.09645905  0.17409483\n",
      " -0.03002277 -0.18035829 -0.02403978 -0.02102549 -0.13129906  0.1425839\n",
      "  0.01411033 -0.320395   -0.07225452  0.17664242  0.19141223 -0.01208675\n",
      "  0.22981837 -0.18284376]\n"
     ]
    }
   ],
   "source": [
    "vector = model.infer_vector(['user', 'interface', 'for', 'computer'])\n",
    "print(vector)"
   ]
  },
  {
   "cell_type": "markdown",
   "metadata": {},
   "source": [
    "### Adding the dm_concat parameter to use concatenation of the word vectors"
   ]
  },
  {
   "cell_type": "code",
   "execution_count": 23,
   "metadata": {},
   "outputs": [],
   "source": [
    "model = Doc2Vec(documents, vector_size=50, min_count=2, epochs=40, window=2, dm=1, alpha=0.3, min_alpha=0.05, dm_concat=1)\n",
    "model.train(documents, total_examples=model.corpus_count, epochs=model.epochs)"
   ]
  },
  {
   "cell_type": "code",
   "execution_count": 24,
   "metadata": {},
   "outputs": [
    {
     "name": "stdout",
     "output_type": "stream",
     "text": [
      "[ 0.04777847 -0.20345844 -0.12236764  0.00234138  0.16302675  0.0704403\n",
      "  0.03137877 -0.26562873  0.01451985  0.15653662 -0.10641309 -0.00304061\n",
      " -0.16838989 -0.16320062 -0.0136105  -0.15011762  0.05093559  0.07773345\n",
      " -0.04338858 -0.19250438  0.00038292  0.02871701 -0.09549067  0.02508996\n",
      " -0.23537222 -0.07913156 -0.27294657 -0.02029568  0.07792161 -0.16285662\n",
      "  0.17589653 -0.018581    0.05937042 -0.21337499  0.08752288 -0.15831311\n",
      "  0.05485035 -0.11159986 -0.00775797  0.02896574  0.19826813 -0.01855795\n",
      "  0.23285119 -0.22438459  0.04836055 -0.06588319  0.05368444 -0.00673405\n",
      " -0.00069261 -0.15612529]\n"
     ]
    }
   ],
   "source": [
    "vector = model.infer_vector(['user', 'interface', 'for', 'computer'])\n",
    "print(vector)"
   ]
  },
  {
   "cell_type": "markdown",
   "metadata": {},
   "source": [
    "### Adding the dm_mean parameter to use sum of the context word vectors (dm_mean=1)"
   ]
  },
  {
   "cell_type": "code",
   "execution_count": 25,
   "metadata": {},
   "outputs": [],
   "source": [
    "model = Doc2Vec(documents, vector_size=50, min_count=2, epochs=40, window=2, dm=1, dm_concat=0, dm_mean=1, alpha=0.3, min_alpha=0.05)\n",
    "model.train(documents, total_examples=model.corpus_count, epochs=model.epochs)"
   ]
  },
  {
   "cell_type": "code",
   "execution_count": 26,
   "metadata": {},
   "outputs": [
    {
     "name": "stdout",
     "output_type": "stream",
     "text": [
      "[-0.3116695  -0.06601492 -0.2128796  -0.01449418 -0.12568796  0.11837932\n",
      " -0.16337775  0.17997113 -0.2682414   0.10986268  0.23731141  0.27597734\n",
      "  0.12723248 -0.2459707   0.1738427  -0.34377733 -0.07230664  0.1342671\n",
      " -0.34074977 -0.03962194 -0.07792115  0.07897228 -0.17505121  0.1639164\n",
      " -0.04400393  0.00153042 -0.21497984 -0.294362    0.06010399 -0.18453573\n",
      "  0.32766533  0.23394103 -0.35268384 -0.08386058 -0.09645905  0.17409483\n",
      " -0.03002277 -0.18035829 -0.02403978 -0.02102549 -0.13129906  0.1425839\n",
      "  0.01411033 -0.320395   -0.07225452  0.17664242  0.19141223 -0.01208675\n",
      "  0.22981837 -0.18284376]\n"
     ]
    }
   ],
   "source": [
    "vector = model.infer_vector(['user', 'interface', 'for', 'computer'])\n",
    "print(vector)"
   ]
  },
  {
   "cell_type": "markdown",
   "metadata": {},
   "source": [
    "### Adding the dm_mean parameter to use mean of the context word vectors (dm_mean=0)"
   ]
  },
  {
   "cell_type": "code",
   "execution_count": 27,
   "metadata": {},
   "outputs": [],
   "source": [
    "model = Doc2Vec(documents, vector_size=50, min_count=2, epochs=40, window=2, dm=1, dm_concat=0, dm_mean=0, alpha=0.3, min_alpha=0.05)\n",
    "model.train(documents, total_examples=model.corpus_count, epochs=model.epochs)"
   ]
  },
  {
   "cell_type": "code",
   "execution_count": 28,
   "metadata": {},
   "outputs": [
    {
     "name": "stdout",
     "output_type": "stream",
     "text": [
      "[-0.3116695  -0.06601492 -0.2128796  -0.01449418 -0.12568796  0.11837932\n",
      " -0.16337775  0.17997113 -0.2682414   0.10986268  0.23731141  0.27597734\n",
      "  0.12723248 -0.2459707   0.1738427  -0.34377733 -0.07230664  0.1342671\n",
      " -0.34074977 -0.03962194 -0.07792115  0.07897228 -0.17505121  0.1639164\n",
      " -0.04400393  0.00153042 -0.21497984 -0.294362    0.06010399 -0.18453573\n",
      "  0.32766533  0.23394103 -0.35268384 -0.08386058 -0.09645905  0.17409483\n",
      " -0.03002277 -0.18035829 -0.02403978 -0.02102549 -0.13129906  0.1425839\n",
      "  0.01411033 -0.320395   -0.07225452  0.17664242  0.19141223 -0.01208675\n",
      "  0.22981837 -0.18284376]\n"
     ]
    }
   ],
   "source": [
    "vector = model.infer_vector(['user', 'interface', 'for', 'computer'])\n",
    "print(vector)"
   ]
  },
  {
   "cell_type": "code",
   "execution_count": null,
   "metadata": {},
   "outputs": [],
   "source": []
  }
 ],
 "metadata": {
  "kernelspec": {
   "display_name": "Python 3 (ipykernel)",
   "language": "python",
   "name": "python3"
  },
  "language_info": {
   "codemirror_mode": {
    "name": "ipython",
    "version": 3
   },
   "file_extension": ".py",
   "mimetype": "text/x-python",
   "name": "python",
   "nbconvert_exporter": "python",
   "pygments_lexer": "ipython3",
   "version": "3.11.2"
  }
 },
 "nbformat": 4,
 "nbformat_minor": 4
}
