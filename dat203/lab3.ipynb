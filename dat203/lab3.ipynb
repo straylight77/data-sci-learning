{
 "cells": [
  {
   "cell_type": "markdown",
   "id": "d57e1391-cf62-4584-867f-c09207737aa2",
   "metadata": {},
   "source": [
    "# DAT 203 - Lab Assignment #3\n",
    "\n",
    "- Author: Colin Bowers\n",
    "- Date: May 27, 2023"
   ]
  },
  {
   "cell_type": "code",
   "execution_count": 1,
   "id": "6c794380-49a7-4910-b0ec-b675624de057",
   "metadata": {
    "tags": []
   },
   "outputs": [],
   "source": [
    "import numpy as np\n",
    "import pandas as pd\n",
    "import matplotlib.pyplot as plt\n",
    "import sklearn as sk "
   ]
  },
  {
   "cell_type": "code",
   "execution_count": 2,
   "id": "152ae741-0eeb-4ec0-9130-faffff2d7b61",
   "metadata": {
    "tags": []
   },
   "outputs": [],
   "source": [
    "import json\n",
    "def get_data(column, df, key):\n",
    "    df_temp = pd.DataFrame([])\n",
    "    for i in column:\n",
    "        json_data = json.loads(i)\n",
    "        df1 = pd.DataFrame.from_dict(json_data)\n",
    "        if len(i) > 2:\n",
    "            df2 = pd.DataFrame([df1[key][0]])\n",
    "        else:\n",
    "            df2 = df1\n",
    "        df_temp = pd.concat([df_temp, df2], ignore_index=True)\n",
    "\n",
    "    df = pd.concat([df, df_temp], axis=1)\n",
    "    return df\n"
   ]
  },
  {
   "cell_type": "markdown",
   "id": "e70c4178-972c-4a7b-82cd-ce126654c1e8",
   "metadata": {},
   "source": [
    "## PART I"
   ]
  },
  {
   "cell_type": "markdown",
   "id": "98f67af3-e1fb-4afb-9bf3-cd0ed37bfe21",
   "metadata": {},
   "source": [
    "### 1. Import csv dataset (MOVIE DATASET)"
   ]
  },
  {
   "cell_type": "code",
   "execution_count": 3,
   "id": "36e63278-b793-4604-8793-fdcfa343e699",
   "metadata": {
    "tags": []
   },
   "outputs": [],
   "source": [
    "df = pd.read_csv(\"data/tmdb_5000_movies.csv\")"
   ]
  },
  {
   "cell_type": "code",
   "execution_count": 4,
   "id": "fe46b90d-7b44-4469-99e5-43fb62949fb5",
   "metadata": {
    "tags": []
   },
   "outputs": [
    {
     "data": {
      "text/html": [
       "<div>\n",
       "<style scoped>\n",
       "    .dataframe tbody tr th:only-of-type {\n",
       "        vertical-align: middle;\n",
       "    }\n",
       "\n",
       "    .dataframe tbody tr th {\n",
       "        vertical-align: top;\n",
       "    }\n",
       "\n",
       "    .dataframe thead th {\n",
       "        text-align: right;\n",
       "    }\n",
       "</style>\n",
       "<table border=\"1\" class=\"dataframe\">\n",
       "  <thead>\n",
       "    <tr style=\"text-align: right;\">\n",
       "      <th></th>\n",
       "      <th>budget</th>\n",
       "      <th>genres</th>\n",
       "      <th>homepage</th>\n",
       "      <th>id</th>\n",
       "      <th>keywords</th>\n",
       "      <th>original_language</th>\n",
       "      <th>original_title</th>\n",
       "      <th>overview</th>\n",
       "      <th>popularity</th>\n",
       "      <th>production_companies</th>\n",
       "      <th>production_countries</th>\n",
       "      <th>release_date</th>\n",
       "      <th>revenue</th>\n",
       "      <th>runtime</th>\n",
       "      <th>spoken_languages</th>\n",
       "      <th>status</th>\n",
       "      <th>tagline</th>\n",
       "      <th>title</th>\n",
       "      <th>vote_average</th>\n",
       "      <th>vote_count</th>\n",
       "    </tr>\n",
       "  </thead>\n",
       "  <tbody>\n",
       "    <tr>\n",
       "      <th>0</th>\n",
       "      <td>237000000</td>\n",
       "      <td>[{\"id\": 28, \"name\": \"Action\"}, {\"id\": 12, \"nam...</td>\n",
       "      <td>http://www.avatarmovie.com/</td>\n",
       "      <td>19995</td>\n",
       "      <td>[{\"id\": 1463, \"name\": \"culture clash\"}, {\"id\":...</td>\n",
       "      <td>en</td>\n",
       "      <td>Avatar</td>\n",
       "      <td>In the 22nd century, a paraplegic Marine is di...</td>\n",
       "      <td>150.437577</td>\n",
       "      <td>[{\"name\": \"Ingenious Film Partners\", \"id\": 289...</td>\n",
       "      <td>[{\"iso_3166_1\": \"US\", \"name\": \"United States o...</td>\n",
       "      <td>2009-12-10</td>\n",
       "      <td>2787965087</td>\n",
       "      <td>162.0</td>\n",
       "      <td>[{\"iso_639_1\": \"en\", \"name\": \"English\"}, {\"iso...</td>\n",
       "      <td>Released</td>\n",
       "      <td>Enter the World of Pandora.</td>\n",
       "      <td>Avatar</td>\n",
       "      <td>7.2</td>\n",
       "      <td>11800</td>\n",
       "    </tr>\n",
       "    <tr>\n",
       "      <th>1</th>\n",
       "      <td>300000000</td>\n",
       "      <td>[{\"id\": 12, \"name\": \"Adventure\"}, {\"id\": 14, \"...</td>\n",
       "      <td>http://disney.go.com/disneypictures/pirates/</td>\n",
       "      <td>285</td>\n",
       "      <td>[{\"id\": 270, \"name\": \"ocean\"}, {\"id\": 726, \"na...</td>\n",
       "      <td>en</td>\n",
       "      <td>Pirates of the Caribbean: At World's End</td>\n",
       "      <td>Captain Barbossa, long believed to be dead, ha...</td>\n",
       "      <td>139.082615</td>\n",
       "      <td>[{\"name\": \"Walt Disney Pictures\", \"id\": 2}, {\"...</td>\n",
       "      <td>[{\"iso_3166_1\": \"US\", \"name\": \"United States o...</td>\n",
       "      <td>2007-05-19</td>\n",
       "      <td>961000000</td>\n",
       "      <td>169.0</td>\n",
       "      <td>[{\"iso_639_1\": \"en\", \"name\": \"English\"}]</td>\n",
       "      <td>Released</td>\n",
       "      <td>At the end of the world, the adventure begins.</td>\n",
       "      <td>Pirates of the Caribbean: At World's End</td>\n",
       "      <td>6.9</td>\n",
       "      <td>4500</td>\n",
       "    </tr>\n",
       "    <tr>\n",
       "      <th>2</th>\n",
       "      <td>245000000</td>\n",
       "      <td>[{\"id\": 28, \"name\": \"Action\"}, {\"id\": 12, \"nam...</td>\n",
       "      <td>http://www.sonypictures.com/movies/spectre/</td>\n",
       "      <td>206647</td>\n",
       "      <td>[{\"id\": 470, \"name\": \"spy\"}, {\"id\": 818, \"name...</td>\n",
       "      <td>en</td>\n",
       "      <td>Spectre</td>\n",
       "      <td>A cryptic message from Bond’s past sends him o...</td>\n",
       "      <td>107.376788</td>\n",
       "      <td>[{\"name\": \"Columbia Pictures\", \"id\": 5}, {\"nam...</td>\n",
       "      <td>[{\"iso_3166_1\": \"GB\", \"name\": \"United Kingdom\"...</td>\n",
       "      <td>2015-10-26</td>\n",
       "      <td>880674609</td>\n",
       "      <td>148.0</td>\n",
       "      <td>[{\"iso_639_1\": \"fr\", \"name\": \"Fran\\u00e7ais\"},...</td>\n",
       "      <td>Released</td>\n",
       "      <td>A Plan No One Escapes</td>\n",
       "      <td>Spectre</td>\n",
       "      <td>6.3</td>\n",
       "      <td>4466</td>\n",
       "    </tr>\n",
       "    <tr>\n",
       "      <th>3</th>\n",
       "      <td>250000000</td>\n",
       "      <td>[{\"id\": 28, \"name\": \"Action\"}, {\"id\": 80, \"nam...</td>\n",
       "      <td>http://www.thedarkknightrises.com/</td>\n",
       "      <td>49026</td>\n",
       "      <td>[{\"id\": 849, \"name\": \"dc comics\"}, {\"id\": 853,...</td>\n",
       "      <td>en</td>\n",
       "      <td>The Dark Knight Rises</td>\n",
       "      <td>Following the death of District Attorney Harve...</td>\n",
       "      <td>112.312950</td>\n",
       "      <td>[{\"name\": \"Legendary Pictures\", \"id\": 923}, {\"...</td>\n",
       "      <td>[{\"iso_3166_1\": \"US\", \"name\": \"United States o...</td>\n",
       "      <td>2012-07-16</td>\n",
       "      <td>1084939099</td>\n",
       "      <td>165.0</td>\n",
       "      <td>[{\"iso_639_1\": \"en\", \"name\": \"English\"}]</td>\n",
       "      <td>Released</td>\n",
       "      <td>The Legend Ends</td>\n",
       "      <td>The Dark Knight Rises</td>\n",
       "      <td>7.6</td>\n",
       "      <td>9106</td>\n",
       "    </tr>\n",
       "    <tr>\n",
       "      <th>4</th>\n",
       "      <td>260000000</td>\n",
       "      <td>[{\"id\": 28, \"name\": \"Action\"}, {\"id\": 12, \"nam...</td>\n",
       "      <td>http://movies.disney.com/john-carter</td>\n",
       "      <td>49529</td>\n",
       "      <td>[{\"id\": 818, \"name\": \"based on novel\"}, {\"id\":...</td>\n",
       "      <td>en</td>\n",
       "      <td>John Carter</td>\n",
       "      <td>John Carter is a war-weary, former military ca...</td>\n",
       "      <td>43.926995</td>\n",
       "      <td>[{\"name\": \"Walt Disney Pictures\", \"id\": 2}]</td>\n",
       "      <td>[{\"iso_3166_1\": \"US\", \"name\": \"United States o...</td>\n",
       "      <td>2012-03-07</td>\n",
       "      <td>284139100</td>\n",
       "      <td>132.0</td>\n",
       "      <td>[{\"iso_639_1\": \"en\", \"name\": \"English\"}]</td>\n",
       "      <td>Released</td>\n",
       "      <td>Lost in our world, found in another.</td>\n",
       "      <td>John Carter</td>\n",
       "      <td>6.1</td>\n",
       "      <td>2124</td>\n",
       "    </tr>\n",
       "  </tbody>\n",
       "</table>\n",
       "</div>"
      ],
      "text/plain": [
       "      budget                                             genres  \\\n",
       "0  237000000  [{\"id\": 28, \"name\": \"Action\"}, {\"id\": 12, \"nam...   \n",
       "1  300000000  [{\"id\": 12, \"name\": \"Adventure\"}, {\"id\": 14, \"...   \n",
       "2  245000000  [{\"id\": 28, \"name\": \"Action\"}, {\"id\": 12, \"nam...   \n",
       "3  250000000  [{\"id\": 28, \"name\": \"Action\"}, {\"id\": 80, \"nam...   \n",
       "4  260000000  [{\"id\": 28, \"name\": \"Action\"}, {\"id\": 12, \"nam...   \n",
       "\n",
       "                                       homepage      id  \\\n",
       "0                   http://www.avatarmovie.com/   19995   \n",
       "1  http://disney.go.com/disneypictures/pirates/     285   \n",
       "2   http://www.sonypictures.com/movies/spectre/  206647   \n",
       "3            http://www.thedarkknightrises.com/   49026   \n",
       "4          http://movies.disney.com/john-carter   49529   \n",
       "\n",
       "                                            keywords original_language  \\\n",
       "0  [{\"id\": 1463, \"name\": \"culture clash\"}, {\"id\":...                en   \n",
       "1  [{\"id\": 270, \"name\": \"ocean\"}, {\"id\": 726, \"na...                en   \n",
       "2  [{\"id\": 470, \"name\": \"spy\"}, {\"id\": 818, \"name...                en   \n",
       "3  [{\"id\": 849, \"name\": \"dc comics\"}, {\"id\": 853,...                en   \n",
       "4  [{\"id\": 818, \"name\": \"based on novel\"}, {\"id\":...                en   \n",
       "\n",
       "                             original_title  \\\n",
       "0                                    Avatar   \n",
       "1  Pirates of the Caribbean: At World's End   \n",
       "2                                   Spectre   \n",
       "3                     The Dark Knight Rises   \n",
       "4                               John Carter   \n",
       "\n",
       "                                            overview  popularity  \\\n",
       "0  In the 22nd century, a paraplegic Marine is di...  150.437577   \n",
       "1  Captain Barbossa, long believed to be dead, ha...  139.082615   \n",
       "2  A cryptic message from Bond’s past sends him o...  107.376788   \n",
       "3  Following the death of District Attorney Harve...  112.312950   \n",
       "4  John Carter is a war-weary, former military ca...   43.926995   \n",
       "\n",
       "                                production_companies  \\\n",
       "0  [{\"name\": \"Ingenious Film Partners\", \"id\": 289...   \n",
       "1  [{\"name\": \"Walt Disney Pictures\", \"id\": 2}, {\"...   \n",
       "2  [{\"name\": \"Columbia Pictures\", \"id\": 5}, {\"nam...   \n",
       "3  [{\"name\": \"Legendary Pictures\", \"id\": 923}, {\"...   \n",
       "4        [{\"name\": \"Walt Disney Pictures\", \"id\": 2}]   \n",
       "\n",
       "                                production_countries release_date     revenue  \\\n",
       "0  [{\"iso_3166_1\": \"US\", \"name\": \"United States o...   2009-12-10  2787965087   \n",
       "1  [{\"iso_3166_1\": \"US\", \"name\": \"United States o...   2007-05-19   961000000   \n",
       "2  [{\"iso_3166_1\": \"GB\", \"name\": \"United Kingdom\"...   2015-10-26   880674609   \n",
       "3  [{\"iso_3166_1\": \"US\", \"name\": \"United States o...   2012-07-16  1084939099   \n",
       "4  [{\"iso_3166_1\": \"US\", \"name\": \"United States o...   2012-03-07   284139100   \n",
       "\n",
       "   runtime                                   spoken_languages    status  \\\n",
       "0    162.0  [{\"iso_639_1\": \"en\", \"name\": \"English\"}, {\"iso...  Released   \n",
       "1    169.0           [{\"iso_639_1\": \"en\", \"name\": \"English\"}]  Released   \n",
       "2    148.0  [{\"iso_639_1\": \"fr\", \"name\": \"Fran\\u00e7ais\"},...  Released   \n",
       "3    165.0           [{\"iso_639_1\": \"en\", \"name\": \"English\"}]  Released   \n",
       "4    132.0           [{\"iso_639_1\": \"en\", \"name\": \"English\"}]  Released   \n",
       "\n",
       "                                          tagline  \\\n",
       "0                     Enter the World of Pandora.   \n",
       "1  At the end of the world, the adventure begins.   \n",
       "2                           A Plan No One Escapes   \n",
       "3                                 The Legend Ends   \n",
       "4            Lost in our world, found in another.   \n",
       "\n",
       "                                      title  vote_average  vote_count  \n",
       "0                                    Avatar           7.2       11800  \n",
       "1  Pirates of the Caribbean: At World's End           6.9        4500  \n",
       "2                                   Spectre           6.3        4466  \n",
       "3                     The Dark Knight Rises           7.6        9106  \n",
       "4                               John Carter           6.1        2124  "
      ]
     },
     "execution_count": 4,
     "metadata": {},
     "output_type": "execute_result"
    }
   ],
   "source": [
    "df.head()"
   ]
  },
  {
   "cell_type": "markdown",
   "id": "e269128f-e067-4894-81ba-d3241faff944",
   "metadata": {},
   "source": [
    "### 2. Identify what features have missing values"
   ]
  },
  {
   "cell_type": "code",
   "execution_count": 5,
   "id": "c46f448a-94a0-46f7-94e1-01f777f01b30",
   "metadata": {
    "tags": []
   },
   "outputs": [
    {
     "name": "stdout",
     "output_type": "stream",
     "text": [
      "<class 'pandas.core.frame.DataFrame'>\n",
      "RangeIndex: 4803 entries, 0 to 4802\n",
      "Data columns (total 20 columns):\n",
      " #   Column                Non-Null Count  Dtype  \n",
      "---  ------                --------------  -----  \n",
      " 0   budget                4803 non-null   int64  \n",
      " 1   genres                4803 non-null   object \n",
      " 2   homepage              1712 non-null   object \n",
      " 3   id                    4803 non-null   int64  \n",
      " 4   keywords              4803 non-null   object \n",
      " 5   original_language     4803 non-null   object \n",
      " 6   original_title        4803 non-null   object \n",
      " 7   overview              4800 non-null   object \n",
      " 8   popularity            4803 non-null   float64\n",
      " 9   production_companies  4803 non-null   object \n",
      " 10  production_countries  4803 non-null   object \n",
      " 11  release_date          4802 non-null   object \n",
      " 12  revenue               4803 non-null   int64  \n",
      " 13  runtime               4801 non-null   float64\n",
      " 14  spoken_languages      4803 non-null   object \n",
      " 15  status                4803 non-null   object \n",
      " 16  tagline               3959 non-null   object \n",
      " 17  title                 4803 non-null   object \n",
      " 18  vote_average          4803 non-null   float64\n",
      " 19  vote_count            4803 non-null   int64  \n",
      "dtypes: float64(3), int64(4), object(13)\n",
      "memory usage: 750.6+ KB\n"
     ]
    }
   ],
   "source": [
    "df.info()"
   ]
  },
  {
   "cell_type": "markdown",
   "id": "89cc9e8d-7814-4cd2-b500-fef338a8712b",
   "metadata": {},
   "source": [
    "> **Features with missing values:**\n",
    ">\n",
    "> 1. homepage\n",
    "> 2. overview\n",
    "> 3. release_date * \n",
    "> 4. runtime * \n",
    "> 5. tagline\n",
    ">\n",
    "> (*) numeric fields"
   ]
  },
  {
   "cell_type": "markdown",
   "id": "4b68dd0b-5446-4464-af99-d1cd642423ba",
   "metadata": {},
   "source": [
    "### 3. Replace missing values with 0"
   ]
  },
  {
   "cell_type": "code",
   "execution_count": 6,
   "id": "035eb5dd-7aee-431e-93f6-a3964f0610d0",
   "metadata": {
    "tags": []
   },
   "outputs": [
    {
     "name": "stdout",
     "output_type": "stream",
     "text": [
      "<class 'pandas.core.frame.DataFrame'>\n",
      "RangeIndex: 4803 entries, 0 to 4802\n",
      "Data columns (total 20 columns):\n",
      " #   Column                Non-Null Count  Dtype  \n",
      "---  ------                --------------  -----  \n",
      " 0   budget                4803 non-null   int64  \n",
      " 1   genres                4803 non-null   object \n",
      " 2   homepage              4803 non-null   object \n",
      " 3   id                    4803 non-null   int64  \n",
      " 4   keywords              4803 non-null   object \n",
      " 5   original_language     4803 non-null   object \n",
      " 6   original_title        4803 non-null   object \n",
      " 7   overview              4803 non-null   object \n",
      " 8   popularity            4803 non-null   float64\n",
      " 9   production_companies  4803 non-null   object \n",
      " 10  production_countries  4803 non-null   object \n",
      " 11  release_date          4803 non-null   object \n",
      " 12  revenue               4803 non-null   int64  \n",
      " 13  runtime               4803 non-null   float64\n",
      " 14  spoken_languages      4803 non-null   object \n",
      " 15  status                4803 non-null   object \n",
      " 16  tagline               4803 non-null   object \n",
      " 17  title                 4803 non-null   object \n",
      " 18  vote_average          4803 non-null   float64\n",
      " 19  vote_count            4803 non-null   int64  \n",
      "dtypes: float64(3), int64(4), object(13)\n",
      "memory usage: 750.6+ KB\n"
     ]
    }
   ],
   "source": [
    "df2 = df.fillna(0)\n",
    "df2.info()"
   ]
  },
  {
   "cell_type": "markdown",
   "id": "472f7898-6ed9-4d5e-a2cf-d84e6ae96554",
   "metadata": {},
   "source": [
    "### 4. Split dataset into training and test datasets in 0.7/0.3"
   ]
  },
  {
   "cell_type": "code",
   "execution_count": 7,
   "id": "39548407-1538-48b9-a095-7cec0adf3d3b",
   "metadata": {
    "tags": []
   },
   "outputs": [
    {
     "name": "stdout",
     "output_type": "stream",
     "text": [
      "<class 'pandas.core.frame.DataFrame'>\n",
      "Int64Index: 3362 entries, 1080 to 941\n",
      "Data columns (total 20 columns):\n",
      " #   Column                Non-Null Count  Dtype  \n",
      "---  ------                --------------  -----  \n",
      " 0   budget                3362 non-null   int64  \n",
      " 1   genres                3362 non-null   object \n",
      " 2   homepage              3362 non-null   object \n",
      " 3   id                    3362 non-null   int64  \n",
      " 4   keywords              3362 non-null   object \n",
      " 5   original_language     3362 non-null   object \n",
      " 6   original_title        3362 non-null   object \n",
      " 7   overview              3362 non-null   object \n",
      " 8   popularity            3362 non-null   float64\n",
      " 9   production_companies  3362 non-null   object \n",
      " 10  production_countries  3362 non-null   object \n",
      " 11  release_date          3362 non-null   object \n",
      " 12  revenue               3362 non-null   int64  \n",
      " 13  runtime               3362 non-null   float64\n",
      " 14  spoken_languages      3362 non-null   object \n",
      " 15  status                3362 non-null   object \n",
      " 16  tagline               3362 non-null   object \n",
      " 17  title                 3362 non-null   object \n",
      " 18  vote_average          3362 non-null   float64\n",
      " 19  vote_count            3362 non-null   int64  \n",
      "dtypes: float64(3), int64(4), object(13)\n",
      "memory usage: 551.6+ KB\n"
     ]
    }
   ],
   "source": [
    "from sklearn.model_selection import train_test_split\n",
    "\n",
    "train, test = train_test_split(df2, test_size=0.3)\n",
    "train.info()"
   ]
  },
  {
   "cell_type": "markdown",
   "id": "92781c0e-adf5-41aa-98a1-689849d5deed",
   "metadata": {},
   "source": [
    "### 5. Select all numerical features that can be used to predict ‘vote average’ target"
   ]
  },
  {
   "cell_type": "code",
   "execution_count": 8,
   "id": "0eb25138-d4ed-408e-9d50-36a810209728",
   "metadata": {
    "tags": []
   },
   "outputs": [
    {
     "name": "stdout",
     "output_type": "stream",
     "text": [
      "Index(['budget', 'id', 'popularity', 'revenue', 'runtime', 'vote_average',\n",
      "       'vote_count'],\n",
      "      dtype='object')\n"
     ]
    },
    {
     "data": {
      "text/html": [
       "<div>\n",
       "<style scoped>\n",
       "    .dataframe tbody tr th:only-of-type {\n",
       "        vertical-align: middle;\n",
       "    }\n",
       "\n",
       "    .dataframe tbody tr th {\n",
       "        vertical-align: top;\n",
       "    }\n",
       "\n",
       "    .dataframe thead th {\n",
       "        text-align: right;\n",
       "    }\n",
       "</style>\n",
       "<table border=\"1\" class=\"dataframe\">\n",
       "  <thead>\n",
       "    <tr style=\"text-align: right;\">\n",
       "      <th></th>\n",
       "      <th>budget</th>\n",
       "      <th>popularity</th>\n",
       "      <th>revenue</th>\n",
       "      <th>runtime</th>\n",
       "    </tr>\n",
       "  </thead>\n",
       "  <tbody>\n",
       "    <tr>\n",
       "      <th>1080</th>\n",
       "      <td>0</td>\n",
       "      <td>11.872841</td>\n",
       "      <td>0</td>\n",
       "      <td>133.0</td>\n",
       "    </tr>\n",
       "    <tr>\n",
       "      <th>2589</th>\n",
       "      <td>0</td>\n",
       "      <td>8.710294</td>\n",
       "      <td>0</td>\n",
       "      <td>87.0</td>\n",
       "    </tr>\n",
       "    <tr>\n",
       "      <th>11</th>\n",
       "      <td>200000000</td>\n",
       "      <td>107.928811</td>\n",
       "      <td>586090727</td>\n",
       "      <td>106.0</td>\n",
       "    </tr>\n",
       "    <tr>\n",
       "      <th>3910</th>\n",
       "      <td>0</td>\n",
       "      <td>14.936661</td>\n",
       "      <td>229094</td>\n",
       "      <td>84.0</td>\n",
       "    </tr>\n",
       "    <tr>\n",
       "      <th>53</th>\n",
       "      <td>185000000</td>\n",
       "      <td>75.674458</td>\n",
       "      <td>786636033</td>\n",
       "      <td>122.0</td>\n",
       "    </tr>\n",
       "    <tr>\n",
       "      <th>...</th>\n",
       "      <td>...</td>\n",
       "      <td>...</td>\n",
       "      <td>...</td>\n",
       "      <td>...</td>\n",
       "    </tr>\n",
       "    <tr>\n",
       "      <th>3472</th>\n",
       "      <td>0</td>\n",
       "      <td>8.483531</td>\n",
       "      <td>0</td>\n",
       "      <td>122.0</td>\n",
       "    </tr>\n",
       "    <tr>\n",
       "      <th>1606</th>\n",
       "      <td>30000000</td>\n",
       "      <td>10.608998</td>\n",
       "      <td>84646831</td>\n",
       "      <td>84.0</td>\n",
       "    </tr>\n",
       "    <tr>\n",
       "      <th>709</th>\n",
       "      <td>60000000</td>\n",
       "      <td>28.800112</td>\n",
       "      <td>204594016</td>\n",
       "      <td>133.0</td>\n",
       "    </tr>\n",
       "    <tr>\n",
       "      <th>892</th>\n",
       "      <td>52000000</td>\n",
       "      <td>40.066880</td>\n",
       "      <td>116112375</td>\n",
       "      <td>178.0</td>\n",
       "    </tr>\n",
       "    <tr>\n",
       "      <th>941</th>\n",
       "      <td>50000000</td>\n",
       "      <td>42.526529</td>\n",
       "      <td>69411370</td>\n",
       "      <td>144.0</td>\n",
       "    </tr>\n",
       "  </tbody>\n",
       "</table>\n",
       "<p>3362 rows × 4 columns</p>\n",
       "</div>"
      ],
      "text/plain": [
       "         budget  popularity    revenue  runtime\n",
       "1080          0   11.872841          0    133.0\n",
       "2589          0    8.710294          0     87.0\n",
       "11    200000000  107.928811  586090727    106.0\n",
       "3910          0   14.936661     229094     84.0\n",
       "53    185000000   75.674458  786636033    122.0\n",
       "...         ...         ...        ...      ...\n",
       "3472          0    8.483531          0    122.0\n",
       "1606   30000000   10.608998   84646831     84.0\n",
       "709    60000000   28.800112  204594016    133.0\n",
       "892    52000000   40.066880  116112375    178.0\n",
       "941    50000000   42.526529   69411370    144.0\n",
       "\n",
       "[3362 rows x 4 columns]"
      ]
     },
     "execution_count": 8,
     "metadata": {},
     "output_type": "execute_result"
    }
   ],
   "source": [
    "numeric = df.dtypes[df.dtypes != \"object\"].index\n",
    "print(numeric)\n",
    "predictors = [ \"budget\", \"popularity\", \"revenue\", \"runtime\" ]\n",
    "\n",
    "train.loc[:, predictors]"
   ]
  },
  {
   "cell_type": "markdown",
   "id": "f72cb52f-57fa-491c-ab66-ef694a9f0edf",
   "metadata": {},
   "source": [
    "### 6. Add three categorical features (for example, original language, status and genres) and transform them into numerical"
   ]
  },
  {
   "cell_type": "code",
   "execution_count": 9,
   "id": "eb31e434-6245-47d6-92e5-490e4c47fe83",
   "metadata": {
    "tags": []
   },
   "outputs": [
    {
     "name": "stdout",
     "output_type": "stream",
     "text": [
      "<class 'pandas.core.frame.DataFrame'>\n",
      "Int64Index: 4357 entries, 1080 to 3334\n",
      "Data columns (total 21 columns):\n",
      " #   Column                Non-Null Count  Dtype  \n",
      "---  ------                --------------  -----  \n",
      " 0   budget                3362 non-null   float64\n",
      " 1   genres                3362 non-null   object \n",
      " 2   homepage              3362 non-null   object \n",
      " 3   id                    3362 non-null   float64\n",
      " 4   keywords              3362 non-null   object \n",
      " 5   original_language     3362 non-null   object \n",
      " 6   original_title        3362 non-null   object \n",
      " 7   overview              3362 non-null   object \n",
      " 8   popularity            3362 non-null   float64\n",
      " 9   production_companies  3362 non-null   object \n",
      " 10  production_countries  3362 non-null   object \n",
      " 11  release_date          3362 non-null   object \n",
      " 12  revenue               3362 non-null   float64\n",
      " 13  runtime               3362 non-null   float64\n",
      " 14  spoken_languages      3362 non-null   object \n",
      " 15  status                3362 non-null   object \n",
      " 16  tagline               3362 non-null   object \n",
      " 17  title                 3362 non-null   object \n",
      " 18  vote_average          3362 non-null   float64\n",
      " 19  vote_count            3362 non-null   float64\n",
      " 20  genre                 3341 non-null   object \n",
      "dtypes: float64(7), object(14)\n",
      "memory usage: 748.9+ KB\n"
     ]
    }
   ],
   "source": [
    "train = get_data(train['genres'], train, 'name')\n",
    "train.rename(columns={0: \"genre\"}, inplace=True)\n",
    "train.info()"
   ]
  },
  {
   "cell_type": "code",
   "execution_count": 10,
   "id": "c78f160c-952b-45e5-839a-aad542314d2e",
   "metadata": {
    "tags": []
   },
   "outputs": [
    {
     "name": "stdout",
     "output_type": "stream",
     "text": [
      "['budget', 'popularity', 'revenue', 'runtime', 'lang_code', 'status_code', 'genre_code']\n",
      "<class 'pandas.core.frame.DataFrame'>\n",
      "Int64Index: 4357 entries, 1080 to 3334\n",
      "Data columns (total 24 columns):\n",
      " #   Column                Non-Null Count  Dtype   \n",
      "---  ------                --------------  -----   \n",
      " 0   budget                3362 non-null   float64 \n",
      " 1   genres                3362 non-null   object  \n",
      " 2   homepage              3362 non-null   object  \n",
      " 3   id                    3362 non-null   float64 \n",
      " 4   keywords              3362 non-null   object  \n",
      " 5   original_language     3362 non-null   category\n",
      " 6   original_title        3362 non-null   object  \n",
      " 7   overview              3362 non-null   object  \n",
      " 8   popularity            3362 non-null   float64 \n",
      " 9   production_companies  3362 non-null   object  \n",
      " 10  production_countries  3362 non-null   object  \n",
      " 11  release_date          3362 non-null   object  \n",
      " 12  revenue               3362 non-null   float64 \n",
      " 13  runtime               3362 non-null   float64 \n",
      " 14  spoken_languages      3362 non-null   object  \n",
      " 15  status                3362 non-null   category\n",
      " 16  tagline               3362 non-null   object  \n",
      " 17  title                 3362 non-null   object  \n",
      " 18  vote_average          3362 non-null   float64 \n",
      " 19  vote_count            3362 non-null   float64 \n",
      " 20  genre                 3341 non-null   category\n",
      " 21  lang_code             4357 non-null   int8    \n",
      " 22  status_code           4357 non-null   int8    \n",
      " 23  genre_code            4357 non-null   int8    \n",
      "dtypes: category(3), float64(7), int8(3), object(11)\n",
      "memory usage: 674.4+ KB\n"
     ]
    }
   ],
   "source": [
    "train[\"original_language\"] = train[\"original_language\"].astype('category')\n",
    "train[\"lang_code\"] = train[\"original_language\"].cat.codes\n",
    "\n",
    "train[\"status\"] = train[\"status\"].astype('category')\n",
    "train[\"status_code\"] = train[\"status\"].cat.codes\n",
    "\n",
    "train[\"genre\"] = train[\"genre\"].astype('category')\n",
    "train[\"genre_code\"] = train[\"genre\"].cat.codes\n",
    "\n",
    "predictors += [\"lang_code\", \"status_code\", \"genre_code\"]\n",
    "print(predictors)\n",
    "\n",
    "train.info()"
   ]
  },
  {
   "cell_type": "markdown",
   "id": "9c8abe17-8557-43d4-a5e2-bd75da8e8bf3",
   "metadata": {},
   "source": [
    "### 7. Fill the training and test data with required information:"
   ]
  },
  {
   "cell_type": "code",
   "execution_count": 11,
   "id": "5910cfe3-e150-475a-9eb4-287d6fe159d6",
   "metadata": {
    "tags": []
   },
   "outputs": [
    {
     "name": "stdout",
     "output_type": "stream",
     "text": [
      "<class 'pandas.core.frame.DataFrame'>\n",
      "Int64Index: 3362 entries, 1080 to 941\n",
      "Data columns (total 8 columns):\n",
      " #   Column        Non-Null Count  Dtype  \n",
      "---  ------        --------------  -----  \n",
      " 0   budget        3362 non-null   float64\n",
      " 1   popularity    3362 non-null   float64\n",
      " 2   revenue       3362 non-null   float64\n",
      " 3   runtime       3362 non-null   float64\n",
      " 4   lang_code     3362 non-null   int8   \n",
      " 5   status_code   3362 non-null   int8   \n",
      " 6   genre_code    3362 non-null   int8   \n",
      " 7   vote_average  3362 non-null   float64\n",
      "dtypes: float64(5), int8(3)\n",
      "memory usage: 167.4 KB\n"
     ]
    }
   ],
   "source": [
    "all_features = predictors + [\"vote_average\"]\n",
    "train2 = train[all_features].dropna()\n",
    "train2.info()"
   ]
  },
  {
   "cell_type": "markdown",
   "id": "9a92b27e-d89f-4bb0-a1d5-8507953011a0",
   "metadata": {},
   "source": [
    "### 8. Import linear regression function from sklearn:"
   ]
  },
  {
   "cell_type": "code",
   "execution_count": 12,
   "id": "57c4b04f-158b-4d97-8d5d-b7e4e4628719",
   "metadata": {},
   "outputs": [],
   "source": [
    "from sklearn.linear_model import LinearRegression\n",
    "model = LinearRegression()"
   ]
  },
  {
   "cell_type": "code",
   "execution_count": 13,
   "id": "2c9a5cf1-6d30-4f80-bcb4-9376636d0b58",
   "metadata": {
    "tags": []
   },
   "outputs": [
    {
     "data": {
      "text/html": [
       "<div>\n",
       "<style scoped>\n",
       "    .dataframe tbody tr th:only-of-type {\n",
       "        vertical-align: middle;\n",
       "    }\n",
       "\n",
       "    .dataframe tbody tr th {\n",
       "        vertical-align: top;\n",
       "    }\n",
       "\n",
       "    .dataframe thead th {\n",
       "        text-align: right;\n",
       "    }\n",
       "</style>\n",
       "<table border=\"1\" class=\"dataframe\">\n",
       "  <thead>\n",
       "    <tr style=\"text-align: right;\">\n",
       "      <th></th>\n",
       "      <th>budget</th>\n",
       "      <th>popularity</th>\n",
       "      <th>revenue</th>\n",
       "      <th>runtime</th>\n",
       "      <th>lang_code</th>\n",
       "      <th>status_code</th>\n",
       "      <th>genre_code</th>\n",
       "    </tr>\n",
       "  </thead>\n",
       "  <tbody>\n",
       "    <tr>\n",
       "      <th>1080</th>\n",
       "      <td>0.0</td>\n",
       "      <td>11.872841</td>\n",
       "      <td>0.0</td>\n",
       "      <td>133.0</td>\n",
       "      <td>7</td>\n",
       "      <td>1</td>\n",
       "      <td>0</td>\n",
       "    </tr>\n",
       "    <tr>\n",
       "      <th>2589</th>\n",
       "      <td>0.0</td>\n",
       "      <td>8.710294</td>\n",
       "      <td>0.0</td>\n",
       "      <td>87.0</td>\n",
       "      <td>7</td>\n",
       "      <td>1</td>\n",
       "      <td>0</td>\n",
       "    </tr>\n",
       "    <tr>\n",
       "      <th>11</th>\n",
       "      <td>200000000.0</td>\n",
       "      <td>107.928811</td>\n",
       "      <td>586090727.0</td>\n",
       "      <td>106.0</td>\n",
       "      <td>7</td>\n",
       "      <td>1</td>\n",
       "      <td>0</td>\n",
       "    </tr>\n",
       "    <tr>\n",
       "      <th>3910</th>\n",
       "      <td>0.0</td>\n",
       "      <td>14.936661</td>\n",
       "      <td>229094.0</td>\n",
       "      <td>84.0</td>\n",
       "      <td>7</td>\n",
       "      <td>1</td>\n",
       "      <td>-1</td>\n",
       "    </tr>\n",
       "    <tr>\n",
       "      <th>53</th>\n",
       "      <td>185000000.0</td>\n",
       "      <td>75.674458</td>\n",
       "      <td>786636033.0</td>\n",
       "      <td>122.0</td>\n",
       "      <td>7</td>\n",
       "      <td>1</td>\n",
       "      <td>0</td>\n",
       "    </tr>\n",
       "  </tbody>\n",
       "</table>\n",
       "</div>"
      ],
      "text/plain": [
       "           budget  popularity      revenue  runtime  lang_code  status_code  \\\n",
       "1080          0.0   11.872841          0.0    133.0          7            1   \n",
       "2589          0.0    8.710294          0.0     87.0          7            1   \n",
       "11    200000000.0  107.928811  586090727.0    106.0          7            1   \n",
       "3910          0.0   14.936661     229094.0     84.0          7            1   \n",
       "53    185000000.0   75.674458  786636033.0    122.0          7            1   \n",
       "\n",
       "      genre_code  \n",
       "1080           0  \n",
       "2589           0  \n",
       "11             0  \n",
       "3910          -1  \n",
       "53             0  "
      ]
     },
     "execution_count": 13,
     "metadata": {},
     "output_type": "execute_result"
    }
   ],
   "source": [
    "X = train2[predictors]\n",
    "y = train2[\"vote_average\"]\n",
    "X.head()"
   ]
  },
  {
   "cell_type": "code",
   "execution_count": 14,
   "id": "b67d8e90-fc08-4a88-a10b-14c9f513ee07",
   "metadata": {
    "tags": []
   },
   "outputs": [
    {
     "name": "stdout",
     "output_type": "stream",
     "text": [
      "intercept: 4.066880618095183\n",
      "slope: [-5.66605002e-09  8.27528987e-03  8.02876206e-10  1.85017462e-02\n",
      "  9.17824643e-03 -1.09387989e-01  3.04626456e-03]\n"
     ]
    }
   ],
   "source": [
    "model.fit(X, y)\n",
    "print(f\"intercept: {model.intercept_}\")\n",
    "print(f\"slope: {model.coef_}\")"
   ]
  },
  {
   "cell_type": "markdown",
   "id": "88868584-7d7b-478d-893b-7fb1654239f8",
   "metadata": {
    "tags": []
   },
   "source": [
    "### 9. Print the score of your model."
   ]
  },
  {
   "cell_type": "code",
   "execution_count": 15,
   "id": "263bc3b4-ba8b-4280-ac59-0ae3e9ffa591",
   "metadata": {
    "tags": []
   },
   "outputs": [
    {
     "data": {
      "text/plain": [
       "0.19925768611966066"
      ]
     },
     "execution_count": 15,
     "metadata": {},
     "output_type": "execute_result"
    }
   ],
   "source": [
    "m1_score = model.score(X, y)\n",
    "m1_score"
   ]
  },
  {
   "cell_type": "markdown",
   "id": "384aa3c0-3fdb-47dc-9a29-79c50e676d99",
   "metadata": {},
   "source": [
    "## PART II"
   ]
  },
  {
   "cell_type": "markdown",
   "id": "db1e967a-d599-4d1e-836d-26fcac0f6866",
   "metadata": {},
   "source": [
    "### 10. Remove features with low variance and apply linear regression: "
   ]
  },
  {
   "cell_type": "code",
   "execution_count": 16,
   "id": "b85dda82-ffaf-4f0b-afe3-79259216d678",
   "metadata": {
    "tags": []
   },
   "outputs": [],
   "source": [
    "from sklearn.feature_selection import VarianceThreshold"
   ]
  },
  {
   "cell_type": "code",
   "execution_count": 17,
   "id": "adaaab3d-daab-46fa-b3b8-697d2961dce6",
   "metadata": {
    "tags": []
   },
   "outputs": [
    {
     "data": {
      "text/html": [
       "<div>\n",
       "<style scoped>\n",
       "    .dataframe tbody tr th:only-of-type {\n",
       "        vertical-align: middle;\n",
       "    }\n",
       "\n",
       "    .dataframe tbody tr th {\n",
       "        vertical-align: top;\n",
       "    }\n",
       "\n",
       "    .dataframe thead th {\n",
       "        text-align: right;\n",
       "    }\n",
       "</style>\n",
       "<table border=\"1\" class=\"dataframe\">\n",
       "  <thead>\n",
       "    <tr style=\"text-align: right;\">\n",
       "      <th></th>\n",
       "      <th>budget</th>\n",
       "      <th>popularity</th>\n",
       "      <th>revenue</th>\n",
       "      <th>runtime</th>\n",
       "      <th>lang_code</th>\n",
       "      <th>genre_code</th>\n",
       "    </tr>\n",
       "  </thead>\n",
       "  <tbody>\n",
       "    <tr>\n",
       "      <th>1080</th>\n",
       "      <td>0.0</td>\n",
       "      <td>11.872841</td>\n",
       "      <td>0.0</td>\n",
       "      <td>133.0</td>\n",
       "      <td>7</td>\n",
       "      <td>0</td>\n",
       "    </tr>\n",
       "    <tr>\n",
       "      <th>2589</th>\n",
       "      <td>0.0</td>\n",
       "      <td>8.710294</td>\n",
       "      <td>0.0</td>\n",
       "      <td>87.0</td>\n",
       "      <td>7</td>\n",
       "      <td>0</td>\n",
       "    </tr>\n",
       "    <tr>\n",
       "      <th>11</th>\n",
       "      <td>200000000.0</td>\n",
       "      <td>107.928811</td>\n",
       "      <td>586090727.0</td>\n",
       "      <td>106.0</td>\n",
       "      <td>7</td>\n",
       "      <td>0</td>\n",
       "    </tr>\n",
       "    <tr>\n",
       "      <th>3910</th>\n",
       "      <td>0.0</td>\n",
       "      <td>14.936661</td>\n",
       "      <td>229094.0</td>\n",
       "      <td>84.0</td>\n",
       "      <td>7</td>\n",
       "      <td>-1</td>\n",
       "    </tr>\n",
       "    <tr>\n",
       "      <th>53</th>\n",
       "      <td>185000000.0</td>\n",
       "      <td>75.674458</td>\n",
       "      <td>786636033.0</td>\n",
       "      <td>122.0</td>\n",
       "      <td>7</td>\n",
       "      <td>0</td>\n",
       "    </tr>\n",
       "    <tr>\n",
       "      <th>...</th>\n",
       "      <td>...</td>\n",
       "      <td>...</td>\n",
       "      <td>...</td>\n",
       "      <td>...</td>\n",
       "      <td>...</td>\n",
       "      <td>...</td>\n",
       "    </tr>\n",
       "    <tr>\n",
       "      <th>3472</th>\n",
       "      <td>0.0</td>\n",
       "      <td>8.483531</td>\n",
       "      <td>0.0</td>\n",
       "      <td>122.0</td>\n",
       "      <td>7</td>\n",
       "      <td>-1</td>\n",
       "    </tr>\n",
       "    <tr>\n",
       "      <th>1606</th>\n",
       "      <td>30000000.0</td>\n",
       "      <td>10.608998</td>\n",
       "      <td>84646831.0</td>\n",
       "      <td>84.0</td>\n",
       "      <td>7</td>\n",
       "      <td>1</td>\n",
       "    </tr>\n",
       "    <tr>\n",
       "      <th>709</th>\n",
       "      <td>60000000.0</td>\n",
       "      <td>28.800112</td>\n",
       "      <td>204594016.0</td>\n",
       "      <td>133.0</td>\n",
       "      <td>7</td>\n",
       "      <td>1</td>\n",
       "    </tr>\n",
       "    <tr>\n",
       "      <th>892</th>\n",
       "      <td>52000000.0</td>\n",
       "      <td>40.066880</td>\n",
       "      <td>116112375.0</td>\n",
       "      <td>178.0</td>\n",
       "      <td>7</td>\n",
       "      <td>3</td>\n",
       "    </tr>\n",
       "    <tr>\n",
       "      <th>941</th>\n",
       "      <td>50000000.0</td>\n",
       "      <td>42.526529</td>\n",
       "      <td>69411370.0</td>\n",
       "      <td>144.0</td>\n",
       "      <td>7</td>\n",
       "      <td>3</td>\n",
       "    </tr>\n",
       "  </tbody>\n",
       "</table>\n",
       "<p>3362 rows × 6 columns</p>\n",
       "</div>"
      ],
      "text/plain": [
       "           budget  popularity      revenue  runtime  lang_code  genre_code\n",
       "1080          0.0   11.872841          0.0    133.0          7           0\n",
       "2589          0.0    8.710294          0.0     87.0          7           0\n",
       "11    200000000.0  107.928811  586090727.0    106.0          7           0\n",
       "3910          0.0   14.936661     229094.0     84.0          7          -1\n",
       "53    185000000.0   75.674458  786636033.0    122.0          7           0\n",
       "...           ...         ...          ...      ...        ...         ...\n",
       "3472          0.0    8.483531          0.0    122.0          7          -1\n",
       "1606   30000000.0   10.608998   84646831.0     84.0          7           1\n",
       "709    60000000.0   28.800112  204594016.0    133.0          7           1\n",
       "892    52000000.0   40.066880  116112375.0    178.0          7           3\n",
       "941    50000000.0   42.526529   69411370.0    144.0          7           3\n",
       "\n",
       "[3362 rows x 6 columns]"
      ]
     },
     "execution_count": 17,
     "metadata": {},
     "output_type": "execute_result"
    }
   ],
   "source": [
    "sel = VarianceThreshold(threshold=(.8 * (1 - .8))) \n",
    "#X2 = sel.fit_transform(X)\n",
    "sel.fit(X)\n",
    "new_cols = sel.get_support()\n",
    "X2 = X.iloc[:,new_cols]\n",
    "X2"
   ]
  },
  {
   "cell_type": "markdown",
   "id": "fc9a7c93-794f-4a1f-a23e-2915fc2d9603",
   "metadata": {},
   "source": [
    "**Results**\n",
    "> We ended up dropping ```status_code```"
   ]
  },
  {
   "cell_type": "code",
   "execution_count": 18,
   "id": "12405cce-a2e0-42e9-a304-3ef2ea0f0094",
   "metadata": {
    "tags": []
   },
   "outputs": [
    {
     "name": "stdout",
     "output_type": "stream",
     "text": [
      "intercept: 3.9565217948262266\n",
      "slope: [-5.66527756e-09  8.27635412e-03  8.02613451e-10  1.85092353e-02\n",
      "  9.17959978e-03  3.05776763e-03]\n"
     ]
    }
   ],
   "source": [
    "model2 = LinearRegression()\n",
    "model2.fit(X2, y)\n",
    "print(f\"intercept: {model2.intercept_}\")\n",
    "print(f\"slope: {model2.coef_}\")"
   ]
  },
  {
   "cell_type": "code",
   "execution_count": 19,
   "id": "982caeae-0439-42e7-b3f4-cb17b7c14281",
   "metadata": {
    "tags": []
   },
   "outputs": [
    {
     "data": {
      "text/plain": [
       "0.19924538143206016"
      ]
     },
     "execution_count": 19,
     "metadata": {},
     "output_type": "execute_result"
    }
   ],
   "source": [
    "m2_score = model2.score(X2, y)\n",
    "m2_score"
   ]
  },
  {
   "cell_type": "code",
   "execution_count": 20,
   "id": "3c60820e-6ee3-4cd9-85b3-ea51f7977da2",
   "metadata": {},
   "outputs": [
    {
     "data": {
      "text/plain": [
       "-1.2304687600495079e-05"
      ]
     },
     "execution_count": 20,
     "metadata": {},
     "output_type": "execute_result"
    }
   ],
   "source": [
    "m2_score - m1_score"
   ]
  },
  {
   "cell_type": "markdown",
   "id": "5b191d79-b934-40b4-a8da-c7fb7777bd85",
   "metadata": {},
   "source": [
    "### 11. Recursive feature elimination with linear regression: "
   ]
  },
  {
   "cell_type": "code",
   "execution_count": 21,
   "id": "e3c8126d-22be-4838-86e6-4d6a4a9f97ba",
   "metadata": {},
   "outputs": [],
   "source": [
    "from sklearn.feature_selection import RFE"
   ]
  },
  {
   "cell_type": "markdown",
   "id": "86d0a650-768c-4cc0-8e61-b8a942f2eff3",
   "metadata": {},
   "source": [
    "Rank all features, i.e continue the elimination until the last one\n",
    "```\n",
    "rfe = RFE(lr, n_features_to_select=1)\n",
    "rfe.fit(X,Y)\n",
    "```"
   ]
  },
  {
   "cell_type": "code",
   "execution_count": 22,
   "id": "92e69875-7849-4b56-aa87-d520aecc8fba",
   "metadata": {
    "tags": []
   },
   "outputs": [
    {
     "data": {
      "text/plain": [
       "array([6, 4, 7, 2, 3, 1, 5])"
      ]
     },
     "execution_count": 22,
     "metadata": {},
     "output_type": "execute_result"
    }
   ],
   "source": [
    "model3 = LinearRegression()\n",
    "rfe = RFE(model3, n_features_to_select=1)\n",
    "rfe.fit(X, y)\n",
    "\n",
    "rfe.ranking_"
   ]
  },
  {
   "cell_type": "markdown",
   "id": "974fe1f6-6271-4a1e-9c4a-dfda7d280d8c",
   "metadata": {},
   "source": [
    "#### Print Features sorted by their rank"
   ]
  },
  {
   "cell_type": "code",
   "execution_count": 23,
   "id": "e7826dac-9f56-4303-8d28-94ecb4e0750c",
   "metadata": {
    "tags": []
   },
   "outputs": [
    {
     "data": {
      "text/html": [
       "<div>\n",
       "<style scoped>\n",
       "    .dataframe tbody tr th:only-of-type {\n",
       "        vertical-align: middle;\n",
       "    }\n",
       "\n",
       "    .dataframe tbody tr th {\n",
       "        vertical-align: top;\n",
       "    }\n",
       "\n",
       "    .dataframe thead th {\n",
       "        text-align: right;\n",
       "    }\n",
       "</style>\n",
       "<table border=\"1\" class=\"dataframe\">\n",
       "  <thead>\n",
       "    <tr style=\"text-align: right;\">\n",
       "      <th></th>\n",
       "      <th>rank</th>\n",
       "    </tr>\n",
       "    <tr>\n",
       "      <th>name</th>\n",
       "      <th></th>\n",
       "    </tr>\n",
       "  </thead>\n",
       "  <tbody>\n",
       "    <tr>\n",
       "      <th>status_code</th>\n",
       "      <td>1</td>\n",
       "    </tr>\n",
       "    <tr>\n",
       "      <th>runtime</th>\n",
       "      <td>2</td>\n",
       "    </tr>\n",
       "    <tr>\n",
       "      <th>lang_code</th>\n",
       "      <td>3</td>\n",
       "    </tr>\n",
       "    <tr>\n",
       "      <th>popularity</th>\n",
       "      <td>4</td>\n",
       "    </tr>\n",
       "    <tr>\n",
       "      <th>genre_code</th>\n",
       "      <td>5</td>\n",
       "    </tr>\n",
       "    <tr>\n",
       "      <th>budget</th>\n",
       "      <td>6</td>\n",
       "    </tr>\n",
       "    <tr>\n",
       "      <th>revenue</th>\n",
       "      <td>7</td>\n",
       "    </tr>\n",
       "  </tbody>\n",
       "</table>\n",
       "</div>"
      ],
      "text/plain": [
       "             rank\n",
       "name             \n",
       "status_code     1\n",
       "runtime         2\n",
       "lang_code       3\n",
       "popularity      4\n",
       "genre_code      5\n",
       "budget          6\n",
       "revenue         7"
      ]
     },
     "execution_count": 23,
     "metadata": {},
     "output_type": "execute_result"
    }
   ],
   "source": [
    "rank = pd.DataFrame({\n",
    "    \"name\": X.columns.to_list(),\n",
    "    \"rank\": rfe.ranking_\n",
    "})\n",
    "rank.set_index(\"name\", inplace=True)\n",
    "rank.sort_values(by=[\"rank\"])"
   ]
  },
  {
   "cell_type": "markdown",
   "id": "e0d56124-58ed-41e6-a517-b9981114f568",
   "metadata": {},
   "source": [
    "#### Calculate the score after applying linear regression on the new set"
   ]
  },
  {
   "cell_type": "code",
   "execution_count": 24,
   "id": "df9d462b-e98f-4825-89fd-e6c4b5e7816d",
   "metadata": {
    "tags": []
   },
   "outputs": [
    {
     "data": {
      "text/html": [
       "<div>\n",
       "<style scoped>\n",
       "    .dataframe tbody tr th:only-of-type {\n",
       "        vertical-align: middle;\n",
       "    }\n",
       "\n",
       "    .dataframe tbody tr th {\n",
       "        vertical-align: top;\n",
       "    }\n",
       "\n",
       "    .dataframe thead th {\n",
       "        text-align: right;\n",
       "    }\n",
       "</style>\n",
       "<table border=\"1\" class=\"dataframe\">\n",
       "  <thead>\n",
       "    <tr style=\"text-align: right;\">\n",
       "      <th></th>\n",
       "      <th>status_code</th>\n",
       "    </tr>\n",
       "  </thead>\n",
       "  <tbody>\n",
       "    <tr>\n",
       "      <th>1080</th>\n",
       "      <td>1</td>\n",
       "    </tr>\n",
       "    <tr>\n",
       "      <th>2589</th>\n",
       "      <td>1</td>\n",
       "    </tr>\n",
       "    <tr>\n",
       "      <th>11</th>\n",
       "      <td>1</td>\n",
       "    </tr>\n",
       "    <tr>\n",
       "      <th>3910</th>\n",
       "      <td>1</td>\n",
       "    </tr>\n",
       "    <tr>\n",
       "      <th>53</th>\n",
       "      <td>1</td>\n",
       "    </tr>\n",
       "    <tr>\n",
       "      <th>...</th>\n",
       "      <td>...</td>\n",
       "    </tr>\n",
       "    <tr>\n",
       "      <th>3472</th>\n",
       "      <td>1</td>\n",
       "    </tr>\n",
       "    <tr>\n",
       "      <th>1606</th>\n",
       "      <td>1</td>\n",
       "    </tr>\n",
       "    <tr>\n",
       "      <th>709</th>\n",
       "      <td>1</td>\n",
       "    </tr>\n",
       "    <tr>\n",
       "      <th>892</th>\n",
       "      <td>1</td>\n",
       "    </tr>\n",
       "    <tr>\n",
       "      <th>941</th>\n",
       "      <td>1</td>\n",
       "    </tr>\n",
       "  </tbody>\n",
       "</table>\n",
       "<p>3362 rows × 1 columns</p>\n",
       "</div>"
      ],
      "text/plain": [
       "      status_code\n",
       "1080            1\n",
       "2589            1\n",
       "11              1\n",
       "3910            1\n",
       "53              1\n",
       "...           ...\n",
       "3472            1\n",
       "1606            1\n",
       "709             1\n",
       "892             1\n",
       "941             1\n",
       "\n",
       "[3362 rows x 1 columns]"
      ]
     },
     "execution_count": 24,
     "metadata": {},
     "output_type": "execute_result"
    }
   ],
   "source": [
    "X3 = pd.DataFrame({\n",
    "    \"status_code\": X.status_code\n",
    "})\n",
    "X3"
   ]
  },
  {
   "cell_type": "code",
   "execution_count": 25,
   "id": "01b89ee9-b9c9-44ba-845b-905cf6ab38f4",
   "metadata": {
    "tags": []
   },
   "outputs": [
    {
     "data": {
      "text/plain": [
       "0.00041959866965801673"
      ]
     },
     "execution_count": 25,
     "metadata": {},
     "output_type": "execute_result"
    }
   ],
   "source": [
    "model3.fit(X3, y)\n",
    "m3_score = model3.score(X3, y)\n",
    "m3_score"
   ]
  },
  {
   "cell_type": "code",
   "execution_count": 26,
   "id": "2b32770c-a750-48d8-810b-c51f42c73555",
   "metadata": {
    "tags": []
   },
   "outputs": [
    {
     "data": {
      "text/plain": [
       "-0.19883808745000264"
      ]
     },
     "execution_count": 26,
     "metadata": {},
     "output_type": "execute_result"
    }
   ],
   "source": [
    "m3_score - m1_score"
   ]
  },
  {
   "cell_type": "markdown",
   "id": "f894f0c3-d040-4d61-af9c-b55ad9e08f11",
   "metadata": {},
   "source": [
    "## Summary"
   ]
  },
  {
   "cell_type": "code",
   "execution_count": 27,
   "id": "807141c0-6a97-46f4-b2b5-7efdcd0bc363",
   "metadata": {
    "tags": []
   },
   "outputs": [
    {
     "name": "stdout",
     "output_type": "stream",
     "text": [
      " Name  |    R2\n",
      "----------------\n",
      "model  | 0.19926\n",
      "model2 | 0.19925\n",
      "model3 | 0.00042\n"
     ]
    }
   ],
   "source": [
    "print(\" Name  |    R2\")\n",
    "print(\"----------------\")\n",
    "print(\"model  | %.5f\" % m1_score)\n",
    "print(\"model2 | %.5f\" % m2_score)\n",
    "print(\"model3 | %.5f\" % m3_score)"
   ]
  },
  {
   "cell_type": "markdown",
   "id": "a860ae26-e904-4140-b6f7-c1aa711d2c20",
   "metadata": {},
   "source": [
    "## Using Test Data"
   ]
  },
  {
   "cell_type": "code",
   "execution_count": 28,
   "id": "b2189f08-c5f0-4c0d-833c-316440fb34ae",
   "metadata": {
    "tags": []
   },
   "outputs": [
    {
     "name": "stdout",
     "output_type": "stream",
     "text": [
      "<class 'pandas.core.frame.DataFrame'>\n",
      "Int64Index: 1441 entries, 4412 to 734\n",
      "Data columns (total 8 columns):\n",
      " #   Column        Non-Null Count  Dtype  \n",
      "---  ------        --------------  -----  \n",
      " 0   budget        1441 non-null   float64\n",
      " 1   popularity    1441 non-null   float64\n",
      " 2   revenue       1441 non-null   float64\n",
      " 3   runtime       1441 non-null   float64\n",
      " 4   lang_code     1441 non-null   int8   \n",
      " 5   status_code   1441 non-null   int8   \n",
      " 6   genre_code    1441 non-null   int8   \n",
      " 7   vote_average  1441 non-null   float64\n",
      "dtypes: float64(5), int8(3)\n",
      "memory usage: 71.8 KB\n"
     ]
    }
   ],
   "source": [
    "# Transform the test data in the same way as the training data\n",
    "test = get_data(test['genres'], test, 'name')\n",
    "test.rename(columns={0: \"genre\"}, inplace=True)\n",
    "\n",
    "test[\"original_language\"] = test[\"original_language\"].astype('category')\n",
    "test[\"lang_code\"] = test[\"original_language\"].cat.codes\n",
    "\n",
    "test[\"status\"] = test[\"status\"].astype('category')\n",
    "test[\"status_code\"] = test[\"status\"].cat.codes\n",
    "\n",
    "test[\"genre\"] = test[\"genre\"].astype('category')\n",
    "test[\"genre_code\"] = test[\"genre\"].cat.codes\n",
    "\n",
    "test = test[all_features].dropna()\n",
    "\n",
    "test.info()"
   ]
  },
  {
   "cell_type": "code",
   "execution_count": 29,
   "id": "11647409-c1a6-40bb-82a0-86764a3cd959",
   "metadata": {
    "tags": []
   },
   "outputs": [],
   "source": [
    "m1_pred = model.predict(test[predictors])"
   ]
  },
  {
   "cell_type": "code",
   "execution_count": 30,
   "id": "6a8f8a49-7cdf-413a-98c5-cc8599efd30d",
   "metadata": {
    "tags": []
   },
   "outputs": [
    {
     "name": "stdout",
     "output_type": "stream",
     "text": [
      "Mean Squared Error (MSE): 1.128\n",
      "Coefficient of Determination (R2): 0.189\n"
     ]
    }
   ],
   "source": [
    "from sklearn.metrics import mean_squared_error, r2_score\n",
    "\n",
    "print(\"Mean Squared Error (MSE): %.3f\" % mean_squared_error(test[\"vote_average\"], m1_pred))\n",
    "print(\"Coefficient of Determination (R2): %.3f\" % r2_score(test[\"vote_average\"], m1_pred))"
   ]
  }
 ],
 "metadata": {
  "kernelspec": {
   "display_name": "Python 3 (ipykernel)",
   "language": "python",
   "name": "python3"
  },
  "language_info": {
   "codemirror_mode": {
    "name": "ipython",
    "version": 3
   },
   "file_extension": ".py",
   "mimetype": "text/x-python",
   "name": "python",
   "nbconvert_exporter": "python",
   "pygments_lexer": "ipython3",
   "version": "3.9.2"
  }
 },
 "nbformat": 4,
 "nbformat_minor": 5
}
