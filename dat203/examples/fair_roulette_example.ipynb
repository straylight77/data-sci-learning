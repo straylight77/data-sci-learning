{
 "cells": [
  {
   "cell_type": "markdown",
   "metadata": {},
   "source": [
    "![title](maxresdefault.jpg)"
   ]
  },
  {
   "cell_type": "code",
   "execution_count": 1,
   "metadata": {
    "collapsed": true,
    "jupyter": {
     "outputs_hidden": true
    }
   },
   "outputs": [],
   "source": [
    "import random, pylab\n",
    "\n",
    "# set line width\n",
    "pylab.rcParams['lines.linewidth'] = 4\n",
    "# set font size for titles\n",
    "pylab.rcParams['axes.titlesize'] = 20\n",
    "# set font size for labels on axes\n",
    "pylab.rcParams['axes.labelsize'] = 20\n",
    "# set size of numbers on x-axis\n",
    "pylab.rcParams['xtick.labelsize'] = 16\n",
    "# set size of numbers on y-axis\n",
    "pylab.rcParams['ytick.labelsize'] = 16\n",
    "# set size of ticks on x-axis\n",
    "pylab.rcParams['xtick.major.size'] = 7\n",
    "# set size of ticks on y-axis\n",
    "pylab.rcParams['ytick.major.size'] = 7\n",
    "# set size of markers, e.g., circles representing points\n",
    "# set numpoints for legend\n",
    "pylab.rcParams['legend.numpoints'] = 1\n"
   ]
  },
  {
   "cell_type": "code",
   "execution_count": 2,
   "metadata": {
    "collapsed": true,
    "jupyter": {
     "outputs_hidden": true
    }
   },
   "outputs": [],
   "source": [
    "class FairRoulette():\n",
    "    def __init__(self):\n",
    "        self.pockets = []\n",
    "        self.name = 'Fair Roulette'\n",
    "        for i in range(1, 37):\n",
    "            self.pockets.append(i)\n",
    "        self.ball = None\n",
    "        self.pocketOdds = len(self.pockets) - 1\n",
    "\n",
    "    def spin(self):\n",
    "        self.ball = random.choice(self.pockets)\n",
    "\n",
    "    def betPocket(self, pocket, amt):\n",
    "        if str(pocket) == str(self.ball):\n",
    "            return amt * self.pocketOdds\n",
    "        else:\n",
    "            return -amt\n",
    "\n",
    "    def __str__(self):\n",
    "        return 'Fair Roulette'"
   ]
  },
  {
   "cell_type": "code",
   "execution_count": 3,
   "metadata": {},
   "outputs": [
    {
     "name": "stdout",
     "output_type": "stream",
     "text": [
      "100 spins of Fair Roulette\n",
      "Expected return betting 2 = -100.0%\n",
      "\n",
      "100 spins of Fair Roulette\n",
      "Expected return betting 2 = 44.0%\n",
      "\n",
      "100 spins of Fair Roulette\n",
      "Expected return betting 2 = -28.0%\n",
      "\n",
      "10000000 spins of Fair Roulette\n",
      "Expected return betting 2 = 0.24596%\n",
      "\n",
      "10000000 spins of Fair Roulette\n",
      "Expected return betting 2 = -0.11548%\n",
      "\n",
      "10000000 spins of Fair Roulette\n",
      "Expected return betting 2 = -0.01756%\n",
      "\n"
     ]
    }
   ],
   "source": [
    "def playRoulette(game, numSpins, pocket, bet, toPrint):\n",
    "    totPocket = 0\n",
    "    for i in range(numSpins):\n",
    "        game.spin()\n",
    "        totPocket += game.betPocket(_pocket, bet)\n",
    "    if toPrint:\n",
    "        print(numSpins, 'spins of', game.name)\n",
    "        print('Expected return betting', pocket, '=', \\\n",
    "              str(100 * totPocket / numSpins) + '%\\n')\n",
    "    return (totPocket / numSpins)\n",
    "\n",
    "random.seed(0)\n",
    "game = FairRoulette()\n",
    "for numSpins in (100, 10000000):\n",
    "    for i in range(3):\n",
    "        playRoulette(game, numSpins, 2, 1, True)\n"
   ]
  },
  {
   "cell_type": "markdown",
   "metadata": {},
   "source": [
    "![title](roulette_wheel_1024x1024.jpg)"
   ]
  },
  {
   "cell_type": "markdown",
   "metadata": {},
   "source": [
    "![title](double-zero-roulette.jpg)"
   ]
  },
  {
   "cell_type": "markdown",
   "metadata": {},
   "source": [
    "## Law of large numbers\n",
    "* 100 spins are not conclusive \n",
    "* 1000,000 has less variance\n",
    "* The average of the results obtained from a large number of trials should be close to the expected value, and will tend to become closer as more trials are performed.\n",
    "\n"
   ]
  },
  {
   "cell_type": "markdown",
   "metadata": {},
   "source": [
    "# Regression to the mean\n",
    "* Following an extreme random event, the next random event is likely to be less extreme \n",
    "* If you spin a fair roulette wheel 10 times and get 100% reds, that is an extreme event (probability = 1/1024) \n",
    "* It is likely that in the next 10 spins, you will get fewer than 10 reds \n",
    "* But the expected number is only 5 \n",
    "* So, if you look at the average of the 20 spins, it will be closer to the expected mean of 50% reds than to the 100% of the first 10 spins \n"
   ]
  },
  {
   "cell_type": "markdown",
   "metadata": {},
   "source": [
    "# Important concepts \n",
    "* The larger the sample size is, the closer you get to the mean of the population\n",
    "* Resampling "
   ]
  },
  {
   "cell_type": "markdown",
   "metadata": {},
   "source": [
    "\n",
    "# Unfair Roulette\n"
   ]
  },
  {
   "cell_type": "code",
   "execution_count": 4,
   "metadata": {
    "collapsed": true,
    "jupyter": {
     "outputs_hidden": true
    }
   },
   "outputs": [],
   "source": [
    "class EuRoulette(FairRoulette):\n",
    "    def __init__(self):\n",
    "        FairRoulette.__init__(self)\n",
    "        self.pockets.append('0')\n",
    "        self.name = 'EuRoulette'\n",
    "\n",
    "    def __str__(self):\n",
    "        return 'European Roulette'\n"
   ]
  },
  {
   "cell_type": "code",
   "execution_count": 5,
   "metadata": {
    "collapsed": true,
    "jupyter": {
     "outputs_hidden": true
    }
   },
   "outputs": [],
   "source": [
    "class AmRoulette(EuRoulette):\n",
    "    def __init__(self):\n",
    "        EuRoulette.__init__(self)\n",
    "        self.pockets.append('00')\n",
    "        self.name = 'AmRoulette'\n",
    "\n",
    "    def __str__(self):\n",
    "        return 'American Roulette'\n"
   ]
  },
  {
   "cell_type": "code",
   "execution_count": 6,
   "metadata": {
    "collapsed": true,
    "jupyter": {
     "outputs_hidden": true
    }
   },
   "outputs": [],
   "source": [
    "def findPocketReturn(game, numTrials, trialSize, toPrint):\n",
    "    pocketReturns = []\n",
    "    for t in range(numTrials):\n",
    "        trialVals = playRoulette(game, trialSize, 2, 1, toPrint)\n",
    "        pocketReturns.append(trialVals)\n",
    "    return pocketReturns"
   ]
  },
  {
   "cell_type": "code",
   "execution_count": 7,
   "metadata": {
    "collapsed": true,
    "jupyter": {
     "outputs_hidden": true
    }
   },
   "outputs": [],
   "source": [
    "def getMeanAndStd(X):\n",
    "    mean = sum(X) / float(len(X))\n",
    "    tot = 0.0\n",
    "    for x in X:\n",
    "        tot += (x - mean) ** 2\n",
    "    std = (tot / len(X)) ** 0.5\n",
    "    return mean, std"
   ]
  },
  {
   "cell_type": "code",
   "execution_count": 8,
   "metadata": {
    "scrolled": true
   },
   "outputs": [
    {
     "name": "stdout",
     "output_type": "stream",
     "text": [
      "\n",
      "Simulate 20 trials of 1000 spins each\n",
      "Exp. return for Fair Roulette = 6.56%\n",
      "Exp. return for EuRoulette = -2.26%\n",
      "Exp. return for AmRoulette = -8.92%\n",
      "\n",
      "Simulate 20 trials of 10000 spins each\n",
      "Exp. return for Fair Roulette = -1.234%\n",
      "Exp. return for EuRoulette = -4.168%\n",
      "Exp. return for AmRoulette = -5.752%\n",
      "\n",
      "Simulate 20 trials of 100000 spins each\n",
      "Exp. return for Fair Roulette = 0.8144%\n",
      "Exp. return for EuRoulette = -2.6506%\n",
      "Exp. return for AmRoulette = -5.113%\n",
      "\n",
      "Simulate 20 trials of 1000000 spins each\n",
      "Exp. return for Fair Roulette = -0.0723%\n",
      "Exp. return for EuRoulette = -2.7329%\n",
      "Exp. return for AmRoulette = -5.212%\n"
     ]
    }
   ],
   "source": [
    "random.seed(0)\n",
    "numTrials = 20\n",
    "resultDict = {}\n",
    "games = (FairRoulette, EuRoulette, AmRoulette)\n",
    "for G in games:\n",
    "    resultDict[G().__str__()] = []\n",
    "for numSpins in (1000, 10000, 100000, 1000000):\n",
    "    print('\\nSimulate', numTrials, 'trials of',\n",
    "          numSpins, 'spins each')\n",
    "    for G in games:\n",
    "        pocketReturns = findPocketReturn(G(), numTrials,\n",
    "                                         numSpins, False)\n",
    "        expReturn = 100 * sum(pocketReturns) / len(pocketReturns)\n",
    "        print('Exp. return for', G().name, '=',\n",
    "              str(round(expReturn, 4)) + '%')\n"
   ]
  },
  {
   "cell_type": "markdown",
   "metadata": {},
   "source": [
    "# Confidence Levels and Intervals\n",
    "\n",
    "* Instead of estimating an unknown parameter by a single value (e.g., the mean of a set of trials), a confidence interval provides a range that is likely to contain the unknown value and a confidence that the unknown value lays within that range\n",
    "\n",
    "\n",
    "* \"The return on betting a pocket 10K time in European roulette is -3.3%. The margin of error is +/- 3.5% with a 95% level of confidence.\"\n",
    "* What does this mean?\n",
    "* If I were to conduct an infinite number of trials of 10k bets each,\n",
    "    * My expected average return would be -3.3%\n",
    "    * My return would be between roughly -6.8% and +0.2% 95% of the time\n",
    "\n",
    "\n",
    "## Empirical Rule\n",
    "Under some assumptions discussed later\n",
    "\n",
    "* ~68% of data within one standard deviation of mean\n",
    "\n",
    "* ~95% of data within 1.96 standard deviations of mean \n",
    "\n",
    "* ~99.7% of data within 3 standard deviations of mean"
   ]
  },
  {
   "cell_type": "code",
   "execution_count": 11,
   "metadata": {},
   "outputs": [
    {
     "name": "stdout",
     "output_type": "stream",
     "text": [
      "\n",
      "Simulate betting a pocket for 20 trials of 100 spins each\n",
      "Exp. return for Fair Roulette = -17.2%, +/- 126.419% with 95% confidence\n",
      "Exp. return for European Roulette = -4.6%, +/- 78.175% with 95% confidence\n",
      "Exp. return for American Roulette = 8.0%, +/- 154.589% with 95% confidence\n",
      "\n",
      "Simulate betting a pocket for 20 trials of 1000 spins each\n",
      "Exp. return for Fair Roulette = -3.52%, +/- 45.815% with 95% confidence\n",
      "Exp. return for European Roulette = 0.08%, +/- 37.109% with 95% confidence\n",
      "Exp. return for American Roulette = -1.18%, +/- 34.673% with 95% confidence\n",
      "\n",
      "Simulate betting a pocket for 20 trials of 10000 spins each\n",
      "Exp. return for Fair Roulette = 0.008%, +/- 10.765% with 95% confidence\n",
      "Exp. return for European Roulette = -3.772%, +/- 11.268% with 95% confidence\n",
      "Exp. return for American Roulette = -6.274%, +/- 10.194% with 95% confidence\n",
      "\n",
      "Simulate betting a pocket for 20 trials of 1000000 spins each\n",
      "Exp. return for Fair Roulette = 0.086%, +/- 1.068% with 95% confidence\n",
      "Exp. return for European Roulette = -2.679%, +/- 1.083% with 95% confidence\n",
      "Exp. return for American Roulette = -5.184%, +/- 0.821% with 95% confidence\n",
      "\n",
      "Simulate betting a pocket for 20 trials of 100000000 spins each\n",
      "Exp. return for Fair Roulette = -0.002%, +/- 0.13% with 95% confidence\n",
      "Exp. return for European Roulette = -2.693%, +/- 0.127% with 95% confidence\n",
      "Exp. return for American Roulette = -5.279%, +/- 0.115% with 95% confidence\n"
     ]
    }
   ],
   "source": [
    "resultDict = {}\n",
    "games = (FairRoulette, EuRoulette, AmRoulette) \n",
    "for G in games:\n",
    "    resultDict[G().__str__()] = [] \n",
    "for numSpins in (100, 1000, 10000, 1000000, 100000000):\n",
    "    print('\\nSimulate betting a pocket for', numTrials, 'trials of', numSpins, 'spins each')\n",
    "    for G in games:\n",
    "        pocketReturns = findPocketReturn(G(), 20,numSpins, False) \n",
    "        mean, std = getMeanAndStd(pocketReturns)\n",
    "        resultDict[G().__str__()].append((numSpins, 100*mean, 100*std))\n",
    "        print('Exp. return for', G(), '=', str(round(100*mean, 3)) + '%,', '+/- ' + str(round(100*1.96*std, 3)) + '% with 95% confidence')"
   ]
  },
  {
   "cell_type": "code",
   "execution_count": null,
   "metadata": {
    "collapsed": true,
    "jupyter": {
     "outputs_hidden": true
    }
   },
   "outputs": [],
   "source": []
  }
 ],
 "metadata": {
  "kernelspec": {
   "display_name": "Python 3 (ipykernel)",
   "language": "python",
   "name": "python3"
  },
  "language_info": {
   "codemirror_mode": {
    "name": "ipython",
    "version": 3
   },
   "file_extension": ".py",
   "mimetype": "text/x-python",
   "name": "python",
   "nbconvert_exporter": "python",
   "pygments_lexer": "ipython3",
   "version": "3.9.2"
  }
 },
 "nbformat": 4,
 "nbformat_minor": 4
}
