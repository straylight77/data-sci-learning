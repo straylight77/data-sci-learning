{
 "cells": [
  {
   "cell_type": "markdown",
   "id": "fffc97d2-d15a-4dbd-998a-948304b6ee3d",
   "metadata": {},
   "source": [
    "# DAT 203 - Lab Assignment #5\n",
    "\n",
    "- Author: Colin Bowers\n",
    "- Date: Jun 10, 2023"
   ]
  },
  {
   "cell_type": "markdown",
   "id": "afe65d41-04e1-449d-82b7-25cac4cef4a2",
   "metadata": {},
   "source": [
    "**Instructions**\n",
    "1. Upload Titanic dataset \n",
    "1. Repeat Assignment 4 \n",
    "1. Use GridSearchCV to fit the logistic regression with a dictionary of values for C.\n",
    "1. See what is the best value for the Hyperparameter when using the accuracy score?\n",
    "1. Investigate the difference between L1 and L2 for the outcome. Is there a difference?\n",
    "1. Investigate the results of using different cross validation values \n",
    "1. For the different investigation procedures, plot the accuracy outcome compared to the different parameters. For example, Accuracy VS. the value of C. \n",
    "1. Use Accuracy, Sensitivity, and F1-score to assess the final performance of the chosen model.  "
   ]
  },
  {
   "cell_type": "code",
   "execution_count": 1,
   "id": "5de026e4-dc95-4c93-aba8-d0839fcc518c",
   "metadata": {
    "tags": []
   },
   "outputs": [],
   "source": [
    "import numpy as np\n",
    "import pandas as pd\n",
    "import matplotlib.pyplot as plt\n",
    "import sklearn as sk "
   ]
  },
  {
   "cell_type": "markdown",
   "id": "bea547ba-bbc3-49c4-8b63-3491face6d3b",
   "metadata": {},
   "source": [
    "**1. Upload Titanic dataset**"
   ]
  },
  {
   "cell_type": "code",
   "execution_count": 2,
   "id": "8705d6f1-9746-4df0-96fc-1f6ae8eeb745",
   "metadata": {
    "tags": []
   },
   "outputs": [
    {
     "data": {
      "text/html": [
       "<div>\n",
       "<style scoped>\n",
       "    .dataframe tbody tr th:only-of-type {\n",
       "        vertical-align: middle;\n",
       "    }\n",
       "\n",
       "    .dataframe tbody tr th {\n",
       "        vertical-align: top;\n",
       "    }\n",
       "\n",
       "    .dataframe thead th {\n",
       "        text-align: right;\n",
       "    }\n",
       "</style>\n",
       "<table border=\"1\" class=\"dataframe\">\n",
       "  <thead>\n",
       "    <tr style=\"text-align: right;\">\n",
       "      <th></th>\n",
       "      <th>PassengerId</th>\n",
       "      <th>Survived</th>\n",
       "      <th>Pclass</th>\n",
       "      <th>Name</th>\n",
       "      <th>Sex</th>\n",
       "      <th>Age</th>\n",
       "      <th>SibSp</th>\n",
       "      <th>Parch</th>\n",
       "      <th>Ticket</th>\n",
       "      <th>Fare</th>\n",
       "      <th>Cabin</th>\n",
       "      <th>Embarked</th>\n",
       "    </tr>\n",
       "  </thead>\n",
       "  <tbody>\n",
       "    <tr>\n",
       "      <th>563</th>\n",
       "      <td>564</td>\n",
       "      <td>0</td>\n",
       "      <td>3</td>\n",
       "      <td>Simmons, Mr. John</td>\n",
       "      <td>male</td>\n",
       "      <td>NaN</td>\n",
       "      <td>0</td>\n",
       "      <td>0</td>\n",
       "      <td>SOTON/OQ 392082</td>\n",
       "      <td>8.0500</td>\n",
       "      <td>NaN</td>\n",
       "      <td>S</td>\n",
       "    </tr>\n",
       "    <tr>\n",
       "      <th>627</th>\n",
       "      <td>628</td>\n",
       "      <td>1</td>\n",
       "      <td>1</td>\n",
       "      <td>Longley, Miss. Gretchen Fiske</td>\n",
       "      <td>female</td>\n",
       "      <td>21.0</td>\n",
       "      <td>0</td>\n",
       "      <td>0</td>\n",
       "      <td>13502</td>\n",
       "      <td>77.9583</td>\n",
       "      <td>D9</td>\n",
       "      <td>S</td>\n",
       "    </tr>\n",
       "    <tr>\n",
       "      <th>111</th>\n",
       "      <td>112</td>\n",
       "      <td>0</td>\n",
       "      <td>3</td>\n",
       "      <td>Zabour, Miss. Hileni</td>\n",
       "      <td>female</td>\n",
       "      <td>14.5</td>\n",
       "      <td>1</td>\n",
       "      <td>0</td>\n",
       "      <td>2665</td>\n",
       "      <td>14.4542</td>\n",
       "      <td>NaN</td>\n",
       "      <td>C</td>\n",
       "    </tr>\n",
       "  </tbody>\n",
       "</table>\n",
       "</div>"
      ],
      "text/plain": [
       "     PassengerId  Survived  Pclass                           Name     Sex  \\\n",
       "563          564         0       3              Simmons, Mr. John    male   \n",
       "627          628         1       1  Longley, Miss. Gretchen Fiske  female   \n",
       "111          112         0       3           Zabour, Miss. Hileni  female   \n",
       "\n",
       "      Age  SibSp  Parch           Ticket     Fare Cabin Embarked  \n",
       "563   NaN      0      0  SOTON/OQ 392082   8.0500   NaN        S  \n",
       "627  21.0      0      0            13502  77.9583    D9        S  \n",
       "111  14.5      1      0             2665  14.4542   NaN        C  "
      ]
     },
     "execution_count": 2,
     "metadata": {},
     "output_type": "execute_result"
    }
   ],
   "source": [
    "df = pd.read_csv(\"data/Titanic_original.csv\")\n",
    "df.sample(3)"
   ]
  },
  {
   "cell_type": "markdown",
   "id": "16f5fc07-54c9-47c5-b1ba-61a8d95f4783",
   "metadata": {},
   "source": [
    "**2. Repeat Assignment 4**"
   ]
  },
  {
   "cell_type": "code",
   "execution_count": 3,
   "id": "d7d669bf-910d-4459-960d-10f7ae0a0752",
   "metadata": {
    "tags": []
   },
   "outputs": [],
   "source": [
    "target = 'Survived'\n",
    "predictors = ['Pclass', 'Age', 'SibSp', 'Parch', 'Fare', 'Sex', 'Embarked']"
   ]
  },
  {
   "cell_type": "code",
   "execution_count": 4,
   "id": "387c87ba-c86c-4f51-9142-6f112fb7a46a",
   "metadata": {
    "tags": []
   },
   "outputs": [],
   "source": [
    "# To reduce column count, let's use PassengerId as the index\n",
    "df.set_index(\"PassengerId\", inplace=True)\n",
    "\n",
    "# Logistic Regression requires numeric variables so we should drop these\n",
    "df.drop('Name', axis=1, inplace=True)\n",
    "df.drop('Ticket', axis=1, inplace=True)\n",
    "df.drop('Cabin', axis=1, inplace=True)"
   ]
  },
  {
   "cell_type": "code",
   "execution_count": 5,
   "id": "9dc579bb-d2d3-460b-bec5-61bf70deee75",
   "metadata": {
    "tags": []
   },
   "outputs": [],
   "source": [
    "# Replace missing values of Age to be the median\n",
    "median = df[\"Age\"].median()\n",
    "df.fillna({'Age': median}, inplace=True)"
   ]
  },
  {
   "cell_type": "code",
   "execution_count": 6,
   "id": "530d5425-2720-43ad-9617-b6f1c678112f",
   "metadata": {
    "tags": []
   },
   "outputs": [],
   "source": [
    "# for the columns that are categorical, convert them and create dummies for each\n",
    "dummies = ['Embarked', 'Sex']\n",
    "for d in dummies:\n",
    "    df[d] = df[d].astype('category')\n",
    "\n",
    "dummy_data = pd.get_dummies(df[dummies])\n",
    "df2 = pd.concat([df, dummy_data], axis=1)\n",
    "df2.drop(dummies, axis=1, inplace=True)"
   ]
  },
  {
   "cell_type": "code",
   "execution_count": 7,
   "id": "416cd9c6-26d1-4f31-ae9a-6820963cc105",
   "metadata": {
    "tags": []
   },
   "outputs": [],
   "source": [
    "# Add the new dummy fields to the list of predictors \n",
    "predictors.remove(\"Embarked\")\n",
    "predictors.remove(\"Sex\")\n",
    "predictors += [\"Embarked_C\", \"Embarked_Q\", \"Embarked_S\", \"Sex_female\", \"Sex_male\" ]"
   ]
  },
  {
   "cell_type": "code",
   "execution_count": 8,
   "id": "fe94f7a9-e9ae-4c2c-8e8d-1e312e34ebfc",
   "metadata": {},
   "outputs": [],
   "source": [
    "# split our data into training (80%) and test (20%) datasets \n",
    "\n",
    "from sklearn.model_selection import train_test_split\n",
    "\n",
    "train, test = train_test_split(df2, test_size=0.2)"
   ]
  },
  {
   "cell_type": "code",
   "execution_count": 9,
   "id": "770492b5-a083-466d-8e97-7a26a0b20332",
   "metadata": {},
   "outputs": [
    {
     "data": {
      "text/plain": [
       "array([[-1.11821207e+00, -3.36285235e-02, -3.10892594e-01,\n",
       "        -4.02923615e-02,  1.79835978e-03,  8.22075377e-01,\n",
       "         5.48241008e-01,  3.35096021e-01,  2.35830451e+00,\n",
       "        -3.36117154e-01]])"
      ]
     },
     "execution_count": 9,
     "metadata": {},
     "output_type": "execute_result"
    }
   ],
   "source": [
    "# fianlly, create and fit a logistic regression model\n",
    "\n",
    "from sklearn.linear_model import LogisticRegression\n",
    "\n",
    "X_train = train[predictors]\n",
    "y_train = train[target]\n",
    "\n",
    "model = LogisticRegression(solver='liblinear')\n",
    "model.fit(X_train, y_train)\n",
    "\n",
    "model.coef_"
   ]
  },
  {
   "cell_type": "markdown",
   "id": "f743eb1a-e399-4f90-9f08-2acec74a0575",
   "metadata": {},
   "source": [
    "**3. Use GridSearchCV to fit the logistic regression with a dictionary of values for C.**"
   ]
  },
  {
   "cell_type": "code",
   "execution_count": 10,
   "id": "17f27749-2d6f-4390-af44-0b1795a8a966",
   "metadata": {
    "tags": []
   },
   "outputs": [
    {
     "name": "stdout",
     "output_type": "stream",
     "text": [
      "-----\n",
      "Best parameters {'C': 0.5}\n",
      "Mean cross-validated accuracy score of the best_estimator: 0.801\n",
      "-----\n",
      "CPU times: user 269 ms, sys: 0 ns, total: 269 ms\n",
      "Wall time: 270 ms\n"
     ]
    }
   ],
   "source": [
    "%%time\n",
    "from sklearn.model_selection import GridSearchCV\n",
    "\n",
    "params_C = [0.001, 0.01, 0.1, 0.25, 0.5, 0.75, 1.0]\n",
    "\n",
    "params = { \"C\": params_C }\n",
    "\n",
    "gscv = GridSearchCV(\n",
    "    model,\n",
    "    params,\n",
    "    cv=5,\n",
    "    scoring='accuracy'\n",
    ")\n",
    "\n",
    "gscv.fit(X_train, y_train)\n",
    "print(\"-----\")\n",
    "print(f'Best parameters {gscv.best_params_}')\n",
    "print(\n",
    "    f'Mean cross-validated accuracy score of the best_estimator: ' + \n",
    "    f'{gscv.best_score_:.3f}'\n",
    ")\n",
    "print(\"-----\")"
   ]
  },
  {
   "cell_type": "code",
   "execution_count": 11,
   "id": "2d309f1a-7255-4a2e-8521-3221880a3c05",
   "metadata": {
    "tags": []
   },
   "outputs": [],
   "source": [
    "#gscv.cv_results_"
   ]
  },
  {
   "cell_type": "markdown",
   "id": "8ea7b654-8045-40ad-bcc0-b1e063f2fd80",
   "metadata": {},
   "source": [
    "**4. See what is the best value for the Hyperparameter when using the accuracy score?**"
   ]
  },
  {
   "cell_type": "code",
   "execution_count": 12,
   "id": "28eab17b-2a00-4901-ba3a-447222a0b3d1",
   "metadata": {
    "tags": []
   },
   "outputs": [
    {
     "data": {
      "text/plain": [
       "{'C': 0.5}"
      ]
     },
     "execution_count": 12,
     "metadata": {},
     "output_type": "execute_result"
    }
   ],
   "source": [
    "gscv.best_params_"
   ]
  },
  {
   "cell_type": "markdown",
   "id": "3fef1fd5-6346-4e8f-b143-e3093a8de17a",
   "metadata": {},
   "source": [
    "**5. Investigate the difference between L1 and L2 for the outcome. Is there a difference?**"
   ]
  },
  {
   "cell_type": "code",
   "execution_count": 13,
   "id": "a4f49759-10f7-43df-a061-bdcbb8a6bee6",
   "metadata": {
    "tags": []
   },
   "outputs": [
    {
     "name": "stdout",
     "output_type": "stream",
     "text": [
      "-----\n",
      "Best parameters {'penalty': 'l2'}\n",
      "[0.79505565 0.79785285]\n",
      "Difference (L2-L1): 0.0028\n",
      "-----\n"
     ]
    }
   ],
   "source": [
    "params = { \"penalty\": [\"l1\", \"l2\"] }\n",
    "\n",
    "gscv2 = GridSearchCV(\n",
    "    model,\n",
    "    params,\n",
    "    cv=5,\n",
    "    scoring='accuracy'\n",
    ")\n",
    "\n",
    "gscv2.fit(X_train, y_train)\n",
    "\n",
    "diff = gscv2.cv_results_['mean_test_score'][1] - gscv2.cv_results_['mean_test_score'][0]\n",
    "print(\"-----\")\n",
    "print(f'Best parameters {gscv2.best_params_}')\n",
    "print(gscv2.cv_results_['mean_test_score'])\n",
    "print(f\"Difference (L2-L1): {diff:.4f}\")\n",
    "print(\"-----\")"
   ]
  },
  {
   "cell_type": "markdown",
   "id": "f6e7808d-65d2-459b-b8d7-613177e660f1",
   "metadata": {},
   "source": [
    "**6. Investigate the results of using different cross validation values**"
   ]
  },
  {
   "cell_type": "code",
   "execution_count": 14,
   "id": "9c3bfbb1-edfd-43ef-bfe2-5c05a4da3195",
   "metadata": {
    "tags": []
   },
   "outputs": [
    {
     "data": {
      "text/plain": [
       "{'C': [0.5], 'penalty': ['l2']}"
      ]
     },
     "execution_count": 14,
     "metadata": {},
     "output_type": "execute_result"
    }
   ],
   "source": [
    "params_cv = {\n",
    "          \"C\": [ gscv.best_params_['C'] ],\n",
    "    \"penalty\": [ gscv2.best_params_['penalty'] ]\n",
    "}\n",
    "params_cv"
   ]
  },
  {
   "cell_type": "code",
   "execution_count": 15,
   "id": "c9283137-b0c5-4dcb-aa3c-8e606569f0c8",
   "metadata": {
    "tags": []
   },
   "outputs": [
    {
     "name": "stdout",
     "output_type": "stream",
     "text": [
      "CPU times: user 8.91 s, sys: 0 ns, total: 8.91 s\n",
      "Wall time: 8.9 s\n"
     ]
    }
   ],
   "source": [
    "%%time\n",
    "cv_range = range(2, 50, 1)\n",
    "results = []\n",
    "for i in cv_range:\n",
    "    \n",
    "    gscv_cv = GridSearchCV(\n",
    "        model,\n",
    "        params_cv,\n",
    "        cv = i,\n",
    "        scoring = 'accuracy'\n",
    "    )\n",
    "    \n",
    "    gscv_cv.fit(X_train, y_train)\n",
    "    \n",
    "    results.append(gscv_cv.cv_results_['mean_test_score'][0])\n",
    "    "
   ]
  },
  {
   "cell_type": "code",
   "execution_count": 16,
   "id": "12ac2e7f-6be1-4db3-a3a8-1827a428891b",
   "metadata": {
    "tags": []
   },
   "outputs": [
    {
     "data": {
      "image/png": "[encoded data removed]",
      "text/plain": [
       "<Figure size 640x480 with 1 Axes>"
      ]
     },
     "metadata": {},
     "output_type": "display_data"
    }
   ],
   "source": [
    "plt.plot(cv_range, results, \"-o\")\n",
    "plt.xlabel(\"Values for CV\")\n",
    "plt.ylabel(\"Accuracy\")\n",
    "plt.show()"
   ]
  },
  {
   "cell_type": "markdown",
   "id": "2737bad7-4e53-4e17-badc-2ad4669e91ff",
   "metadata": {},
   "source": [
    "**7. For the different investigation procedures, plot the accuracy outcome compared to the different parameters. For example, Accuracy VS. the value of C.**"
   ]
  },
  {
   "cell_type": "code",
   "execution_count": 17,
   "id": "a4eb063a-8417-4130-872c-a63d7c3639d9",
   "metadata": {
    "tags": []
   },
   "outputs": [
    {
     "data": {
      "image/png": "[encoded data removed]",
      "text/plain": [
       "<Figure size 640x480 with 1 Axes>"
      ]
     },
     "metadata": {},
     "output_type": "display_data"
    }
   ],
   "source": [
    "plt.plot(params_C, gscv.cv_results_['mean_test_score'], \"-o\")\n",
    "plt.xlabel(\"Values for C\")\n",
    "plt.ylabel(\"Accuracy\")\n",
    "plt.show()"
   ]
  },
  {
   "cell_type": "markdown",
   "id": "c747f92f-fb32-4fdb-9eed-2faa876bce48",
   "metadata": {},
   "source": [
    "**8. Use Accuracy, Sensitivity, and F1-score to assess the final performance of the chosen model.**"
   ]
  },
  {
   "cell_type": "code",
   "execution_count": 18,
   "id": "044b6c09-8831-44f2-84a2-ce1024075b2d",
   "metadata": {
    "tags": []
   },
   "outputs": [
    {
     "data": {
      "text/plain": [
       "array([0, 1, 1, 1, 0, 0, 0, 0, 0, 0, 0, 0, 0, 0, 0, 0, 0, 0, 0, 1, 1, 1,\n",
       "       0, 1, 0, 0, 0, 0, 0, 0, 0, 0, 0, 1, 0, 0, 1, 0, 0, 1, 0, 0, 0, 0,\n",
       "       0, 0, 1, 0, 0, 0, 0, 0, 0, 0, 1, 0, 1, 1, 1, 0, 0, 0, 0, 0, 1, 1,\n",
       "       0, 0, 1, 1, 1, 1, 0, 0, 0, 0, 0, 0, 1, 1, 0, 1, 1, 1, 0, 0, 0, 0,\n",
       "       1, 0, 0, 0, 1, 0, 1, 0, 1, 0, 0, 0, 0, 0, 0, 0, 1, 0, 0, 0, 0, 0,\n",
       "       0, 0, 0, 0, 0, 1, 0, 0, 1, 0, 0, 1, 0, 0, 0, 0, 1, 0, 0, 0, 0, 1,\n",
       "       0, 1, 0, 0, 0, 1, 1, 0, 1, 1, 1, 0, 0, 1, 0, 0, 0, 0, 1, 1, 1, 0,\n",
       "       0, 1, 0, 1, 1, 0, 0, 0, 0, 1, 0, 0, 0, 0, 0, 0, 1, 1, 0, 0, 1, 0,\n",
       "       0, 0, 1])"
      ]
     },
     "execution_count": 18,
     "metadata": {},
     "output_type": "execute_result"
    }
   ],
   "source": [
    "X_test = test[predictors]\n",
    "y_test = test[target]\n",
    "\n",
    "y_pred = gscv.predict(X_test)\n",
    "y_pred"
   ]
  },
  {
   "cell_type": "code",
   "execution_count": 19,
   "id": "e7a3fced-492d-4b66-bbce-b4bc1e6d7956",
   "metadata": {
    "tags": []
   },
   "outputs": [],
   "source": [
    "from sklearn.metrics import accuracy_score, precision_score, confusion_matrix, f1_score"
   ]
  },
  {
   "cell_type": "code",
   "execution_count": 20,
   "id": "ccf9360f-9c33-49b7-a964-7dd48a0d2f89",
   "metadata": {
    "tags": []
   },
   "outputs": [
    {
     "data": {
      "text/plain": [
       "array([[102,  23],\n",
       "       [ 19,  35]])"
      ]
     },
     "execution_count": 20,
     "metadata": {},
     "output_type": "execute_result"
    }
   ],
   "source": [
    "confusion_matrix(y_pred, y_test)"
   ]
  },
  {
   "cell_type": "code",
   "execution_count": 21,
   "id": "f3618e4a-cb1c-4ea0-8e58-4aaf19a49779",
   "metadata": {
    "tags": []
   },
   "outputs": [
    {
     "name": "stdout",
     "output_type": "stream",
     "text": [
      "Accuracy: 76.54%\n",
      "Precision: 60.34%\n",
      "F1 Score: 62.50%\n"
     ]
    }
   ],
   "source": [
    "acc = accuracy_score(y_pred, y_test)\n",
    "prec = precision_score(y_pred, y_test)\n",
    "f1 = f1_score(y_pred, y_test)\n",
    "\n",
    "print(f\"Accuracy: {acc*100:.2f}%\")\n",
    "print(f\"Precision: {prec*100:.2f}%\")\n",
    "print(f\"F1 Score: {f1*100:.2f}%\")"
   ]
  }
 ],
 "metadata": {
  "kernelspec": {
   "display_name": "Python 3 (ipykernel)",
   "language": "python",
   "name": "python3"
  },
  "language_info": {
   "codemirror_mode": {
    "name": "ipython",
    "version": 3
   },
   "file_extension": ".py",
   "mimetype": "text/x-python",
   "name": "python",
   "nbconvert_exporter": "python",
   "pygments_lexer": "ipython3",
   "version": "3.9.2"
  }
 },
 "nbformat": 4,
 "nbformat_minor": 5
}
