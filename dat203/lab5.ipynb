{
 "cells": [
  {
   "cell_type": "markdown",
   "id": "fffc97d2-d15a-4dbd-998a-948304b6ee3d",
   "metadata": {},
   "source": [
    "# DAT 203 - Lab Assignment #5\n",
    "\n",
    "- Author: Colin Bowers\n",
    "- Date: Jun 10, 2023"
   ]
  },
  {
   "cell_type": "markdown",
   "id": "afe65d41-04e1-449d-82b7-25cac4cef4a2",
   "metadata": {},
   "source": [
    "**Instructions**\n",
    "1. Upload Titanic dataset \n",
    "1. Repeat Assignment 4 \n",
    "1. Use GridSearchCV to fit the logistic regression with a dictionary of values for C.\n",
    "1. See what is the best value for the Hyperparameter when using the accuracy score?\n",
    "1. Investigate the difference between L1 and L2 for the outcome. Is there a difference?\n",
    "1. Investigate the results of using different cross validation values \n",
    "1. For the different investigation procedures, plot the accuracy outcome compared to the different parameters. For example, Accuracy VS. the value of C. \n",
    "1. Use Accuracy, Sensitivity, and F1-score to assess the final performance of the chosen model.  "
   ]
  },
  {
   "cell_type": "code",
   "execution_count": 1,
   "id": "5de026e4-dc95-4c93-aba8-d0839fcc518c",
   "metadata": {
    "tags": []
   },
   "outputs": [],
   "source": [
    "import numpy as np\n",
    "import pandas as pd\n",
    "import matplotlib.pyplot as plt\n",
    "import sklearn as sk "
   ]
  },
  {
   "cell_type": "markdown",
   "id": "bea547ba-bbc3-49c4-8b63-3491face6d3b",
   "metadata": {},
   "source": [
    "**1. Upload Titanic dataset**"
   ]
  },
  {
   "cell_type": "code",
   "execution_count": 2,
   "id": "8705d6f1-9746-4df0-96fc-1f6ae8eeb745",
   "metadata": {
    "tags": []
   },
   "outputs": [
    {
     "data": {
      "text/html": [
       "<div>\n",
       "<style scoped>\n",
       "    .dataframe tbody tr th:only-of-type {\n",
       "        vertical-align: middle;\n",
       "    }\n",
       "\n",
       "    .dataframe tbody tr th {\n",
       "        vertical-align: top;\n",
       "    }\n",
       "\n",
       "    .dataframe thead th {\n",
       "        text-align: right;\n",
       "    }\n",
       "</style>\n",
       "<table border=\"1\" class=\"dataframe\">\n",
       "  <thead>\n",
       "    <tr style=\"text-align: right;\">\n",
       "      <th></th>\n",
       "      <th>PassengerId</th>\n",
       "      <th>Survived</th>\n",
       "      <th>Pclass</th>\n",
       "      <th>Name</th>\n",
       "      <th>Sex</th>\n",
       "      <th>Age</th>\n",
       "      <th>SibSp</th>\n",
       "      <th>Parch</th>\n",
       "      <th>Ticket</th>\n",
       "      <th>Fare</th>\n",
       "      <th>Cabin</th>\n",
       "      <th>Embarked</th>\n",
       "    </tr>\n",
       "  </thead>\n",
       "  <tbody>\n",
       "    <tr>\n",
       "      <th>691</th>\n",
       "      <td>692</td>\n",
       "      <td>1</td>\n",
       "      <td>3</td>\n",
       "      <td>Karun, Miss. Manca</td>\n",
       "      <td>female</td>\n",
       "      <td>4.0</td>\n",
       "      <td>0</td>\n",
       "      <td>1</td>\n",
       "      <td>349256</td>\n",
       "      <td>13.4167</td>\n",
       "      <td>NaN</td>\n",
       "      <td>C</td>\n",
       "    </tr>\n",
       "    <tr>\n",
       "      <th>801</th>\n",
       "      <td>802</td>\n",
       "      <td>1</td>\n",
       "      <td>2</td>\n",
       "      <td>Collyer, Mrs. Harvey (Charlotte Annie Tate)</td>\n",
       "      <td>female</td>\n",
       "      <td>31.0</td>\n",
       "      <td>1</td>\n",
       "      <td>1</td>\n",
       "      <td>C.A. 31921</td>\n",
       "      <td>26.2500</td>\n",
       "      <td>NaN</td>\n",
       "      <td>S</td>\n",
       "    </tr>\n",
       "    <tr>\n",
       "      <th>24</th>\n",
       "      <td>25</td>\n",
       "      <td>0</td>\n",
       "      <td>3</td>\n",
       "      <td>Palsson, Miss. Torborg Danira</td>\n",
       "      <td>female</td>\n",
       "      <td>8.0</td>\n",
       "      <td>3</td>\n",
       "      <td>1</td>\n",
       "      <td>349909</td>\n",
       "      <td>21.0750</td>\n",
       "      <td>NaN</td>\n",
       "      <td>S</td>\n",
       "    </tr>\n",
       "  </tbody>\n",
       "</table>\n",
       "</div>"
      ],
      "text/plain": [
       "     PassengerId  Survived  Pclass  \\\n",
       "691          692         1       3   \n",
       "801          802         1       2   \n",
       "24            25         0       3   \n",
       "\n",
       "                                            Name     Sex   Age  SibSp  Parch  \\\n",
       "691                           Karun, Miss. Manca  female   4.0      0      1   \n",
       "801  Collyer, Mrs. Harvey (Charlotte Annie Tate)  female  31.0      1      1   \n",
       "24                 Palsson, Miss. Torborg Danira  female   8.0      3      1   \n",
       "\n",
       "         Ticket     Fare Cabin Embarked  \n",
       "691      349256  13.4167   NaN        C  \n",
       "801  C.A. 31921  26.2500   NaN        S  \n",
       "24       349909  21.0750   NaN        S  "
      ]
     },
     "execution_count": 2,
     "metadata": {},
     "output_type": "execute_result"
    }
   ],
   "source": [
    "df = pd.read_csv(\"data/Titanic_original.csv\")\n",
    "##df.describe(include=\"all\").round(2)\n",
    "df.sample(3)"
   ]
  },
  {
   "cell_type": "markdown",
   "id": "16f5fc07-54c9-47c5-b1ba-61a8d95f4783",
   "metadata": {},
   "source": [
    "**2. Repeat Assignment 4**"
   ]
  },
  {
   "cell_type": "code",
   "execution_count": 3,
   "id": "d7d669bf-910d-4459-960d-10f7ae0a0752",
   "metadata": {
    "tags": []
   },
   "outputs": [],
   "source": [
    "target = 'Survived'\n",
    "predictors = ['Pclass', 'Age', 'SibSp', 'Parch', 'Fare', 'Sex', 'Embarked']"
   ]
  },
  {
   "cell_type": "code",
   "execution_count": 4,
   "id": "387c87ba-c86c-4f51-9142-6f112fb7a46a",
   "metadata": {
    "tags": []
   },
   "outputs": [],
   "source": [
    "# To reduce column count, let's use PassengerId as the index\n",
    "df.set_index(\"PassengerId\", inplace=True)\n",
    "\n",
    "# Logistic Regression requires numeric variables so we should drop these\n",
    "df.drop('Name', axis=1, inplace=True)\n",
    "df.drop('Ticket', axis=1, inplace=True)\n",
    "df.drop('Cabin', axis=1, inplace=True)"
   ]
  },
  {
   "cell_type": "code",
   "execution_count": 5,
   "id": "9dc579bb-d2d3-460b-bec5-61bf70deee75",
   "metadata": {
    "tags": []
   },
   "outputs": [],
   "source": [
    "mode = df[\"Age\"].mode()[0]\n",
    "df.fillna({'Age': mode}, inplace=True)"
   ]
  },
  {
   "cell_type": "code",
   "execution_count": 6,
   "id": "530d5425-2720-43ad-9617-b6f1c678112f",
   "metadata": {
    "tags": []
   },
   "outputs": [],
   "source": [
    "dummies = ['Embarked', 'Sex']\n",
    "for d in dummies:\n",
    "    df[d] = df[d].astype('category')\n",
    "\n",
    "dummy_data = pd.get_dummies(df[dummies])\n",
    "df2 = pd.concat([df, dummy_data], axis=1)\n",
    "df2.drop(dummies, axis=1, inplace=True)"
   ]
  },
  {
   "cell_type": "code",
   "execution_count": 7,
   "id": "416cd9c6-26d1-4f31-ae9a-6820963cc105",
   "metadata": {
    "tags": []
   },
   "outputs": [],
   "source": [
    "predictors.remove(\"Embarked\")\n",
    "predictors.remove(\"Sex\")\n",
    "predictors += [\"Embarked_C\", \"Embarked_Q\", \"Embarked_S\", \"Sex_female\", \"Sex_male\" ]"
   ]
  },
  {
   "cell_type": "code",
   "execution_count": 8,
   "id": "fe94f7a9-e9ae-4c2c-8e8d-1e312e34ebfc",
   "metadata": {},
   "outputs": [],
   "source": [
    "from sklearn.model_selection import train_test_split\n",
    "\n",
    "train, test = train_test_split(df2, test_size=0.2)"
   ]
  },
  {
   "cell_type": "code",
   "execution_count": 9,
   "id": "770492b5-a083-466d-8e97-7a26a0b20332",
   "metadata": {},
   "outputs": [
    {
     "data": {
      "text/plain": [
       "array([[-0.97564481, -0.03472686, -0.24131052, -0.13275864,  0.00295706,\n",
       "         0.6958262 ,  0.4604271 ,  0.24658687,  2.19820898, -0.41858821]])"
      ]
     },
     "execution_count": 9,
     "metadata": {},
     "output_type": "execute_result"
    }
   ],
   "source": [
    "from sklearn.linear_model import LogisticRegression\n",
    "\n",
    "X_train = train[predictors]\n",
    "y_train = train[target]\n",
    "\n",
    "#model = LogisticRegression(solver='lbfgs', max_iter=500)\n",
    "model = LogisticRegression(solver='liblinear')\n",
    "model.fit(X_train, y_train)\n",
    "\n",
    "model.coef_"
   ]
  },
  {
   "cell_type": "markdown",
   "id": "f743eb1a-e399-4f90-9f08-2acec74a0575",
   "metadata": {},
   "source": [
    "**3. Use GridSearchCV to fit the logistic regression with a dictionary of values for C.**"
   ]
  },
  {
   "cell_type": "code",
   "execution_count": 10,
   "id": "17f27749-2d6f-4390-af44-0b1795a8a966",
   "metadata": {
    "tags": []
   },
   "outputs": [
    {
     "name": "stdout",
     "output_type": "stream",
     "text": [
      "-----\n",
      "Best parameters {'C': 0.75}\n",
      "Mean cross-validated accuracy score of the best_estimator: 0.809\n",
      "-----\n",
      "CPU times: user 379 ms, sys: 0 ns, total: 379 ms\n",
      "Wall time: 366 ms\n"
     ]
    }
   ],
   "source": [
    "%%time\n",
    "from sklearn.model_selection import GridSearchCV\n",
    "\n",
    "params_C = [0.001, 0.01, 0.1, 0.25, 0.5, 0.75, 1.0]\n",
    "\n",
    "params = {\n",
    "    \"C\": params_C,\n",
    "    #\"penalty\": [\"l1\", \"l2\"]\n",
    "}\n",
    "\n",
    "gscv = GridSearchCV(\n",
    "    model,\n",
    "    params,\n",
    "    cv=5,\n",
    "    scoring='accuracy'\n",
    ")\n",
    "\n",
    "gscv.fit(X_train, y_train)\n",
    "print(\"-----\")\n",
    "print(f'Best parameters {gscv.best_params_}')\n",
    "print(\n",
    "    f'Mean cross-validated accuracy score of the best_estimator: ' + \n",
    "    f'{gscv.best_score_:.3f}'\n",
    ")\n",
    "print(\"-----\")"
   ]
  },
  {
   "cell_type": "code",
   "execution_count": 11,
   "id": "2d309f1a-7255-4a2e-8521-3221880a3c05",
   "metadata": {
    "tags": []
   },
   "outputs": [
    {
     "data": {
      "text/plain": [
       "{'mean_fit_time': array([0.00828295, 0.00556107, 0.00563698, 0.00691514, 0.00629163,\n",
       "        0.00602636, 0.00610304]),\n",
       " 'std_fit_time': array([0.00195177, 0.00024908, 0.00024614, 0.00029469, 0.00036083,\n",
       "        0.00034558, 0.00019666]),\n",
       " 'mean_score_time': array([0.00444326, 0.00276384, 0.00305934, 0.0026063 , 0.00284858,\n",
       "        0.00259099, 0.00252452]),\n",
       " 'std_score_time': array([7.36186209e-04, 3.99614592e-04, 4.11185543e-04, 5.39670552e-05,\n",
       "        3.06297357e-04, 1.19552462e-04, 1.21935532e-04]),\n",
       " 'param_C': masked_array(data=[0.001, 0.01, 0.1, 0.25, 0.5, 0.75, 1.0],\n",
       "              mask=[False, False, False, False, False, False, False],\n",
       "        fill_value='?',\n",
       "             dtype=object),\n",
       " 'params': [{'C': 0.001},\n",
       "  {'C': 0.01},\n",
       "  {'C': 0.1},\n",
       "  {'C': 0.25},\n",
       "  {'C': 0.5},\n",
       "  {'C': 0.75},\n",
       "  {'C': 1.0}],\n",
       " 'split0_test_score': array([0.70629371, 0.75524476, 0.81118881, 0.83216783, 0.83216783,\n",
       "        0.81818182, 0.81818182]),\n",
       " 'split1_test_score': array([0.68531469, 0.72027972, 0.7972028 , 0.7972028 , 0.81118881,\n",
       "        0.81818182, 0.81118881]),\n",
       " 'split2_test_score': array([0.71830986, 0.71830986, 0.78873239, 0.78169014, 0.77464789,\n",
       "        0.78873239, 0.78873239]),\n",
       " 'split3_test_score': array([0.68309859, 0.73239437, 0.82394366, 0.82394366, 0.82394366,\n",
       "        0.82394366, 0.82394366]),\n",
       " 'split4_test_score': array([0.70422535, 0.74647887, 0.79577465, 0.78873239, 0.78873239,\n",
       "        0.79577465, 0.79577465]),\n",
       " 'mean_test_score': array([0.69944844, 0.73454151, 0.80336846, 0.80474737, 0.80613612,\n",
       "        0.80896287, 0.80756427]),\n",
       " 'std_test_score': array([0.01336047, 0.01444022, 0.0126047 , 0.01982632, 0.02151598,\n",
       "        0.01398287, 0.01332508]),\n",
       " 'rank_test_score': array([7, 6, 5, 4, 3, 1, 2], dtype=int32)}"
      ]
     },
     "execution_count": 11,
     "metadata": {},
     "output_type": "execute_result"
    }
   ],
   "source": [
    "gscv.cv_results_"
   ]
  },
  {
   "cell_type": "code",
   "execution_count": null,
   "id": "2e0c33b6-0692-40f0-a2f5-1ae95b6405ae",
   "metadata": {},
   "outputs": [],
   "source": []
  },
  {
   "cell_type": "markdown",
   "id": "8ea7b654-8045-40ad-bcc0-b1e063f2fd80",
   "metadata": {},
   "source": [
    "**4. See what is the best value for the Hyperparameter when using the accuracy score?**"
   ]
  },
  {
   "cell_type": "code",
   "execution_count": 12,
   "id": "28eab17b-2a00-4901-ba3a-447222a0b3d1",
   "metadata": {
    "tags": []
   },
   "outputs": [
    {
     "data": {
      "text/plain": [
       "{'C': 0.75}"
      ]
     },
     "execution_count": 12,
     "metadata": {},
     "output_type": "execute_result"
    }
   ],
   "source": [
    "gscv.best_params_"
   ]
  },
  {
   "cell_type": "markdown",
   "id": "3fef1fd5-6346-4e8f-b143-e3093a8de17a",
   "metadata": {},
   "source": [
    "**5. Investigate the difference between L1 and L2 for the outcome. Is there a difference?**"
   ]
  },
  {
   "cell_type": "code",
   "execution_count": null,
   "id": "a4f49759-10f7-43df-a061-bdcbb8a6bee6",
   "metadata": {
    "tags": []
   },
   "outputs": [],
   "source": []
  },
  {
   "cell_type": "markdown",
   "id": "f6e7808d-65d2-459b-b8d7-613177e660f1",
   "metadata": {},
   "source": [
    "**6. Investigate the results of using different cross validation values**"
   ]
  },
  {
   "cell_type": "code",
   "execution_count": null,
   "id": "9c3bfbb1-edfd-43ef-bfe2-5c05a4da3195",
   "metadata": {},
   "outputs": [],
   "source": []
  },
  {
   "cell_type": "markdown",
   "id": "2737bad7-4e53-4e17-badc-2ad4669e91ff",
   "metadata": {},
   "source": [
    "**7. For the different investigation procedures, plot the accuracy outcome compared to the different parameters. For example, Accuracy VS. the value of C.**"
   ]
  },
  {
   "cell_type": "code",
   "execution_count": 13,
   "id": "a4eb063a-8417-4130-872c-a63d7c3639d9",
   "metadata": {
    "tags": []
   },
   "outputs": [
    {
     "data": {
      "image/png": "[encoded data removed]",
      "text/plain": [
       "<Figure size 640x480 with 1 Axes>"
      ]
     },
     "metadata": {},
     "output_type": "display_data"
    }
   ],
   "source": [
    "plt.plot(params_C, gscv.cv_results_['mean_test_score'], \"-o\")\n",
    "plt.xlabel(\"C\")\n",
    "plt.ylabel(\"Accuracy\")\n",
    "plt.show()"
   ]
  },
  {
   "cell_type": "markdown",
   "id": "c747f92f-fb32-4fdb-9eed-2faa876bce48",
   "metadata": {},
   "source": [
    "**8. Use Accuracy, Sensitivity, and F1-score to assess the final performance of the chosen model.**"
   ]
  },
  {
   "cell_type": "code",
   "execution_count": 14,
   "id": "044b6c09-8831-44f2-84a2-ce1024075b2d",
   "metadata": {
    "tags": []
   },
   "outputs": [
    {
     "data": {
      "text/plain": [
       "array([0, 0, 0, 0, 0, 0, 1, 1, 0, 0, 1, 0, 0, 0, 0, 1, 0, 0, 1, 1, 1, 0,\n",
       "       0, 0, 0, 1, 0, 0, 0, 1, 0, 0, 0, 0, 0, 0, 0, 0, 0, 0, 1, 0, 0, 1,\n",
       "       0, 0, 0, 1, 0, 0, 0, 0, 0, 0, 0, 1, 0, 0, 1, 0, 0, 1, 0, 0, 1, 1,\n",
       "       0, 1, 0, 0, 0, 0, 1, 1, 0, 1, 1, 0, 0, 0, 0, 0, 0, 1, 0, 0, 0, 0,\n",
       "       1, 1, 0, 1, 0, 0, 0, 1, 0, 0, 0, 0, 0, 0, 0, 1, 0, 1, 1, 0, 0, 1,\n",
       "       1, 1, 1, 0, 0, 1, 0, 0, 0, 1, 0, 1, 0, 1, 0, 0, 0, 1, 0, 1, 0, 0,\n",
       "       1, 1, 0, 0, 0, 0, 0, 0, 0, 1, 0, 1, 0, 0, 0, 0, 0, 1, 1, 1, 0, 0,\n",
       "       0, 1, 1, 1, 0, 1, 0, 1, 1, 1, 0, 1, 0, 0, 0, 0, 1, 1, 0, 0, 1, 0,\n",
       "       0, 1, 1])"
      ]
     },
     "execution_count": 14,
     "metadata": {},
     "output_type": "execute_result"
    }
   ],
   "source": [
    "X_test = test[predictors]\n",
    "y_test = test[target]\n",
    "\n",
    "y_pred = gscv.predict(X_test)\n",
    "y_pred"
   ]
  },
  {
   "cell_type": "code",
   "execution_count": 15,
   "id": "e7a3fced-492d-4b66-bbce-b4bc1e6d7956",
   "metadata": {
    "tags": []
   },
   "outputs": [],
   "source": [
    "from sklearn.metrics import accuracy_score, precision_score, confusion_matrix, f1_score"
   ]
  },
  {
   "cell_type": "code",
   "execution_count": 16,
   "id": "ccf9360f-9c33-49b7-a964-7dd48a0d2f89",
   "metadata": {
    "tags": []
   },
   "outputs": [
    {
     "data": {
      "text/plain": [
       "array([[94, 25],\n",
       "       [13, 47]])"
      ]
     },
     "execution_count": 16,
     "metadata": {},
     "output_type": "execute_result"
    }
   ],
   "source": [
    "confusion_matrix(y_pred, y_test)"
   ]
  },
  {
   "cell_type": "code",
   "execution_count": 17,
   "id": "f3618e4a-cb1c-4ea0-8e58-4aaf19a49779",
   "metadata": {
    "tags": []
   },
   "outputs": [
    {
     "name": "stdout",
     "output_type": "stream",
     "text": [
      "Accuracy: 78.77%\n",
      "Precision: 65.28%\n",
      "F1 Score: 71.21%\n"
     ]
    }
   ],
   "source": [
    "acc = accuracy_score(y_pred, y_test)\n",
    "prec = precision_score(y_pred, y_test)\n",
    "f1 = f1_score(y_pred, y_test)\n",
    "\n",
    "print(f\"Accuracy: {acc*100:.2f}%\")\n",
    "print(f\"Precision: {prec*100:.2f}%\")\n",
    "print(f\"F1 Score: {f1*100:.2f}%\")"
   ]
  },
  {
   "cell_type": "code",
   "execution_count": null,
   "id": "647d9f34-bb58-404c-961a-f379d4691493",
   "metadata": {},
   "outputs": [],
   "source": []
  }
 ],
 "metadata": {
  "kernelspec": {
   "display_name": "Python 3 (ipykernel)",
   "language": "python",
   "name": "python3"
  },
  "language_info": {
   "codemirror_mode": {
    "name": "ipython",
    "version": 3
   },
   "file_extension": ".py",
   "mimetype": "text/x-python",
   "name": "python",
   "nbconvert_exporter": "python",
   "pygments_lexer": "ipython3",
   "version": "3.9.2"
  }
 },
 "nbformat": 4,
 "nbformat_minor": 5
}
