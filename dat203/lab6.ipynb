{
 "cells": [
  {
   "cell_type": "markdown",
   "id": "de9b3064-dc4f-49a1-90ee-544359639c66",
   "metadata": {},
   "source": [
    "# DAT 203 - Lab Assignment #6\n",
    "\n",
    "- Author: Colin Bowers\n",
    "- Date: Jun 17, 2023"
   ]
  },
  {
   "cell_type": "markdown",
   "id": "9a696aec-f7fd-46c5-8ff1-b8b30d95642e",
   "metadata": {},
   "source": [
    "**Instructions**\n"
   ]
  },
  {
   "cell_type": "code",
   "execution_count": null,
   "id": "f6ee5b41-c6fa-4ce3-a17f-d86e2cb8731c",
   "metadata": {
    "tags": []
   },
   "outputs": [],
   "source": [
    "import numpy as np\n",
    "import pandas as pd\n",
    "import matplotlib.pyplot as plt\n",
    "import sklearn as sk "
   ]
  },
  {
   "cell_type": "markdown",
   "id": "46e8f276-de43-47f9-9b56-6322e31c223c",
   "metadata": {},
   "source": [
    "**Instructions**\n",
    "1. Upload Titanic dataset \n",
    "1. Define Survived column as TARGET variable \n",
    "1. Select ALL  features that can be predictive of the survival status\n",
    "1. Transform ALL Possible  categorical features with Dummy values \n",
    "1. Import Decision Tree function, train and test function from sklearn library \n",
    "1. Apply Decision Tree on the split train/test dataset  and report the accuracy \n",
    "1. Part II\n",
    "    1. Change and expand the possible parameters and the number of cv for the hyper-parameter tuning\n",
    "    1. Report feature importance using “feature_importances_” attribute\n",
    "    1. Report the best features according to the decision tree using n_features_ attribute\n",
    "    1. Compute your model’s confusion matrix, accuracy, and f1-score. "
   ]
  },
  {
   "cell_type": "markdown",
   "id": "dce01622-5593-4b6e-a16f-e2bf183ffc58",
   "metadata": {},
   "source": [
    "**1 - Upload Titanic dataset**"
   ]
  },
  {
   "cell_type": "code",
   "execution_count": null,
   "id": "88983e9f-4228-4fb7-a794-8c09be1a2a4c",
   "metadata": {
    "tags": []
   },
   "outputs": [],
   "source": [
    "df = pd.read_csv(\"data/Titanic_original.csv\")\n",
    "df.sample(3)"
   ]
  },
  {
   "cell_type": "markdown",
   "id": "4ade3265-735e-4f88-a52c-48da1de04454",
   "metadata": {},
   "source": [
    "**2 - Define Survived column as TARGET variable**"
   ]
  },
  {
   "cell_type": "code",
   "execution_count": null,
   "id": "fc0e5417-76f2-4dfe-9482-660b104597b0",
   "metadata": {
    "tags": []
   },
   "outputs": [],
   "source": [
    "target = 'Survived'"
   ]
  },
  {
   "cell_type": "markdown",
   "id": "ad4b8e4b-fcf0-4085-981d-a719985b71e1",
   "metadata": {},
   "source": [
    "**3 - Select ALL features that can be predictive of the survival status**"
   ]
  },
  {
   "cell_type": "code",
   "execution_count": null,
   "id": "4ebafd1a-904c-47ec-9d24-ac29548e3178",
   "metadata": {},
   "outputs": [],
   "source": [
    "predictors = ['Pclass', 'Age', 'SibSp', 'Parch', 'Fare', 'Sex', 'Embarked']"
   ]
  },
  {
   "cell_type": "code",
   "execution_count": null,
   "id": "82afac83-4e4a-4cb1-9cda-6e05722bb173",
   "metadata": {},
   "outputs": [],
   "source": [
    "# To reduce column count, let's use PassengerId as the index\n",
    "df.set_index(\"PassengerId\", inplace=True)\n",
    "\n",
    "# Logistic Regression requires numeric variables so we should drop these\n",
    "df.drop('Name', axis=1, inplace=True)\n",
    "df.drop('Ticket', axis=1, inplace=True)\n",
    "df.drop('Cabin', axis=1, inplace=True)"
   ]
  },
  {
   "cell_type": "code",
   "execution_count": null,
   "id": "41a6967d-0147-4a86-8c3f-4a8928fa6893",
   "metadata": {},
   "outputs": [],
   "source": [
    "# Replace missing values of Age to be the median\n",
    "median = df[\"Age\"].median()\n",
    "df.fillna({'Age': median}, inplace=True)"
   ]
  },
  {
   "cell_type": "markdown",
   "id": "7f182d8d-f4cb-494a-aec1-8cb7121a13f0",
   "metadata": {},
   "source": [
    "**4 - Transform ALL Possible categorical features with Dummy values**"
   ]
  },
  {
   "cell_type": "code",
   "execution_count": null,
   "id": "fcff9222-254e-448b-be1b-557879143b5f",
   "metadata": {},
   "outputs": [],
   "source": [
    "# for the columns that are categorical, convert them and create dummies for each\n",
    "dummies = ['Embarked', 'Sex']\n",
    "for d in dummies:\n",
    "    df[d] = df[d].astype('category')\n",
    "\n",
    "dummy_data = pd.get_dummies(df[dummies])\n",
    "df2 = pd.concat([df, dummy_data], axis=1)\n",
    "df2.drop(dummies, axis=1, inplace=True)"
   ]
  },
  {
   "cell_type": "code",
   "execution_count": null,
   "id": "d4f46179-7375-4980-a605-44fa08bf8c2e",
   "metadata": {},
   "outputs": [],
   "source": [
    "# Add the new dummy fields to the list of predictors \n",
    "predictors.remove(\"Embarked\")\n",
    "predictors.remove(\"Sex\")\n",
    "predictors += [\"Embarked_C\", \"Embarked_Q\", \"Embarked_S\", \"Sex_female\", \"Sex_male\" ]"
   ]
  },
  {
   "cell_type": "markdown",
   "id": "57da4213-ce8c-46fe-b040-8763a76675c6",
   "metadata": {},
   "source": [
    "**5 - Import Decision Tree function, train and test function from sklearn library**"
   ]
  },
  {
   "cell_type": "code",
   "execution_count": null,
   "id": "101c1f61-2622-4374-9acc-508a00edfd9c",
   "metadata": {},
   "outputs": [],
   "source": [
    "from sklearn.tree import DecisionTreeClassifier\n",
    "from sklearn import tree\n",
    "from sklearn.model_selection import train_test_split\n",
    "from sklearn import metrics"
   ]
  },
  {
   "cell_type": "markdown",
   "id": "70818e19-8251-421e-8826-8eddd3762d67",
   "metadata": {},
   "source": [
    "**6 - Apply Decision Tree on the split train/test dataset and report the accuracy**"
   ]
  },
  {
   "cell_type": "code",
   "execution_count": null,
   "id": "14793305-96d1-4693-be9d-6d1eaef35cdb",
   "metadata": {},
   "outputs": [],
   "source": [
    "# split the data into training (80%) and test (20%)\n",
    "train, test = train_test_split(df2, test_size=0.2)\n",
    "\n",
    "X_train = train[predictors]\n",
    "y_train = train[target]\n",
    "\n",
    "X_test = test[predictors]\n",
    "y_test = test[target]\n"
   ]
  },
  {
   "cell_type": "code",
   "execution_count": null,
   "id": "9d27a78e-b3ec-417b-8da7-25d067b56c72",
   "metadata": {},
   "outputs": [],
   "source": [
    "model = DecisionTreeClassifier(random_state=0)\n",
    "model = model.fit(X_train, y_train)"
   ]
  },
  {
   "cell_type": "code",
   "execution_count": null,
   "id": "eedd7510-147a-4dda-b046-55321fe8fb33",
   "metadata": {
    "tags": []
   },
   "outputs": [],
   "source": [
    "# check accuracy with TRAINING data\n",
    "y_pred_train = model.predict(X_train)\n",
    "print(metrics.classification_report(y_train, y_pred_train))\n"
   ]
  },
  {
   "cell_type": "code",
   "execution_count": null,
   "id": "009d7185-b8b4-467d-85e0-ab252074372d",
   "metadata": {
    "tags": []
   },
   "outputs": [],
   "source": [
    "# check accuracy with TEST data\n",
    "y_pred = model.predict(X_test)\n",
    "score = metrics.accuracy_score(y_test, y_pred)\n",
    "print(metrics.classification_report(y_test, y_pred))"
   ]
  },
  {
   "cell_type": "code",
   "execution_count": null,
   "id": "10a13f24-c3e0-4c35-939e-4e5a1cb9f90f",
   "metadata": {
    "tags": []
   },
   "outputs": [],
   "source": [
    "mat = metrics.confusion_matrix(y_pred, y_test)\n",
    "mat"
   ]
  },
  {
   "cell_type": "code",
   "execution_count": null,
   "id": "3835e611-a9ee-4fe1-867e-10f8f4fc1af5",
   "metadata": {
    "tags": []
   },
   "outputs": [],
   "source": [
    "#fig = plt.figure(figsize=(25,20))\n",
    "#_ = tree.plot_tree(\n",
    "#    model, \n",
    "#    feature_names= predictors,  \n",
    "#    class_names = target,\n",
    "#    filled = True\n",
    "#)"
   ]
  },
  {
   "cell_type": "markdown",
   "id": "0c901162-c1e8-49cc-ac58-d4ecd20d392b",
   "metadata": {
    "tags": []
   },
   "source": [
    "## Part II"
   ]
  },
  {
   "cell_type": "code",
   "execution_count": null,
   "id": "db1a1f61-145e-47e5-9a31-fceabd8cfece",
   "metadata": {
    "tags": []
   },
   "outputs": [],
   "source": [
    "#Use the following code to perform hyper-parameter tuning for the decision tree.\n",
    "\n",
    "from sklearn.model_selection import GridSearchCV\n",
    "#from sklearn import tree\n",
    "\n",
    "clf = tree.DecisionTreeClassifier()\n",
    "parameters = {\n",
    "    'max_features': ['log2', 'sqrt'], \n",
    "    'criterion': ['entropy', 'gini'],\n",
    "    'max_depth': [2, 3, 5, 10], \n",
    "    'min_samples_split': [2, 3, 5],\n",
    "    'min_samples_leaf': [1,5,8]\n",
    "}\n",
    "grid_obj = GridSearchCV(clf, parameters, cv=5)\n",
    "grid_obj = grid_obj.fit(X_train, y_train)\n"
   ]
  },
  {
   "cell_type": "code",
   "execution_count": null,
   "id": "5ad58ea6-8abb-4aa7-b561-96da1a70c0fd",
   "metadata": {
    "tags": []
   },
   "outputs": [],
   "source": [
    "grid_obj.best_params_"
   ]
  },
  {
   "cell_type": "code",
   "execution_count": null,
   "id": "6e782eb9-82dd-4501-8985-cb046ace4432",
   "metadata": {
    "tags": []
   },
   "outputs": [],
   "source": [
    "model2 = grid_obj.best_estimator_\n",
    "model2.fit(X_train, y_train)\n",
    "\n",
    "y_pred = model2.predict(X_test)\n",
    "score2 = metrics.accuracy_score(y_test, y_pred)\n",
    "print(metrics.classification_report(y_test, y_pred))\n"
   ]
  },
  {
   "cell_type": "code",
   "execution_count": null,
   "id": "0b61b937-9bb3-4757-a44f-6a9f305aadc8",
   "metadata": {
    "tags": []
   },
   "outputs": [],
   "source": [
    "print(\"Accuracy improved by: \", score2 - score)"
   ]
  },
  {
   "cell_type": "markdown",
   "id": "f2356fbf-ba3a-41b1-800f-cea6c33bf756",
   "metadata": {},
   "source": [
    "**7 - Change and expand the possible parameters and the number of cv for the hyper-parameter tuning**"
   ]
  },
  {
   "cell_type": "code",
   "execution_count": null,
   "id": "df8681cf-8616-4a38-b14f-00374f55dc3f",
   "metadata": {
    "tags": []
   },
   "outputs": [],
   "source": [
    "# Explore Max Depth\n",
    "\n",
    "depth_range = range(2, 20)\n",
    "accuracy = [ ]\n",
    "for d in depth_range:\n",
    "    m = tree.DecisionTreeClassifier(max_depth = d, random_state=0)\n",
    "    m.fit(X_train, y_train)\n",
    "    score = m.score(X_train, y_train)\n",
    "    accuracy.append(score)\n",
    "    \n",
    "plt.plot(depth_range, accuracy, \"o-\")\n",
    "plt.xlabel(\"Depth\")\n",
    "plt.ylabel(\"Accuracy\")\n",
    "plt.show()"
   ]
  },
  {
   "cell_type": "code",
   "execution_count": null,
   "id": "41ab999a-9de5-47bd-b34d-5e1f9b7a2f39",
   "metadata": {
    "tags": []
   },
   "outputs": [],
   "source": [
    "# Explore CV"
   ]
  },
  {
   "cell_type": "markdown",
   "id": "9a8e7c0a-0eb5-4eaf-98b8-a392e949d634",
   "metadata": {},
   "source": [
    "**8 - Report feature importance using “feature_importances_” attribute**"
   ]
  },
  {
   "cell_type": "code",
   "execution_count": null,
   "id": "9039a070-61cf-489a-8e61-a3aeb4b1a2b8",
   "metadata": {
    "tags": []
   },
   "outputs": [],
   "source": [
    "imp = model2.feature_importances_ "
   ]
  },
  {
   "cell_type": "code",
   "execution_count": null,
   "id": "ba1d4914-b5b0-492c-984c-85e8b5cc4b18",
   "metadata": {
    "tags": []
   },
   "outputs": [],
   "source": [
    "df = pd.DataFrame(imp, index=X_train.columns, columns=[\"Importance\"])\n",
    "df.sort_values(by='Importance', ascending=False, inplace=True)\n",
    "df.plot(kind='bar', figsize=(8,6))\n",
    "plt.show()"
   ]
  },
  {
   "cell_type": "markdown",
   "id": "b5828f79-315a-4ce2-982c-c43fe2e26a1a",
   "metadata": {},
   "source": [
    "**9 - Report the best features according to the decision tree using n_features_ attribute**"
   ]
  },
  {
   "cell_type": "code",
   "execution_count": null,
   "id": "c5f4bee1-2f3f-4b5e-8b17-f88c11f21aa0",
   "metadata": {
    "tags": []
   },
   "outputs": [],
   "source": [
    "model2.n_features_in_"
   ]
  },
  {
   "cell_type": "code",
   "execution_count": null,
   "id": "319718c8-75e1-48ff-8888-0eb712cb2e70",
   "metadata": {
    "tags": []
   },
   "outputs": [],
   "source": [
    "model2.feature_names_in_"
   ]
  },
  {
   "cell_type": "markdown",
   "id": "4a4dbc62-fb8d-4d36-9fdc-57ffe42f884d",
   "metadata": {
    "tags": []
   },
   "source": [
    "**10 - Compute your model’s confusion matrix, accuracy, and f1-score.**"
   ]
  },
  {
   "cell_type": "code",
   "execution_count": null,
   "id": "c3c5a73e-bd5e-4e43-9855-d76e70f3491c",
   "metadata": {
    "tags": []
   },
   "outputs": [],
   "source": [
    "y_pred = model2.predict(X_test)\n",
    "score2 = metrics.accuracy_score(y_test, y_pred)\n",
    "print(metrics.classification_report(y_test, y_pred))"
   ]
  },
  {
   "cell_type": "code",
   "execution_count": null,
   "id": "163c0095-263c-4649-b170-19bfb68661af",
   "metadata": {
    "tags": []
   },
   "outputs": [],
   "source": [
    "mat2 = metrics.confusion_matrix(y_pred, y_test)\n",
    "mat2"
   ]
  },
  {
   "cell_type": "code",
   "execution_count": null,
   "id": "5c982060-909a-4dc9-9b87-1916d571113f",
   "metadata": {},
   "outputs": [],
   "source": []
  }
 ],
 "metadata": {
  "kernelspec": {
   "display_name": "Python 3 (ipykernel)",
   "language": "python",
   "name": "python3"
  },
  "language_info": {
   "codemirror_mode": {
    "name": "ipython",
    "version": 3
   },
   "file_extension": ".py",
   "mimetype": "text/x-python",
   "name": "python",
   "nbconvert_exporter": "python",
   "pygments_lexer": "ipython3",
   "version": "3.9.2"
  }
 },
 "nbformat": 4,
 "nbformat_minor": 5
}
