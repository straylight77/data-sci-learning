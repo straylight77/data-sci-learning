{
 "cells": [
  {
   "cell_type": "markdown",
   "id": "765c801f-be75-45f3-b487-a0a1dad3ed28",
   "metadata": {},
   "source": [
    "# DAT 203 - Lab Assignment #4\n",
    "\n",
    "- Author: Colin Bowers\n",
    "- Date: Jun 3, 2023"
   ]
  },
  {
   "cell_type": "markdown",
   "id": "4d28baa0-abc1-4bb1-9336-f08d3bfc329d",
   "metadata": {},
   "source": [
    "## Instructions\n",
    "1. Upload Titanic dataset \n",
    "1. Define Survived column as TARGET variable \n",
    "1. Select features that can be predictive of the survival status\n",
    "1. Drop features that you think are not predictive and explain why they are being dropped \n",
    "1. Transform selected categorical features with Dummy values \n",
    "1. Import logistic regression function, train and test function from sklearn library \n",
    "1. Apply logistic regression on the split train/test dataset\n",
    "1. Compute your model’s accuracy using accuracy_score"
   ]
  },
  {
   "cell_type": "code",
   "execution_count": 1,
   "id": "0c1b0c9f-b17f-4262-b489-4d3e98c66d98",
   "metadata": {
    "tags": []
   },
   "outputs": [],
   "source": [
    "import numpy as np\n",
    "import pandas as pd\n",
    "import matplotlib.pyplot as plt\n",
    "import sklearn as sk "
   ]
  },
  {
   "cell_type": "markdown",
   "id": "212f9b5d-ccda-4072-9542-6a5cca69a802",
   "metadata": {},
   "source": [
    "**1 - Upload Titanic dataset**"
   ]
  },
  {
   "cell_type": "code",
   "execution_count": 2,
   "id": "632285c7-4fdd-4ab4-8882-47311b018e4d",
   "metadata": {
    "tags": []
   },
   "outputs": [
    {
     "data": {
      "text/html": [
       "<div>\n",
       "<style scoped>\n",
       "    .dataframe tbody tr th:only-of-type {\n",
       "        vertical-align: middle;\n",
       "    }\n",
       "\n",
       "    .dataframe tbody tr th {\n",
       "        vertical-align: top;\n",
       "    }\n",
       "\n",
       "    .dataframe thead th {\n",
       "        text-align: right;\n",
       "    }\n",
       "</style>\n",
       "<table border=\"1\" class=\"dataframe\">\n",
       "  <thead>\n",
       "    <tr style=\"text-align: right;\">\n",
       "      <th></th>\n",
       "      <th>PassengerId</th>\n",
       "      <th>Survived</th>\n",
       "      <th>Pclass</th>\n",
       "      <th>Name</th>\n",
       "      <th>Sex</th>\n",
       "      <th>Age</th>\n",
       "      <th>SibSp</th>\n",
       "      <th>Parch</th>\n",
       "      <th>Ticket</th>\n",
       "      <th>Fare</th>\n",
       "      <th>Cabin</th>\n",
       "      <th>Embarked</th>\n",
       "    </tr>\n",
       "  </thead>\n",
       "  <tbody>\n",
       "    <tr>\n",
       "      <th>count</th>\n",
       "      <td>891.00</td>\n",
       "      <td>891.00</td>\n",
       "      <td>891.00</td>\n",
       "      <td>891</td>\n",
       "      <td>891</td>\n",
       "      <td>714.00</td>\n",
       "      <td>891.00</td>\n",
       "      <td>891.00</td>\n",
       "      <td>891</td>\n",
       "      <td>891.00</td>\n",
       "      <td>204</td>\n",
       "      <td>889</td>\n",
       "    </tr>\n",
       "    <tr>\n",
       "      <th>unique</th>\n",
       "      <td>NaN</td>\n",
       "      <td>NaN</td>\n",
       "      <td>NaN</td>\n",
       "      <td>891</td>\n",
       "      <td>2</td>\n",
       "      <td>NaN</td>\n",
       "      <td>NaN</td>\n",
       "      <td>NaN</td>\n",
       "      <td>681</td>\n",
       "      <td>NaN</td>\n",
       "      <td>147</td>\n",
       "      <td>3</td>\n",
       "    </tr>\n",
       "    <tr>\n",
       "      <th>top</th>\n",
       "      <td>NaN</td>\n",
       "      <td>NaN</td>\n",
       "      <td>NaN</td>\n",
       "      <td>Braund, Mr. Owen Harris</td>\n",
       "      <td>male</td>\n",
       "      <td>NaN</td>\n",
       "      <td>NaN</td>\n",
       "      <td>NaN</td>\n",
       "      <td>347082</td>\n",
       "      <td>NaN</td>\n",
       "      <td>B96 B98</td>\n",
       "      <td>S</td>\n",
       "    </tr>\n",
       "    <tr>\n",
       "      <th>freq</th>\n",
       "      <td>NaN</td>\n",
       "      <td>NaN</td>\n",
       "      <td>NaN</td>\n",
       "      <td>1</td>\n",
       "      <td>577</td>\n",
       "      <td>NaN</td>\n",
       "      <td>NaN</td>\n",
       "      <td>NaN</td>\n",
       "      <td>7</td>\n",
       "      <td>NaN</td>\n",
       "      <td>4</td>\n",
       "      <td>644</td>\n",
       "    </tr>\n",
       "    <tr>\n",
       "      <th>mean</th>\n",
       "      <td>446.00</td>\n",
       "      <td>0.38</td>\n",
       "      <td>2.31</td>\n",
       "      <td>NaN</td>\n",
       "      <td>NaN</td>\n",
       "      <td>29.70</td>\n",
       "      <td>0.52</td>\n",
       "      <td>0.38</td>\n",
       "      <td>NaN</td>\n",
       "      <td>32.20</td>\n",
       "      <td>NaN</td>\n",
       "      <td>NaN</td>\n",
       "    </tr>\n",
       "    <tr>\n",
       "      <th>std</th>\n",
       "      <td>257.35</td>\n",
       "      <td>0.49</td>\n",
       "      <td>0.84</td>\n",
       "      <td>NaN</td>\n",
       "      <td>NaN</td>\n",
       "      <td>14.53</td>\n",
       "      <td>1.10</td>\n",
       "      <td>0.81</td>\n",
       "      <td>NaN</td>\n",
       "      <td>49.69</td>\n",
       "      <td>NaN</td>\n",
       "      <td>NaN</td>\n",
       "    </tr>\n",
       "    <tr>\n",
       "      <th>min</th>\n",
       "      <td>1.00</td>\n",
       "      <td>0.00</td>\n",
       "      <td>1.00</td>\n",
       "      <td>NaN</td>\n",
       "      <td>NaN</td>\n",
       "      <td>0.42</td>\n",
       "      <td>0.00</td>\n",
       "      <td>0.00</td>\n",
       "      <td>NaN</td>\n",
       "      <td>0.00</td>\n",
       "      <td>NaN</td>\n",
       "      <td>NaN</td>\n",
       "    </tr>\n",
       "    <tr>\n",
       "      <th>25%</th>\n",
       "      <td>223.50</td>\n",
       "      <td>0.00</td>\n",
       "      <td>2.00</td>\n",
       "      <td>NaN</td>\n",
       "      <td>NaN</td>\n",
       "      <td>20.12</td>\n",
       "      <td>0.00</td>\n",
       "      <td>0.00</td>\n",
       "      <td>NaN</td>\n",
       "      <td>7.91</td>\n",
       "      <td>NaN</td>\n",
       "      <td>NaN</td>\n",
       "    </tr>\n",
       "    <tr>\n",
       "      <th>50%</th>\n",
       "      <td>446.00</td>\n",
       "      <td>0.00</td>\n",
       "      <td>3.00</td>\n",
       "      <td>NaN</td>\n",
       "      <td>NaN</td>\n",
       "      <td>28.00</td>\n",
       "      <td>0.00</td>\n",
       "      <td>0.00</td>\n",
       "      <td>NaN</td>\n",
       "      <td>14.45</td>\n",
       "      <td>NaN</td>\n",
       "      <td>NaN</td>\n",
       "    </tr>\n",
       "    <tr>\n",
       "      <th>75%</th>\n",
       "      <td>668.50</td>\n",
       "      <td>1.00</td>\n",
       "      <td>3.00</td>\n",
       "      <td>NaN</td>\n",
       "      <td>NaN</td>\n",
       "      <td>38.00</td>\n",
       "      <td>1.00</td>\n",
       "      <td>0.00</td>\n",
       "      <td>NaN</td>\n",
       "      <td>31.00</td>\n",
       "      <td>NaN</td>\n",
       "      <td>NaN</td>\n",
       "    </tr>\n",
       "    <tr>\n",
       "      <th>max</th>\n",
       "      <td>891.00</td>\n",
       "      <td>1.00</td>\n",
       "      <td>3.00</td>\n",
       "      <td>NaN</td>\n",
       "      <td>NaN</td>\n",
       "      <td>80.00</td>\n",
       "      <td>8.00</td>\n",
       "      <td>6.00</td>\n",
       "      <td>NaN</td>\n",
       "      <td>512.33</td>\n",
       "      <td>NaN</td>\n",
       "      <td>NaN</td>\n",
       "    </tr>\n",
       "  </tbody>\n",
       "</table>\n",
       "</div>"
      ],
      "text/plain": [
       "        PassengerId  Survived  Pclass                     Name   Sex     Age  \\\n",
       "count        891.00    891.00  891.00                      891   891  714.00   \n",
       "unique          NaN       NaN     NaN                      891     2     NaN   \n",
       "top             NaN       NaN     NaN  Braund, Mr. Owen Harris  male     NaN   \n",
       "freq            NaN       NaN     NaN                        1   577     NaN   \n",
       "mean         446.00      0.38    2.31                      NaN   NaN   29.70   \n",
       "std          257.35      0.49    0.84                      NaN   NaN   14.53   \n",
       "min            1.00      0.00    1.00                      NaN   NaN    0.42   \n",
       "25%          223.50      0.00    2.00                      NaN   NaN   20.12   \n",
       "50%          446.00      0.00    3.00                      NaN   NaN   28.00   \n",
       "75%          668.50      1.00    3.00                      NaN   NaN   38.00   \n",
       "max          891.00      1.00    3.00                      NaN   NaN   80.00   \n",
       "\n",
       "         SibSp   Parch  Ticket    Fare    Cabin Embarked  \n",
       "count   891.00  891.00     891  891.00      204      889  \n",
       "unique     NaN     NaN     681     NaN      147        3  \n",
       "top        NaN     NaN  347082     NaN  B96 B98        S  \n",
       "freq       NaN     NaN       7     NaN        4      644  \n",
       "mean      0.52    0.38     NaN   32.20      NaN      NaN  \n",
       "std       1.10    0.81     NaN   49.69      NaN      NaN  \n",
       "min       0.00    0.00     NaN    0.00      NaN      NaN  \n",
       "25%       0.00    0.00     NaN    7.91      NaN      NaN  \n",
       "50%       0.00    0.00     NaN   14.45      NaN      NaN  \n",
       "75%       1.00    0.00     NaN   31.00      NaN      NaN  \n",
       "max       8.00    6.00     NaN  512.33      NaN      NaN  "
      ]
     },
     "execution_count": 2,
     "metadata": {},
     "output_type": "execute_result"
    }
   ],
   "source": [
    "df = pd.read_csv(\"data/Titanic_original.csv\")\n",
    "df.describe(include=\"all\").round(2)"
   ]
  },
  {
   "cell_type": "markdown",
   "id": "bc391288-71b3-4569-b774-a2e3eb4f9703",
   "metadata": {},
   "source": [
    "**2 - Define Survived column as TARGET variable**"
   ]
  },
  {
   "cell_type": "code",
   "execution_count": 3,
   "id": "8627b3c3-3e5a-4923-a9b6-30a115ee58d5",
   "metadata": {
    "tags": []
   },
   "outputs": [],
   "source": [
    "# X contains independent values, y contains dependent value\n",
    "target = 'Survived'"
   ]
  },
  {
   "cell_type": "markdown",
   "id": "028581f2-f612-4607-bea9-213541b52262",
   "metadata": {
    "tags": []
   },
   "source": [
    "**3 - Select features that can be predictive of the survival status**"
   ]
  },
  {
   "cell_type": "code",
   "execution_count": 4,
   "id": "f50e88d8-d84b-47c1-a9dc-8a5089aa99d1",
   "metadata": {
    "tags": []
   },
   "outputs": [],
   "source": [
    "predictors = ['Pclass', 'Age', 'SibSp', 'Parch', 'Fare', 'Sex', 'Embarked']\n",
    "#predictors = ['Pclass', 'Age', 'SibSp', 'Parch', 'Fare']"
   ]
  },
  {
   "cell_type": "markdown",
   "id": "7afedc6a-c541-4521-bcf6-b198f103f7b4",
   "metadata": {
    "tags": []
   },
   "source": [
    "**4 - Drop features that you think are not predictive and explain why they are being dropped**"
   ]
  },
  {
   "cell_type": "code",
   "execution_count": 5,
   "id": "4f65b992-2617-43fe-a68e-e0b175fb548e",
   "metadata": {
    "tags": []
   },
   "outputs": [],
   "source": [
    "# To reduce column count, let's use PassengerId as the index\n",
    "df.set_index(\"PassengerId\", inplace=True)\n",
    "\n",
    "# Logistic Regression requires numeric variables so we should drop these\n",
    "df.drop('Name', axis=1, inplace=True)\n",
    "df.drop('Ticket', axis=1, inplace=True)\n",
    "df.drop('Cabin', axis=1, inplace=True)\n",
    "\n",
    "# OTHER POSSIBLE FEATURES \n",
    "# Deck level could be extracted from Cabin which could be a significant predictor\n",
    "# Marital status could be extracted from Name (i.e. Ms. vs Mrs.)\n",
    "# Other titles and social status could be extracted from Name (e.g. Dr.)\n"
   ]
  },
  {
   "cell_type": "code",
   "execution_count": 6,
   "id": "0bbffa95-8bdf-4f5f-be4c-ab5ae503e57d",
   "metadata": {
    "tags": []
   },
   "outputs": [],
   "source": [
    "# Fill missing values for Age using the mode\n",
    "mode = df[\"Age\"].mode()[0]\n",
    "df.fillna({'Age': mode}, inplace=True)"
   ]
  },
  {
   "cell_type": "code",
   "execution_count": 7,
   "id": "2e3eb3c1-aa9a-4c48-86dc-087a186c4b92",
   "metadata": {
    "tags": []
   },
   "outputs": [
    {
     "data": {
      "text/html": [
       "<div>\n",
       "<style scoped>\n",
       "    .dataframe tbody tr th:only-of-type {\n",
       "        vertical-align: middle;\n",
       "    }\n",
       "\n",
       "    .dataframe tbody tr th {\n",
       "        vertical-align: top;\n",
       "    }\n",
       "\n",
       "    .dataframe thead th {\n",
       "        text-align: right;\n",
       "    }\n",
       "</style>\n",
       "<table border=\"1\" class=\"dataframe\">\n",
       "  <thead>\n",
       "    <tr style=\"text-align: right;\">\n",
       "      <th></th>\n",
       "      <th>Survived</th>\n",
       "      <th>Pclass</th>\n",
       "      <th>Age</th>\n",
       "      <th>SibSp</th>\n",
       "      <th>Parch</th>\n",
       "      <th>Fare</th>\n",
       "    </tr>\n",
       "  </thead>\n",
       "  <tbody>\n",
       "    <tr>\n",
       "      <th>count</th>\n",
       "      <td>891.0</td>\n",
       "      <td>891.0</td>\n",
       "      <td>891.0</td>\n",
       "      <td>891.0</td>\n",
       "      <td>891.0</td>\n",
       "      <td>891.0</td>\n",
       "    </tr>\n",
       "    <tr>\n",
       "      <th>mean</th>\n",
       "      <td>0.4</td>\n",
       "      <td>2.3</td>\n",
       "      <td>28.6</td>\n",
       "      <td>0.5</td>\n",
       "      <td>0.4</td>\n",
       "      <td>32.2</td>\n",
       "    </tr>\n",
       "    <tr>\n",
       "      <th>std</th>\n",
       "      <td>0.5</td>\n",
       "      <td>0.8</td>\n",
       "      <td>13.2</td>\n",
       "      <td>1.1</td>\n",
       "      <td>0.8</td>\n",
       "      <td>49.7</td>\n",
       "    </tr>\n",
       "    <tr>\n",
       "      <th>min</th>\n",
       "      <td>0.0</td>\n",
       "      <td>1.0</td>\n",
       "      <td>0.4</td>\n",
       "      <td>0.0</td>\n",
       "      <td>0.0</td>\n",
       "      <td>0.0</td>\n",
       "    </tr>\n",
       "    <tr>\n",
       "      <th>25%</th>\n",
       "      <td>0.0</td>\n",
       "      <td>2.0</td>\n",
       "      <td>22.0</td>\n",
       "      <td>0.0</td>\n",
       "      <td>0.0</td>\n",
       "      <td>7.9</td>\n",
       "    </tr>\n",
       "    <tr>\n",
       "      <th>50%</th>\n",
       "      <td>0.0</td>\n",
       "      <td>3.0</td>\n",
       "      <td>24.0</td>\n",
       "      <td>0.0</td>\n",
       "      <td>0.0</td>\n",
       "      <td>14.5</td>\n",
       "    </tr>\n",
       "    <tr>\n",
       "      <th>75%</th>\n",
       "      <td>1.0</td>\n",
       "      <td>3.0</td>\n",
       "      <td>35.0</td>\n",
       "      <td>1.0</td>\n",
       "      <td>0.0</td>\n",
       "      <td>31.0</td>\n",
       "    </tr>\n",
       "    <tr>\n",
       "      <th>max</th>\n",
       "      <td>1.0</td>\n",
       "      <td>3.0</td>\n",
       "      <td>80.0</td>\n",
       "      <td>8.0</td>\n",
       "      <td>6.0</td>\n",
       "      <td>512.3</td>\n",
       "    </tr>\n",
       "  </tbody>\n",
       "</table>\n",
       "</div>"
      ],
      "text/plain": [
       "       Survived  Pclass    Age  SibSp  Parch   Fare\n",
       "count     891.0   891.0  891.0  891.0  891.0  891.0\n",
       "mean        0.4     2.3   28.6    0.5    0.4   32.2\n",
       "std         0.5     0.8   13.2    1.1    0.8   49.7\n",
       "min         0.0     1.0    0.4    0.0    0.0    0.0\n",
       "25%         0.0     2.0   22.0    0.0    0.0    7.9\n",
       "50%         0.0     3.0   24.0    0.0    0.0   14.5\n",
       "75%         1.0     3.0   35.0    1.0    0.0   31.0\n",
       "max         1.0     3.0   80.0    8.0    6.0  512.3"
      ]
     },
     "execution_count": 7,
     "metadata": {},
     "output_type": "execute_result"
    }
   ],
   "source": [
    "df.describe().round(1)"
   ]
  },
  {
   "cell_type": "markdown",
   "id": "4d422ba3-c572-448d-bdbb-537b2bc71911",
   "metadata": {
    "tags": []
   },
   "source": [
    "**5 - Transform selected categorical features with Dummy values**"
   ]
  },
  {
   "cell_type": "code",
   "execution_count": 8,
   "id": "6d67161a-5d34-4d7b-8a13-9e8c594c46f7",
   "metadata": {
    "tags": []
   },
   "outputs": [
    {
     "data": {
      "text/html": [
       "<div>\n",
       "<style scoped>\n",
       "    .dataframe tbody tr th:only-of-type {\n",
       "        vertical-align: middle;\n",
       "    }\n",
       "\n",
       "    .dataframe tbody tr th {\n",
       "        vertical-align: top;\n",
       "    }\n",
       "\n",
       "    .dataframe thead th {\n",
       "        text-align: right;\n",
       "    }\n",
       "</style>\n",
       "<table border=\"1\" class=\"dataframe\">\n",
       "  <thead>\n",
       "    <tr style=\"text-align: right;\">\n",
       "      <th></th>\n",
       "      <th>Survived</th>\n",
       "      <th>Pclass</th>\n",
       "      <th>Age</th>\n",
       "      <th>SibSp</th>\n",
       "      <th>Parch</th>\n",
       "      <th>Fare</th>\n",
       "      <th>Embarked_C</th>\n",
       "      <th>Embarked_Q</th>\n",
       "      <th>Embarked_S</th>\n",
       "      <th>Sex_female</th>\n",
       "      <th>Sex_male</th>\n",
       "    </tr>\n",
       "    <tr>\n",
       "      <th>PassengerId</th>\n",
       "      <th></th>\n",
       "      <th></th>\n",
       "      <th></th>\n",
       "      <th></th>\n",
       "      <th></th>\n",
       "      <th></th>\n",
       "      <th></th>\n",
       "      <th></th>\n",
       "      <th></th>\n",
       "      <th></th>\n",
       "      <th></th>\n",
       "    </tr>\n",
       "  </thead>\n",
       "  <tbody>\n",
       "    <tr>\n",
       "      <th>1</th>\n",
       "      <td>0</td>\n",
       "      <td>3</td>\n",
       "      <td>22.0</td>\n",
       "      <td>1</td>\n",
       "      <td>0</td>\n",
       "      <td>7.2500</td>\n",
       "      <td>0</td>\n",
       "      <td>0</td>\n",
       "      <td>1</td>\n",
       "      <td>0</td>\n",
       "      <td>1</td>\n",
       "    </tr>\n",
       "    <tr>\n",
       "      <th>2</th>\n",
       "      <td>1</td>\n",
       "      <td>1</td>\n",
       "      <td>38.0</td>\n",
       "      <td>1</td>\n",
       "      <td>0</td>\n",
       "      <td>71.2833</td>\n",
       "      <td>1</td>\n",
       "      <td>0</td>\n",
       "      <td>0</td>\n",
       "      <td>1</td>\n",
       "      <td>0</td>\n",
       "    </tr>\n",
       "    <tr>\n",
       "      <th>3</th>\n",
       "      <td>1</td>\n",
       "      <td>3</td>\n",
       "      <td>26.0</td>\n",
       "      <td>0</td>\n",
       "      <td>0</td>\n",
       "      <td>7.9250</td>\n",
       "      <td>0</td>\n",
       "      <td>0</td>\n",
       "      <td>1</td>\n",
       "      <td>1</td>\n",
       "      <td>0</td>\n",
       "    </tr>\n",
       "    <tr>\n",
       "      <th>4</th>\n",
       "      <td>1</td>\n",
       "      <td>1</td>\n",
       "      <td>35.0</td>\n",
       "      <td>1</td>\n",
       "      <td>0</td>\n",
       "      <td>53.1000</td>\n",
       "      <td>0</td>\n",
       "      <td>0</td>\n",
       "      <td>1</td>\n",
       "      <td>1</td>\n",
       "      <td>0</td>\n",
       "    </tr>\n",
       "    <tr>\n",
       "      <th>5</th>\n",
       "      <td>0</td>\n",
       "      <td>3</td>\n",
       "      <td>35.0</td>\n",
       "      <td>0</td>\n",
       "      <td>0</td>\n",
       "      <td>8.0500</td>\n",
       "      <td>0</td>\n",
       "      <td>0</td>\n",
       "      <td>1</td>\n",
       "      <td>0</td>\n",
       "      <td>1</td>\n",
       "    </tr>\n",
       "  </tbody>\n",
       "</table>\n",
       "</div>"
      ],
      "text/plain": [
       "             Survived  Pclass   Age  SibSp  Parch     Fare  Embarked_C  \\\n",
       "PassengerId                                                              \n",
       "1                   0       3  22.0      1      0   7.2500           0   \n",
       "2                   1       1  38.0      1      0  71.2833           1   \n",
       "3                   1       3  26.0      0      0   7.9250           0   \n",
       "4                   1       1  35.0      1      0  53.1000           0   \n",
       "5                   0       3  35.0      0      0   8.0500           0   \n",
       "\n",
       "             Embarked_Q  Embarked_S  Sex_female  Sex_male  \n",
       "PassengerId                                                \n",
       "1                     0           1           0         1  \n",
       "2                     0           0           1         0  \n",
       "3                     0           1           1         0  \n",
       "4                     0           1           1         0  \n",
       "5                     0           1           0         1  "
      ]
     },
     "execution_count": 8,
     "metadata": {},
     "output_type": "execute_result"
    }
   ],
   "source": [
    "dummies = ['Embarked', 'Sex']\n",
    "for d in dummies:\n",
    "    df[d] = df[d].astype('category')\n",
    "\n",
    "dummy_data = pd.get_dummies(df[dummies])\n",
    "df2 = pd.concat([df, dummy_data], axis=1)\n",
    "df2.drop(dummies, axis=1, inplace=True)\n",
    "\n",
    "df2.head()"
   ]
  },
  {
   "cell_type": "code",
   "execution_count": 9,
   "id": "5a050bf7-b25f-478c-947f-10ac1b0a486c",
   "metadata": {
    "tags": []
   },
   "outputs": [
    {
     "data": {
      "text/plain": [
       "['Pclass',\n",
       " 'Age',\n",
       " 'SibSp',\n",
       " 'Parch',\n",
       " 'Fare',\n",
       " 'Embarked_C',\n",
       " 'Embarked_Q',\n",
       " 'Embarked_S',\n",
       " 'Sex_female',\n",
       " 'Sex_male']"
      ]
     },
     "execution_count": 9,
     "metadata": {},
     "output_type": "execute_result"
    }
   ],
   "source": [
    "predictors.remove(\"Embarked\")\n",
    "predictors.remove(\"Sex\")\n",
    "predictors += [\"Embarked_C\", \"Embarked_Q\", \"Embarked_S\", \"Sex_female\", \"Sex_male\" ]\n",
    "predictors"
   ]
  },
  {
   "cell_type": "markdown",
   "id": "cef3eade-474e-47ab-a5a9-1483fcd544b4",
   "metadata": {
    "tags": []
   },
   "source": [
    "**6 - Import logistic regression function, train and test function from sklearn library**"
   ]
  },
  {
   "cell_type": "code",
   "execution_count": 10,
   "id": "21088f6d-6066-4425-b887-f6b03781266e",
   "metadata": {
    "tags": []
   },
   "outputs": [],
   "source": [
    "from sklearn.model_selection import train_test_split\n",
    "from sklearn.linear_model import LogisticRegression"
   ]
  },
  {
   "cell_type": "code",
   "execution_count": 11,
   "id": "3586778c-783c-47b5-a5e5-dc123dd637cb",
   "metadata": {
    "tags": []
   },
   "outputs": [
    {
     "name": "stdout",
     "output_type": "stream",
     "text": [
      "<class 'pandas.core.frame.DataFrame'>\n",
      "Int64Index: 712 entries, 348 to 445\n",
      "Data columns (total 11 columns):\n",
      " #   Column      Non-Null Count  Dtype  \n",
      "---  ------      --------------  -----  \n",
      " 0   Survived    712 non-null    int64  \n",
      " 1   Pclass      712 non-null    int64  \n",
      " 2   Age         712 non-null    float64\n",
      " 3   SibSp       712 non-null    int64  \n",
      " 4   Parch       712 non-null    int64  \n",
      " 5   Fare        712 non-null    float64\n",
      " 6   Embarked_C  712 non-null    uint8  \n",
      " 7   Embarked_Q  712 non-null    uint8  \n",
      " 8   Embarked_S  712 non-null    uint8  \n",
      " 9   Sex_female  712 non-null    uint8  \n",
      " 10  Sex_male    712 non-null    uint8  \n",
      "dtypes: float64(2), int64(4), uint8(5)\n",
      "memory usage: 42.4 KB\n"
     ]
    }
   ],
   "source": [
    "train, test = train_test_split(df2, test_size=0.2)\n",
    "train.info()"
   ]
  },
  {
   "cell_type": "markdown",
   "id": "9b77a2d9-c322-417b-9970-3943e43e2d66",
   "metadata": {
    "tags": []
   },
   "source": [
    "**7 - Apply logistic regression on the split train/test dataset**"
   ]
  },
  {
   "cell_type": "code",
   "execution_count": 12,
   "id": "e9c77d9c-3326-4b7f-917a-15220530ecdc",
   "metadata": {
    "tags": []
   },
   "outputs": [
    {
     "data": {
      "text/plain": [
       "array([[-1.04811343, -0.0459236 , -0.38480766, -0.10019839,  0.00409089,\n",
       "         0.16084438, -0.00799877, -0.14987766,  1.38567564, -1.38270769]])"
      ]
     },
     "execution_count": 12,
     "metadata": {},
     "output_type": "execute_result"
    }
   ],
   "source": [
    "X_train = train[predictors]\n",
    "y_train = train[target]\n",
    "\n",
    "# Initially, this was generating the error: \"ConvergenceWarning: lbfgs failed to converge\"\n",
    "# Therefore, increased max_iter\n",
    "model = LogisticRegression(solver='lbfgs', max_iter=500)\n",
    "model.fit(X_train, y_train)\n",
    "\n",
    "model.coef_"
   ]
  },
  {
   "cell_type": "code",
   "execution_count": 13,
   "id": "f802b119-ecfa-4855-8979-7adb69849bf3",
   "metadata": {},
   "outputs": [
    {
     "data": {
      "text/plain": [
       "array([0, 0, 0, 0, 0, 1, 0, 1, 0, 1, 1, 1, 0, 0, 0, 0, 1, 0, 0, 0, 0, 0,\n",
       "       0, 1, 1, 1, 0, 0, 0, 1, 1, 0, 0, 0, 0, 1, 1, 0, 1, 1, 1, 1, 0, 0,\n",
       "       0, 1, 1, 0, 1, 0, 0, 0, 0, 0, 0, 0, 1, 1, 1, 1, 0, 1, 0, 0, 0, 0,\n",
       "       1, 0, 0, 0, 1, 0, 1, 1, 0, 0, 0, 1, 0, 1, 0, 1, 0, 0, 0, 1, 0, 0,\n",
       "       1, 0, 1, 0, 0, 0, 0, 0, 0, 1, 0, 0, 0, 1, 1, 0, 0, 0, 1, 0, 0, 1,\n",
       "       1, 0, 0, 0, 0, 0, 0, 1, 0, 1, 1, 1, 0, 0, 0, 1, 0, 1, 1, 1, 1, 0,\n",
       "       0, 1, 0, 1, 1, 0, 1, 1, 0, 0, 1, 0, 1, 0, 0, 0, 1, 0, 0, 1, 0, 0,\n",
       "       0, 0, 0, 0, 0, 1, 1, 1, 0, 0, 1, 0, 1, 0, 0, 0, 0, 0, 0, 0, 0, 1,\n",
       "       0, 0, 1])"
      ]
     },
     "execution_count": 13,
     "metadata": {},
     "output_type": "execute_result"
    }
   ],
   "source": [
    "X_test = test[predictors]\n",
    "y_test = test[target]\n",
    "\n",
    "y_pred = model.predict(X_test)\n",
    "y_pred\n"
   ]
  },
  {
   "cell_type": "markdown",
   "id": "cc48efc8-017b-4b5e-b27d-8e8882cbadec",
   "metadata": {
    "tags": []
   },
   "source": [
    "**8 - Compute your model’s accuracy using accuracy_score**"
   ]
  },
  {
   "cell_type": "code",
   "execution_count": 14,
   "id": "747d5992-036a-47e3-b125-c5d549d03fb0",
   "metadata": {
    "tags": []
   },
   "outputs": [],
   "source": [
    "from sklearn.metrics import accuracy_score, confusion_matrix"
   ]
  },
  {
   "cell_type": "code",
   "execution_count": 15,
   "id": "51ca3744-1ed3-48a0-944f-b6d36b361213",
   "metadata": {
    "tags": []
   },
   "outputs": [
    {
     "data": {
      "text/plain": [
       "array([[88, 25],\n",
       "       [17, 49]])"
      ]
     },
     "execution_count": 15,
     "metadata": {},
     "output_type": "execute_result"
    }
   ],
   "source": [
    "confusion_matrix(y_pred, y_test)"
   ]
  },
  {
   "cell_type": "markdown",
   "id": "9b495539-dfbc-4b39-af44-3e81186d8cf6",
   "metadata": {},
   "source": [
    "Total wrong predictions: 28 + 17 = 45"
   ]
  },
  {
   "cell_type": "code",
   "execution_count": 16,
   "id": "ba729fe1-ab82-4d6e-9ce8-6e8e1ac5025e",
   "metadata": {
    "tags": []
   },
   "outputs": [
    {
     "name": "stdout",
     "output_type": "stream",
     "text": [
      "Accuracy: 76.54%\n"
     ]
    }
   ],
   "source": [
    "acc = accuracy_score(y_pred, y_test)\n",
    "print(f\"Accuracy: {acc*100:.2f}%\")"
   ]
  }
 ],
 "metadata": {
  "kernelspec": {
   "display_name": "Python 3 (ipykernel)",
   "language": "python",
   "name": "python3"
  },
  "language_info": {
   "codemirror_mode": {
    "name": "ipython",
    "version": 3
   },
   "file_extension": ".py",
   "mimetype": "text/x-python",
   "name": "python",
   "nbconvert_exporter": "python",
   "pygments_lexer": "ipython3",
   "version": "3.9.2"
  }
 },
 "nbformat": 4,
 "nbformat_minor": 5
}
