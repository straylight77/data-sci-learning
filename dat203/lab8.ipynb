{
 "cells": [
  {
   "cell_type": "markdown",
   "id": "bb2b13aa-dd63-4907-ab8f-6f38f3cf8bcf",
   "metadata": {},
   "source": [
    "# DAT 203 - Lab Assignment #8\n",
    "\n",
    "- Author: Colin Bowers\n",
    "- Date: July 8, 2023"
   ]
  },
  {
   "cell_type": "code",
   "execution_count": 1,
   "id": "21a386ce-533b-403c-b20f-8b398126ad1a",
   "metadata": {
    "tags": []
   },
   "outputs": [],
   "source": [
    "import numpy as np\n",
    "import pandas as pd\n",
    "import matplotlib.pyplot as plt\n",
    "import sklearn as sk "
   ]
  },
  {
   "cell_type": "markdown",
   "id": "1f5589d4-3f23-4e04-a246-202205f23ab0",
   "metadata": {
    "tags": []
   },
   "source": [
    "1. Import the dataset and run a complete analysis of it.\n",
    "    1. Your target is column name “gnd”\n",
    "1. Split the data into training and testing\n",
    "1. Apply any feature selection algorithm and choose the best features.\n",
    "1. Use any classifier and report the accuracy \n",
    "1. Apply PCA dimensionality reduction technique to the original data. \n",
    "1. Plot a 2-dimensional representation of the data based on the first and second principal components, explain the results versus the known classes (display each class with a different color). \n",
    "1. Repeat step 6 for the 20th and 21st components and comment on the result\n",
    "1. Plot a 2-dimensional representation of the original data using t-SNE, compare the output with PCA’s output in Step 6 and 7, and explain the results versus the known classes.\n",
    "1. Use the any classifier to classify 6 sets of dimensionality reduced data (using 2, 4, 10, 30, 40, 256 PCA components). [plot these showing the error]\n",
    "1. Plot the classification error for the 6 sets and the number of chosen components. \n"
   ]
  },
  {
   "cell_type": "markdown",
   "id": "0983e0fc-deb0-4d27-bc3b-f6b0c2cc65b6",
   "metadata": {},
   "source": [
    "**1 - Import the dataset and run a complete analysis of it. Your target is column name “gnd”**"
   ]
  },
  {
   "cell_type": "code",
   "execution_count": 2,
   "id": "910572a1-78a0-4c2a-a0f1-9c3b9f88f5f6",
   "metadata": {
    "tags": []
   },
   "outputs": [
    {
     "data": {
      "text/plain": [
       "(800, 258)"
      ]
     },
     "execution_count": 2,
     "metadata": {},
     "output_type": "execute_result"
    }
   ],
   "source": [
    "df = pd.read_csv(\"data/Data.csv\")\n",
    "df.shape"
   ]
  },
  {
   "cell_type": "code",
   "execution_count": 3,
   "id": "87472d52-4d0d-4777-9c6b-7498f943673f",
   "metadata": {
    "tags": []
   },
   "outputs": [
    {
     "data": {
      "text/html": [
       "<div>\n",
       "<style scoped>\n",
       "    .dataframe tbody tr th:only-of-type {\n",
       "        vertical-align: middle;\n",
       "    }\n",
       "\n",
       "    .dataframe tbody tr th {\n",
       "        vertical-align: top;\n",
       "    }\n",
       "\n",
       "    .dataframe thead th {\n",
       "        text-align: right;\n",
       "    }\n",
       "</style>\n",
       "<table border=\"1\" class=\"dataframe\">\n",
       "  <thead>\n",
       "    <tr style=\"text-align: right;\">\n",
       "      <th></th>\n",
       "      <th>Unnamed: 0</th>\n",
       "      <th>fea.1</th>\n",
       "      <th>fea.2</th>\n",
       "      <th>fea.3</th>\n",
       "      <th>fea.4</th>\n",
       "      <th>fea.5</th>\n",
       "      <th>fea.6</th>\n",
       "      <th>fea.7</th>\n",
       "      <th>fea.8</th>\n",
       "      <th>fea.9</th>\n",
       "      <th>...</th>\n",
       "      <th>fea.248</th>\n",
       "      <th>fea.249</th>\n",
       "      <th>fea.250</th>\n",
       "      <th>fea.251</th>\n",
       "      <th>fea.252</th>\n",
       "      <th>fea.253</th>\n",
       "      <th>fea.254</th>\n",
       "      <th>fea.255</th>\n",
       "      <th>fea.256</th>\n",
       "      <th>gnd</th>\n",
       "    </tr>\n",
       "  </thead>\n",
       "  <tbody>\n",
       "    <tr>\n",
       "      <th>302</th>\n",
       "      <td>303</td>\n",
       "      <td>-1.000000</td>\n",
       "      <td>-1.000000</td>\n",
       "      <td>-1.000000</td>\n",
       "      <td>-1.000000</td>\n",
       "      <td>-0.999743</td>\n",
       "      <td>-0.979082</td>\n",
       "      <td>-0.687191</td>\n",
       "      <td>-0.030166</td>\n",
       "      <td>-0.090280</td>\n",
       "      <td>...</td>\n",
       "      <td>0.172368</td>\n",
       "      <td>-0.008102</td>\n",
       "      <td>-0.630473</td>\n",
       "      <td>-0.943485</td>\n",
       "      <td>-0.997104</td>\n",
       "      <td>-0.999968</td>\n",
       "      <td>-1.000000</td>\n",
       "      <td>-1.000000</td>\n",
       "      <td>-1.000000</td>\n",
       "      <td>1</td>\n",
       "    </tr>\n",
       "    <tr>\n",
       "      <th>430</th>\n",
       "      <td>431</td>\n",
       "      <td>-1.000000</td>\n",
       "      <td>-0.999999</td>\n",
       "      <td>-0.999896</td>\n",
       "      <td>-0.998049</td>\n",
       "      <td>-0.985611</td>\n",
       "      <td>-0.915256</td>\n",
       "      <td>-0.654684</td>\n",
       "      <td>-0.192397</td>\n",
       "      <td>-0.080060</td>\n",
       "      <td>...</td>\n",
       "      <td>-0.999887</td>\n",
       "      <td>-0.999979</td>\n",
       "      <td>-0.998838</td>\n",
       "      <td>-0.975465</td>\n",
       "      <td>-0.808276</td>\n",
       "      <td>-0.395344</td>\n",
       "      <td>-0.211884</td>\n",
       "      <td>-0.640586</td>\n",
       "      <td>-0.941368</td>\n",
       "      <td>2</td>\n",
       "    </tr>\n",
       "    <tr>\n",
       "      <th>41</th>\n",
       "      <td>42</td>\n",
       "      <td>-1.000000</td>\n",
       "      <td>-1.000000</td>\n",
       "      <td>-1.000000</td>\n",
       "      <td>-0.999947</td>\n",
       "      <td>-0.996648</td>\n",
       "      <td>-0.938028</td>\n",
       "      <td>-0.594832</td>\n",
       "      <td>-0.063481</td>\n",
       "      <td>-0.220194</td>\n",
       "      <td>...</td>\n",
       "      <td>0.043662</td>\n",
       "      <td>0.103129</td>\n",
       "      <td>-0.139231</td>\n",
       "      <td>-0.552819</td>\n",
       "      <td>-0.885797</td>\n",
       "      <td>-0.990362</td>\n",
       "      <td>-0.999714</td>\n",
       "      <td>-0.999997</td>\n",
       "      <td>-1.000000</td>\n",
       "      <td>0</td>\n",
       "    </tr>\n",
       "    <tr>\n",
       "      <th>152</th>\n",
       "      <td>153</td>\n",
       "      <td>-0.999997</td>\n",
       "      <td>-0.999887</td>\n",
       "      <td>-0.997959</td>\n",
       "      <td>-0.981879</td>\n",
       "      <td>-0.901457</td>\n",
       "      <td>-0.687554</td>\n",
       "      <td>-0.321971</td>\n",
       "      <td>0.150154</td>\n",
       "      <td>0.442976</td>\n",
       "      <td>...</td>\n",
       "      <td>0.518486</td>\n",
       "      <td>0.514117</td>\n",
       "      <td>0.411043</td>\n",
       "      <td>0.122918</td>\n",
       "      <td>-0.225251</td>\n",
       "      <td>-0.600870</td>\n",
       "      <td>-0.873862</td>\n",
       "      <td>-0.977228</td>\n",
       "      <td>-0.997596</td>\n",
       "      <td>0</td>\n",
       "    </tr>\n",
       "    <tr>\n",
       "      <th>691</th>\n",
       "      <td>692</td>\n",
       "      <td>-0.995865</td>\n",
       "      <td>-0.931911</td>\n",
       "      <td>-0.699476</td>\n",
       "      <td>-0.369311</td>\n",
       "      <td>-0.086681</td>\n",
       "      <td>0.134563</td>\n",
       "      <td>0.267806</td>\n",
       "      <td>0.364667</td>\n",
       "      <td>0.400477</td>\n",
       "      <td>...</td>\n",
       "      <td>0.148869</td>\n",
       "      <td>-0.028722</td>\n",
       "      <td>-0.164524</td>\n",
       "      <td>-0.255732</td>\n",
       "      <td>-0.430029</td>\n",
       "      <td>-0.623016</td>\n",
       "      <td>-0.809641</td>\n",
       "      <td>-0.947682</td>\n",
       "      <td>-0.994182</td>\n",
       "      <td>3</td>\n",
       "    </tr>\n",
       "  </tbody>\n",
       "</table>\n",
       "<p>5 rows × 258 columns</p>\n",
       "</div>"
      ],
      "text/plain": [
       "     Unnamed: 0     fea.1     fea.2     fea.3     fea.4     fea.5     fea.6  \\\n",
       "302         303 -1.000000 -1.000000 -1.000000 -1.000000 -0.999743 -0.979082   \n",
       "430         431 -1.000000 -0.999999 -0.999896 -0.998049 -0.985611 -0.915256   \n",
       "41           42 -1.000000 -1.000000 -1.000000 -0.999947 -0.996648 -0.938028   \n",
       "152         153 -0.999997 -0.999887 -0.997959 -0.981879 -0.901457 -0.687554   \n",
       "691         692 -0.995865 -0.931911 -0.699476 -0.369311 -0.086681  0.134563   \n",
       "\n",
       "        fea.7     fea.8     fea.9  ...   fea.248   fea.249   fea.250  \\\n",
       "302 -0.687191 -0.030166 -0.090280  ...  0.172368 -0.008102 -0.630473   \n",
       "430 -0.654684 -0.192397 -0.080060  ... -0.999887 -0.999979 -0.998838   \n",
       "41  -0.594832 -0.063481 -0.220194  ...  0.043662  0.103129 -0.139231   \n",
       "152 -0.321971  0.150154  0.442976  ...  0.518486  0.514117  0.411043   \n",
       "691  0.267806  0.364667  0.400477  ...  0.148869 -0.028722 -0.164524   \n",
       "\n",
       "      fea.251   fea.252   fea.253   fea.254   fea.255   fea.256  gnd  \n",
       "302 -0.943485 -0.997104 -0.999968 -1.000000 -1.000000 -1.000000    1  \n",
       "430 -0.975465 -0.808276 -0.395344 -0.211884 -0.640586 -0.941368    2  \n",
       "41  -0.552819 -0.885797 -0.990362 -0.999714 -0.999997 -1.000000    0  \n",
       "152  0.122918 -0.225251 -0.600870 -0.873862 -0.977228 -0.997596    0  \n",
       "691 -0.255732 -0.430029 -0.623016 -0.809641 -0.947682 -0.994182    3  \n",
       "\n",
       "[5 rows x 258 columns]"
      ]
     },
     "execution_count": 3,
     "metadata": {},
     "output_type": "execute_result"
    }
   ],
   "source": [
    "df.sample(5)"
   ]
  },
  {
   "cell_type": "code",
   "execution_count": 4,
   "id": "6bccc204-4b1f-4763-9f9b-ecef8f954bbd",
   "metadata": {
    "tags": []
   },
   "outputs": [
    {
     "data": {
      "text/plain": [
       "0    200\n",
       "1    200\n",
       "2    200\n",
       "3    200\n",
       "Name: gnd, dtype: int64"
      ]
     },
     "execution_count": 4,
     "metadata": {},
     "output_type": "execute_result"
    }
   ],
   "source": [
    "df.gnd.value_counts()"
   ]
  },
  {
   "cell_type": "code",
   "execution_count": 5,
   "id": "01295442-7b89-49d4-9a5f-9f6d6da1fb68",
   "metadata": {
    "tags": []
   },
   "outputs": [
    {
     "data": {
      "text/html": [
       "<div>\n",
       "<style scoped>\n",
       "    .dataframe tbody tr th:only-of-type {\n",
       "        vertical-align: middle;\n",
       "    }\n",
       "\n",
       "    .dataframe tbody tr th {\n",
       "        vertical-align: top;\n",
       "    }\n",
       "\n",
       "    .dataframe thead th {\n",
       "        text-align: right;\n",
       "    }\n",
       "</style>\n",
       "<table border=\"1\" class=\"dataframe\">\n",
       "  <thead>\n",
       "    <tr style=\"text-align: right;\">\n",
       "      <th></th>\n",
       "      <th>Unnamed: 0</th>\n",
       "      <th>fea.1</th>\n",
       "      <th>fea.2</th>\n",
       "      <th>fea.3</th>\n",
       "      <th>fea.4</th>\n",
       "      <th>fea.5</th>\n",
       "      <th>fea.6</th>\n",
       "      <th>fea.7</th>\n",
       "      <th>fea.8</th>\n",
       "      <th>fea.9</th>\n",
       "      <th>...</th>\n",
       "      <th>fea.248</th>\n",
       "      <th>fea.249</th>\n",
       "      <th>fea.250</th>\n",
       "      <th>fea.251</th>\n",
       "      <th>fea.252</th>\n",
       "      <th>fea.253</th>\n",
       "      <th>fea.254</th>\n",
       "      <th>fea.255</th>\n",
       "      <th>fea.256</th>\n",
       "      <th>gnd</th>\n",
       "    </tr>\n",
       "  </thead>\n",
       "  <tbody>\n",
       "    <tr>\n",
       "      <th>count</th>\n",
       "      <td>800.0000</td>\n",
       "      <td>800.000000</td>\n",
       "      <td>800.000000</td>\n",
       "      <td>800.000000</td>\n",
       "      <td>800.000000</td>\n",
       "      <td>800.000000</td>\n",
       "      <td>800.000000</td>\n",
       "      <td>800.000000</td>\n",
       "      <td>800.000000</td>\n",
       "      <td>800.000000</td>\n",
       "      <td>...</td>\n",
       "      <td>800.000000</td>\n",
       "      <td>800.000000</td>\n",
       "      <td>800.000000</td>\n",
       "      <td>800.000000</td>\n",
       "      <td>800.000000</td>\n",
       "      <td>800.000000</td>\n",
       "      <td>800.000000</td>\n",
       "      <td>800.000000</td>\n",
       "      <td>800.000000</td>\n",
       "      <td>800.000000</td>\n",
       "    </tr>\n",
       "    <tr>\n",
       "      <th>mean</th>\n",
       "      <td>400.5000</td>\n",
       "      <td>-0.991409</td>\n",
       "      <td>-0.968831</td>\n",
       "      <td>-0.917406</td>\n",
       "      <td>-0.820467</td>\n",
       "      <td>-0.676586</td>\n",
       "      <td>-0.495195</td>\n",
       "      <td>-0.266342</td>\n",
       "      <td>-0.080204</td>\n",
       "      <td>-0.153667</td>\n",
       "      <td>...</td>\n",
       "      <td>-0.108339</td>\n",
       "      <td>-0.139846</td>\n",
       "      <td>-0.371067</td>\n",
       "      <td>-0.597333</td>\n",
       "      <td>-0.743848</td>\n",
       "      <td>-0.838149</td>\n",
       "      <td>-0.901319</td>\n",
       "      <td>-0.945590</td>\n",
       "      <td>-0.977662</td>\n",
       "      <td>1.500000</td>\n",
       "    </tr>\n",
       "    <tr>\n",
       "      <th>std</th>\n",
       "      <td>231.0844</td>\n",
       "      <td>0.047754</td>\n",
       "      <td>0.118036</td>\n",
       "      <td>0.207387</td>\n",
       "      <td>0.309470</td>\n",
       "      <td>0.411327</td>\n",
       "      <td>0.467895</td>\n",
       "      <td>0.448563</td>\n",
       "      <td>0.419555</td>\n",
       "      <td>0.429422</td>\n",
       "      <td>...</td>\n",
       "      <td>0.467927</td>\n",
       "      <td>0.478690</td>\n",
       "      <td>0.457282</td>\n",
       "      <td>0.420004</td>\n",
       "      <td>0.352270</td>\n",
       "      <td>0.289812</td>\n",
       "      <td>0.231492</td>\n",
       "      <td>0.166216</td>\n",
       "      <td>0.088638</td>\n",
       "      <td>1.118733</td>\n",
       "    </tr>\n",
       "    <tr>\n",
       "      <th>min</th>\n",
       "      <td>1.0000</td>\n",
       "      <td>-1.000000</td>\n",
       "      <td>-1.000000</td>\n",
       "      <td>-1.000000</td>\n",
       "      <td>-1.000000</td>\n",
       "      <td>-1.000000</td>\n",
       "      <td>-1.000000</td>\n",
       "      <td>-1.000000</td>\n",
       "      <td>-1.000000</td>\n",
       "      <td>-1.000000</td>\n",
       "      <td>...</td>\n",
       "      <td>-1.000000</td>\n",
       "      <td>-1.000000</td>\n",
       "      <td>-1.000000</td>\n",
       "      <td>-1.000000</td>\n",
       "      <td>-1.000000</td>\n",
       "      <td>-1.000000</td>\n",
       "      <td>-1.000000</td>\n",
       "      <td>-1.000000</td>\n",
       "      <td>-1.000000</td>\n",
       "      <td>0.000000</td>\n",
       "    </tr>\n",
       "    <tr>\n",
       "      <th>25%</th>\n",
       "      <td>200.7500</td>\n",
       "      <td>-1.000000</td>\n",
       "      <td>-1.000000</td>\n",
       "      <td>-1.000000</td>\n",
       "      <td>-0.999894</td>\n",
       "      <td>-0.993603</td>\n",
       "      <td>-0.931390</td>\n",
       "      <td>-0.650477</td>\n",
       "      <td>-0.281856</td>\n",
       "      <td>-0.429037</td>\n",
       "      <td>...</td>\n",
       "      <td>-0.371477</td>\n",
       "      <td>-0.502065</td>\n",
       "      <td>-0.774185</td>\n",
       "      <td>-0.961959</td>\n",
       "      <td>-0.995128</td>\n",
       "      <td>-0.999893</td>\n",
       "      <td>-1.000000</td>\n",
       "      <td>-1.000000</td>\n",
       "      <td>-1.000000</td>\n",
       "      <td>0.750000</td>\n",
       "    </tr>\n",
       "    <tr>\n",
       "      <th>50%</th>\n",
       "      <td>400.5000</td>\n",
       "      <td>-1.000000</td>\n",
       "      <td>-0.999974</td>\n",
       "      <td>-0.998744</td>\n",
       "      <td>-0.984838</td>\n",
       "      <td>-0.885552</td>\n",
       "      <td>-0.636180</td>\n",
       "      <td>-0.266676</td>\n",
       "      <td>0.015629</td>\n",
       "      <td>-0.080399</td>\n",
       "      <td>...</td>\n",
       "      <td>0.007508</td>\n",
       "      <td>-0.005553</td>\n",
       "      <td>-0.409065</td>\n",
       "      <td>-0.754701</td>\n",
       "      <td>-0.924648</td>\n",
       "      <td>-0.981403</td>\n",
       "      <td>-0.997410</td>\n",
       "      <td>-0.999896</td>\n",
       "      <td>-0.999998</td>\n",
       "      <td>1.500000</td>\n",
       "    </tr>\n",
       "    <tr>\n",
       "      <th>75%</th>\n",
       "      <td>600.2500</td>\n",
       "      <td>-0.999922</td>\n",
       "      <td>-0.996333</td>\n",
       "      <td>-0.953919</td>\n",
       "      <td>-0.762624</td>\n",
       "      <td>-0.450571</td>\n",
       "      <td>-0.080921</td>\n",
       "      <td>0.125815</td>\n",
       "      <td>0.232491</td>\n",
       "      <td>0.184588</td>\n",
       "      <td>...</td>\n",
       "      <td>0.261937</td>\n",
       "      <td>0.231008</td>\n",
       "      <td>0.020544</td>\n",
       "      <td>-0.319118</td>\n",
       "      <td>-0.606411</td>\n",
       "      <td>-0.819666</td>\n",
       "      <td>-0.943618</td>\n",
       "      <td>-0.991112</td>\n",
       "      <td>-0.999377</td>\n",
       "      <td>2.250000</td>\n",
       "    </tr>\n",
       "    <tr>\n",
       "      <th>max</th>\n",
       "      <td>800.0000</td>\n",
       "      <td>-0.342725</td>\n",
       "      <td>0.112006</td>\n",
       "      <td>0.367011</td>\n",
       "      <td>0.468162</td>\n",
       "      <td>0.523140</td>\n",
       "      <td>0.527240</td>\n",
       "      <td>0.530853</td>\n",
       "      <td>0.531079</td>\n",
       "      <td>0.531191</td>\n",
       "      <td>...</td>\n",
       "      <td>0.526726</td>\n",
       "      <td>0.529774</td>\n",
       "      <td>0.531124</td>\n",
       "      <td>0.526003</td>\n",
       "      <td>0.489672</td>\n",
       "      <td>0.505559</td>\n",
       "      <td>0.469148</td>\n",
       "      <td>0.168234</td>\n",
       "      <td>-0.230614</td>\n",
       "      <td>3.000000</td>\n",
       "    </tr>\n",
       "  </tbody>\n",
       "</table>\n",
       "<p>8 rows × 258 columns</p>\n",
       "</div>"
      ],
      "text/plain": [
       "       Unnamed: 0       fea.1       fea.2       fea.3       fea.4       fea.5  \\\n",
       "count    800.0000  800.000000  800.000000  800.000000  800.000000  800.000000   \n",
       "mean     400.5000   -0.991409   -0.968831   -0.917406   -0.820467   -0.676586   \n",
       "std      231.0844    0.047754    0.118036    0.207387    0.309470    0.411327   \n",
       "min        1.0000   -1.000000   -1.000000   -1.000000   -1.000000   -1.000000   \n",
       "25%      200.7500   -1.000000   -1.000000   -1.000000   -0.999894   -0.993603   \n",
       "50%      400.5000   -1.000000   -0.999974   -0.998744   -0.984838   -0.885552   \n",
       "75%      600.2500   -0.999922   -0.996333   -0.953919   -0.762624   -0.450571   \n",
       "max      800.0000   -0.342725    0.112006    0.367011    0.468162    0.523140   \n",
       "\n",
       "            fea.6       fea.7       fea.8       fea.9  ...     fea.248  \\\n",
       "count  800.000000  800.000000  800.000000  800.000000  ...  800.000000   \n",
       "mean    -0.495195   -0.266342   -0.080204   -0.153667  ...   -0.108339   \n",
       "std      0.467895    0.448563    0.419555    0.429422  ...    0.467927   \n",
       "min     -1.000000   -1.000000   -1.000000   -1.000000  ...   -1.000000   \n",
       "25%     -0.931390   -0.650477   -0.281856   -0.429037  ...   -0.371477   \n",
       "50%     -0.636180   -0.266676    0.015629   -0.080399  ...    0.007508   \n",
       "75%     -0.080921    0.125815    0.232491    0.184588  ...    0.261937   \n",
       "max      0.527240    0.530853    0.531079    0.531191  ...    0.526726   \n",
       "\n",
       "          fea.249     fea.250     fea.251     fea.252     fea.253     fea.254  \\\n",
       "count  800.000000  800.000000  800.000000  800.000000  800.000000  800.000000   \n",
       "mean    -0.139846   -0.371067   -0.597333   -0.743848   -0.838149   -0.901319   \n",
       "std      0.478690    0.457282    0.420004    0.352270    0.289812    0.231492   \n",
       "min     -1.000000   -1.000000   -1.000000   -1.000000   -1.000000   -1.000000   \n",
       "25%     -0.502065   -0.774185   -0.961959   -0.995128   -0.999893   -1.000000   \n",
       "50%     -0.005553   -0.409065   -0.754701   -0.924648   -0.981403   -0.997410   \n",
       "75%      0.231008    0.020544   -0.319118   -0.606411   -0.819666   -0.943618   \n",
       "max      0.529774    0.531124    0.526003    0.489672    0.505559    0.469148   \n",
       "\n",
       "          fea.255     fea.256         gnd  \n",
       "count  800.000000  800.000000  800.000000  \n",
       "mean    -0.945590   -0.977662    1.500000  \n",
       "std      0.166216    0.088638    1.118733  \n",
       "min     -1.000000   -1.000000    0.000000  \n",
       "25%     -1.000000   -1.000000    0.750000  \n",
       "50%     -0.999896   -0.999998    1.500000  \n",
       "75%     -0.991112   -0.999377    2.250000  \n",
       "max      0.168234   -0.230614    3.000000  \n",
       "\n",
       "[8 rows x 258 columns]"
      ]
     },
     "execution_count": 5,
     "metadata": {},
     "output_type": "execute_result"
    }
   ],
   "source": [
    "df.describe()"
   ]
  },
  {
   "cell_type": "markdown",
   "id": "afe52898-057e-4fb4-86fd-d3b15111cd3a",
   "metadata": {
    "tags": []
   },
   "source": [
    "## Feature Selection "
   ]
  },
  {
   "cell_type": "code",
   "execution_count": 6,
   "id": "fd569f0b-4d79-4ee1-86d5-54199c0ef5ab",
   "metadata": {
    "tags": []
   },
   "outputs": [],
   "source": [
    "from sklearn.tree import DecisionTreeClassifier\n",
    "from sklearn import tree\n",
    "from sklearn.model_selection import train_test_split\n",
    "from sklearn import metrics"
   ]
  },
  {
   "cell_type": "markdown",
   "id": "f4ed7204-a18d-4381-96a5-99a83f6d91c1",
   "metadata": {
    "tags": []
   },
   "source": [
    "**2 - Split the data into training and testing**"
   ]
  },
  {
   "cell_type": "code",
   "execution_count": 7,
   "id": "b3e299cd-9818-4642-bb15-9c588cf6beb8",
   "metadata": {
    "tags": []
   },
   "outputs": [
    {
     "data": {
      "text/plain": [
       "257"
      ]
     },
     "execution_count": 7,
     "metadata": {},
     "output_type": "execute_result"
    }
   ],
   "source": [
    "target = \"gnd\"\n",
    "predictors = list(df.columns)\n",
    "predictors.remove(target)\n",
    "len(predictors)"
   ]
  },
  {
   "cell_type": "code",
   "execution_count": 8,
   "id": "9106545c-be8f-4b7d-83de-a0c9f53c957a",
   "metadata": {
    "tags": []
   },
   "outputs": [],
   "source": [
    "train, test = train_test_split(df, test_size=0.2)\n",
    "\n",
    "X_train = train[predictors]\n",
    "y_train = train[target]\n",
    "\n",
    "X_test = test[predictors]\n",
    "y_test = test[target]\n"
   ]
  },
  {
   "cell_type": "markdown",
   "id": "9664d3d3-b443-4430-81b8-3a1cfc5a6bb4",
   "metadata": {},
   "source": [
    "**3 - Apply any feature selection algorithm and choose the best features.**"
   ]
  },
  {
   "cell_type": "code",
   "execution_count": 9,
   "id": "5d26409d-26cd-4d0c-9757-74e17af40ff0",
   "metadata": {},
   "outputs": [
    {
     "name": "stdout",
     "output_type": "stream",
     "text": [
      "CPU times: user 3.73 s, sys: 0 ns, total: 3.73 s\n",
      "Wall time: 3.72 s\n"
     ]
    },
    {
     "data": {
      "text/plain": [
       "0.99375"
      ]
     },
     "execution_count": 9,
     "metadata": {},
     "output_type": "execute_result"
    }
   ],
   "source": [
    "%%time\n",
    "from sklearn.feature_selection import RFE\n",
    "\n",
    "rfe_model = DecisionTreeClassifier()\n",
    "rfe = RFE(rfe_model, n_features_to_select=1)\n",
    "rfe.fit(X_train, y_train)\n",
    "rfe.score(X_test, y_test)"
   ]
  },
  {
   "cell_type": "code",
   "execution_count": 10,
   "id": "19295508-ea26-4f53-93de-f91cad320415",
   "metadata": {
    "tags": []
   },
   "outputs": [
    {
     "data": {
      "text/html": [
       "<div>\n",
       "<style scoped>\n",
       "    .dataframe tbody tr th:only-of-type {\n",
       "        vertical-align: middle;\n",
       "    }\n",
       "\n",
       "    .dataframe tbody tr th {\n",
       "        vertical-align: top;\n",
       "    }\n",
       "\n",
       "    .dataframe thead th {\n",
       "        text-align: right;\n",
       "    }\n",
       "</style>\n",
       "<table border=\"1\" class=\"dataframe\">\n",
       "  <thead>\n",
       "    <tr style=\"text-align: right;\">\n",
       "      <th></th>\n",
       "      <th>rank</th>\n",
       "    </tr>\n",
       "    <tr>\n",
       "      <th>name</th>\n",
       "      <th></th>\n",
       "    </tr>\n",
       "  </thead>\n",
       "  <tbody>\n",
       "    <tr>\n",
       "      <th>Unnamed: 0</th>\n",
       "      <td>1</td>\n",
       "    </tr>\n",
       "    <tr>\n",
       "      <th>fea.253</th>\n",
       "      <td>2</td>\n",
       "    </tr>\n",
       "    <tr>\n",
       "      <th>fea.252</th>\n",
       "      <td>3</td>\n",
       "    </tr>\n",
       "    <tr>\n",
       "      <th>fea.251</th>\n",
       "      <td>4</td>\n",
       "    </tr>\n",
       "    <tr>\n",
       "      <th>fea.250</th>\n",
       "      <td>5</td>\n",
       "    </tr>\n",
       "    <tr>\n",
       "      <th>fea.249</th>\n",
       "      <td>6</td>\n",
       "    </tr>\n",
       "    <tr>\n",
       "      <th>fea.248</th>\n",
       "      <td>7</td>\n",
       "    </tr>\n",
       "    <tr>\n",
       "      <th>fea.247</th>\n",
       "      <td>8</td>\n",
       "    </tr>\n",
       "    <tr>\n",
       "      <th>fea.246</th>\n",
       "      <td>9</td>\n",
       "    </tr>\n",
       "    <tr>\n",
       "      <th>fea.7</th>\n",
       "      <td>10</td>\n",
       "    </tr>\n",
       "  </tbody>\n",
       "</table>\n",
       "</div>"
      ],
      "text/plain": [
       "            rank\n",
       "name            \n",
       "Unnamed: 0     1\n",
       "fea.253        2\n",
       "fea.252        3\n",
       "fea.251        4\n",
       "fea.250        5\n",
       "fea.249        6\n",
       "fea.248        7\n",
       "fea.247        8\n",
       "fea.246        9\n",
       "fea.7         10"
      ]
     },
     "execution_count": 10,
     "metadata": {},
     "output_type": "execute_result"
    }
   ],
   "source": [
    "rank = pd.DataFrame({\n",
    "    \"name\": X_train.columns.to_list(),\n",
    "    \"rank\": rfe.ranking_\n",
    "})\n",
    "rank.set_index(\"name\", inplace=True)\n",
    "rank.sort_values(by=[\"rank\"], inplace=True)\n",
    "rank.head(10)"
   ]
  },
  {
   "cell_type": "markdown",
   "id": "f972570a-63eb-459d-848f-22a9bdc88f58",
   "metadata": {},
   "source": [
    "## Train a model"
   ]
  },
  {
   "cell_type": "markdown",
   "id": "0ebfe77e-0d73-4db4-ba64-088cc237c783",
   "metadata": {},
   "source": [
    "**4 - Use any classifier and report the accuracy**"
   ]
  },
  {
   "cell_type": "code",
   "execution_count": 11,
   "id": "40e20cb9-fcf9-4a51-83f6-2660c2f8b7c5",
   "metadata": {
    "tags": []
   },
   "outputs": [],
   "source": [
    "model = DecisionTreeClassifier(random_state=0)\n",
    "model = model.fit(X_train, y_train)"
   ]
  },
  {
   "cell_type": "code",
   "execution_count": 12,
   "id": "7304d2b4-60a3-488e-b13f-bd8bd6809b2c",
   "metadata": {
    "tags": []
   },
   "outputs": [
    {
     "name": "stdout",
     "output_type": "stream",
     "text": [
      "              precision    recall  f1-score   support\n",
      "\n",
      "           0       0.98      1.00      0.99        47\n",
      "           1       1.00      1.00      1.00        35\n",
      "           2       1.00      0.97      0.99        37\n",
      "           3       1.00      1.00      1.00        41\n",
      "\n",
      "    accuracy                           0.99       160\n",
      "   macro avg       0.99      0.99      0.99       160\n",
      "weighted avg       0.99      0.99      0.99       160\n",
      "\n"
     ]
    }
   ],
   "source": [
    "y_pred = model.predict(X_test)\n",
    "score = metrics.accuracy_score(y_test, y_pred)\n",
    "print(metrics.classification_report(y_test, y_pred))"
   ]
  },
  {
   "cell_type": "code",
   "execution_count": 13,
   "id": "89b6d547-8960-453d-85a0-fc72e1f20668",
   "metadata": {
    "tags": []
   },
   "outputs": [
    {
     "name": "stdout",
     "output_type": "stream",
     "text": [
      "[[47  0  1  0]\n",
      " [ 0 35  0  0]\n",
      " [ 0  0 36  0]\n",
      " [ 0  0  0 41]]\n"
     ]
    }
   ],
   "source": [
    "mat = metrics.confusion_matrix(y_pred, y_test)\n",
    "print(mat)"
   ]
  },
  {
   "cell_type": "markdown",
   "id": "79b4d663-5f05-4915-8c38-9651ddc09b28",
   "metadata": {},
   "source": [
    "## PCA dimensionality reduction"
   ]
  },
  {
   "cell_type": "code",
   "execution_count": 14,
   "id": "e6633272-8629-4d43-adac-ed759b0ea0a1",
   "metadata": {
    "tags": []
   },
   "outputs": [],
   "source": [
    "from sklearn.decomposition import PCA"
   ]
  },
  {
   "cell_type": "markdown",
   "id": "cf758f25-6768-4101-8392-4820bf491740",
   "metadata": {},
   "source": [
    "**5 - Apply PCA dimensionality reduction technique to the original data.**"
   ]
  },
  {
   "cell_type": "code",
   "execution_count": 15,
   "id": "730348b0-054e-4d24-abc7-0a4b8269849f",
   "metadata": {
    "tags": []
   },
   "outputs": [
    {
     "name": "stdout",
     "output_type": "stream",
     "text": [
      "CPU times: user 1min 48s, sys: 2min 23s, total: 4min 11s\n",
      "Wall time: 32.5 s\n"
     ]
    }
   ],
   "source": [
    "%%time\n",
    "\n",
    "df2 = df.drop(\"gnd\", axis=1)\n",
    "\n",
    "pca = PCA()\n",
    "data_pca = pca.fit_transform(df2)\n",
    "data_pca = pd.DataFrame(data_pca)\n",
    "data_pca[\"gnd\"] = df[\"gnd\"]"
   ]
  },
  {
   "cell_type": "code",
   "execution_count": 16,
   "id": "7f59f22f-d6e7-41be-b2f4-b1720bbade8b",
   "metadata": {
    "tags": []
   },
   "outputs": [
    {
     "data": {
      "text/html": [
       "<div>\n",
       "<style scoped>\n",
       "    .dataframe tbody tr th:only-of-type {\n",
       "        vertical-align: middle;\n",
       "    }\n",
       "\n",
       "    .dataframe tbody tr th {\n",
       "        vertical-align: top;\n",
       "    }\n",
       "\n",
       "    .dataframe thead th {\n",
       "        text-align: right;\n",
       "    }\n",
       "</style>\n",
       "<table border=\"1\" class=\"dataframe\">\n",
       "  <thead>\n",
       "    <tr style=\"text-align: right;\">\n",
       "      <th></th>\n",
       "      <th>0</th>\n",
       "      <th>1</th>\n",
       "      <th>2</th>\n",
       "      <th>3</th>\n",
       "      <th>4</th>\n",
       "      <th>5</th>\n",
       "      <th>6</th>\n",
       "      <th>7</th>\n",
       "      <th>8</th>\n",
       "      <th>9</th>\n",
       "      <th>...</th>\n",
       "      <th>248</th>\n",
       "      <th>249</th>\n",
       "      <th>250</th>\n",
       "      <th>251</th>\n",
       "      <th>252</th>\n",
       "      <th>253</th>\n",
       "      <th>254</th>\n",
       "      <th>255</th>\n",
       "      <th>256</th>\n",
       "      <th>gnd</th>\n",
       "    </tr>\n",
       "  </thead>\n",
       "  <tbody>\n",
       "    <tr>\n",
       "      <th>511</th>\n",
       "      <td>-111.505858</td>\n",
       "      <td>1.342812</td>\n",
       "      <td>6.263894</td>\n",
       "      <td>0.309907</td>\n",
       "      <td>-0.619432</td>\n",
       "      <td>-1.883881</td>\n",
       "      <td>-0.557768</td>\n",
       "      <td>0.121880</td>\n",
       "      <td>-2.872269</td>\n",
       "      <td>0.924407</td>\n",
       "      <td>...</td>\n",
       "      <td>0.001723</td>\n",
       "      <td>0.000653</td>\n",
       "      <td>0.002078</td>\n",
       "      <td>-0.000853</td>\n",
       "      <td>-0.000189</td>\n",
       "      <td>-0.000742</td>\n",
       "      <td>0.000193</td>\n",
       "      <td>3.462804e-09</td>\n",
       "      <td>1.271068e-08</td>\n",
       "      <td>2</td>\n",
       "    </tr>\n",
       "    <tr>\n",
       "      <th>794</th>\n",
       "      <td>-394.525562</td>\n",
       "      <td>0.547592</td>\n",
       "      <td>-2.909960</td>\n",
       "      <td>0.070285</td>\n",
       "      <td>-0.575978</td>\n",
       "      <td>0.035844</td>\n",
       "      <td>0.747221</td>\n",
       "      <td>-0.472697</td>\n",
       "      <td>0.953632</td>\n",
       "      <td>-2.188578</td>\n",
       "      <td>...</td>\n",
       "      <td>-0.002861</td>\n",
       "      <td>-0.002144</td>\n",
       "      <td>0.000181</td>\n",
       "      <td>-0.000195</td>\n",
       "      <td>0.000342</td>\n",
       "      <td>0.000671</td>\n",
       "      <td>0.000035</td>\n",
       "      <td>-1.461773e-07</td>\n",
       "      <td>2.041759e-07</td>\n",
       "      <td>3</td>\n",
       "    </tr>\n",
       "    <tr>\n",
       "      <th>179</th>\n",
       "      <td>220.560258</td>\n",
       "      <td>9.038605</td>\n",
       "      <td>0.472499</td>\n",
       "      <td>0.327094</td>\n",
       "      <td>-0.927261</td>\n",
       "      <td>2.683428</td>\n",
       "      <td>-2.332217</td>\n",
       "      <td>-1.025313</td>\n",
       "      <td>1.063103</td>\n",
       "      <td>-1.110362</td>\n",
       "      <td>...</td>\n",
       "      <td>0.001561</td>\n",
       "      <td>0.002349</td>\n",
       "      <td>0.003431</td>\n",
       "      <td>-0.001786</td>\n",
       "      <td>0.000832</td>\n",
       "      <td>-0.000429</td>\n",
       "      <td>-0.000312</td>\n",
       "      <td>6.219640e-08</td>\n",
       "      <td>2.250808e-07</td>\n",
       "      <td>0</td>\n",
       "    </tr>\n",
       "    <tr>\n",
       "      <th>585</th>\n",
       "      <td>-185.493694</td>\n",
       "      <td>-0.119912</td>\n",
       "      <td>7.326456</td>\n",
       "      <td>-2.129700</td>\n",
       "      <td>1.373642</td>\n",
       "      <td>1.211103</td>\n",
       "      <td>2.131810</td>\n",
       "      <td>0.906513</td>\n",
       "      <td>-1.824003</td>\n",
       "      <td>0.759014</td>\n",
       "      <td>...</td>\n",
       "      <td>0.001153</td>\n",
       "      <td>0.000363</td>\n",
       "      <td>-0.002304</td>\n",
       "      <td>0.000038</td>\n",
       "      <td>0.001033</td>\n",
       "      <td>-0.000390</td>\n",
       "      <td>0.000359</td>\n",
       "      <td>1.856715e-07</td>\n",
       "      <td>-1.114377e-08</td>\n",
       "      <td>2</td>\n",
       "    </tr>\n",
       "    <tr>\n",
       "      <th>340</th>\n",
       "      <td>59.494884</td>\n",
       "      <td>-6.404705</td>\n",
       "      <td>-1.815737</td>\n",
       "      <td>-2.196637</td>\n",
       "      <td>1.794382</td>\n",
       "      <td>0.209526</td>\n",
       "      <td>-0.317942</td>\n",
       "      <td>0.160728</td>\n",
       "      <td>-0.142013</td>\n",
       "      <td>0.426999</td>\n",
       "      <td>...</td>\n",
       "      <td>0.000132</td>\n",
       "      <td>0.000597</td>\n",
       "      <td>0.000666</td>\n",
       "      <td>-0.000184</td>\n",
       "      <td>0.000004</td>\n",
       "      <td>0.000102</td>\n",
       "      <td>0.000019</td>\n",
       "      <td>-2.760520e-08</td>\n",
       "      <td>-4.894592e-08</td>\n",
       "      <td>1</td>\n",
       "    </tr>\n",
       "  </tbody>\n",
       "</table>\n",
       "<p>5 rows × 258 columns</p>\n",
       "</div>"
      ],
      "text/plain": [
       "              0         1         2         3         4         5         6  \\\n",
       "511 -111.505858  1.342812  6.263894  0.309907 -0.619432 -1.883881 -0.557768   \n",
       "794 -394.525562  0.547592 -2.909960  0.070285 -0.575978  0.035844  0.747221   \n",
       "179  220.560258  9.038605  0.472499  0.327094 -0.927261  2.683428 -2.332217   \n",
       "585 -185.493694 -0.119912  7.326456 -2.129700  1.373642  1.211103  2.131810   \n",
       "340   59.494884 -6.404705 -1.815737 -2.196637  1.794382  0.209526 -0.317942   \n",
       "\n",
       "            7         8         9  ...       248       249       250  \\\n",
       "511  0.121880 -2.872269  0.924407  ...  0.001723  0.000653  0.002078   \n",
       "794 -0.472697  0.953632 -2.188578  ... -0.002861 -0.002144  0.000181   \n",
       "179 -1.025313  1.063103 -1.110362  ...  0.001561  0.002349  0.003431   \n",
       "585  0.906513 -1.824003  0.759014  ...  0.001153  0.000363 -0.002304   \n",
       "340  0.160728 -0.142013  0.426999  ...  0.000132  0.000597  0.000666   \n",
       "\n",
       "          251       252       253       254           255           256  gnd  \n",
       "511 -0.000853 -0.000189 -0.000742  0.000193  3.462804e-09  1.271068e-08    2  \n",
       "794 -0.000195  0.000342  0.000671  0.000035 -1.461773e-07  2.041759e-07    3  \n",
       "179 -0.001786  0.000832 -0.000429 -0.000312  6.219640e-08  2.250808e-07    0  \n",
       "585  0.000038  0.001033 -0.000390  0.000359  1.856715e-07 -1.114377e-08    2  \n",
       "340 -0.000184  0.000004  0.000102  0.000019 -2.760520e-08 -4.894592e-08    1  \n",
       "\n",
       "[5 rows x 258 columns]"
      ]
     },
     "execution_count": 16,
     "metadata": {},
     "output_type": "execute_result"
    }
   ],
   "source": [
    "data_pca.sample(5)"
   ]
  },
  {
   "cell_type": "markdown",
   "id": "aabaae6a-be22-4cec-8f6b-9414a48f3572",
   "metadata": {},
   "source": [
    "**6 - Plot a 2-dimensional representation of the data based on the first and second principal components, explain the results versus the known classes (display each class with a different color).**"
   ]
  },
  {
   "cell_type": "code",
   "execution_count": 17,
   "id": "04e38fe8-3c93-40ea-a9ee-42c69b43d8ea",
   "metadata": {
    "tags": []
   },
   "outputs": [
    {
     "data": {
      "image/png": "[encoded data removed]",
      "text/plain": [
       "<Figure size 640x480 with 1 Axes>"
      ]
     },
     "metadata": {},
     "output_type": "display_data"
    }
   ],
   "source": [
    "plt.scatter(data_pca[0], data_pca[1], c=data_pca.gnd)\n",
    "plt.xlabel(\"PC1\")\n",
    "plt.xlabel(\"PC2\")\n",
    "plt.show()"
   ]
  },
  {
   "cell_type": "markdown",
   "id": "0b21e0dc-29e4-4201-9065-25c45580e157",
   "metadata": {},
   "source": [
    "**Comments:**\n",
    "\n"
   ]
  },
  {
   "cell_type": "markdown",
   "id": "8c13faf2-9559-45cc-b9d4-08884d6b082d",
   "metadata": {
    "tags": []
   },
   "source": [
    "**7 - Repeat step 6 for the 20th and 21st components and comment on the result**"
   ]
  },
  {
   "cell_type": "code",
   "execution_count": 18,
   "id": "68f774b1-09eb-42ab-8ff3-2d31451e43f5",
   "metadata": {
    "tags": []
   },
   "outputs": [
    {
     "data": {
      "image/png": "[encoded data removed]",
      "text/plain": [
       "<Figure size 640x480 with 1 Axes>"
      ]
     },
     "metadata": {},
     "output_type": "display_data"
    }
   ],
   "source": [
    "plt.scatter(data_pca[19], data_pca[20], c=df.gnd)\n",
    "plt.xlabel(\"PC20\")\n",
    "plt.xlabel(\"PC21\")\n",
    "plt.show()"
   ]
  },
  {
   "cell_type": "markdown",
   "id": "16aa5759-5b4e-494c-b6ba-dc57cc4ce494",
   "metadata": {},
   "source": [
    "## t-SNE"
   ]
  },
  {
   "cell_type": "markdown",
   "id": "b449b963-229d-4a0a-bda6-eab7795a7c01",
   "metadata": {},
   "source": [
    "**8 - Plot a 2-dimensional representation of the original data using t-SNE, compare the output with PCA’s output in Step 6 and 7, and explain the results versus the known classes.**"
   ]
  },
  {
   "cell_type": "code",
   "execution_count": 19,
   "id": "0a265858-e9eb-4e9c-a1f1-827f8b4553c4",
   "metadata": {
    "tags": []
   },
   "outputs": [
    {
     "name": "stdout",
     "output_type": "stream",
     "text": [
      "[t-SNE] Computing 121 nearest neighbors...\n",
      "[t-SNE] Indexed 800 samples in 0.003s...\n",
      "[t-SNE] Computed neighbors for 800 samples in 0.327s...\n",
      "[t-SNE] Computed conditional probabilities for sample 800 / 800\n",
      "[t-SNE] Mean sigma: 14.466274\n",
      "[t-SNE] KL divergence after 250 iterations with early exaggeration: 45.416245\n",
      "[t-SNE] KL divergence after 300 iterations: 0.311909\n",
      "CPU times: user 1min 44s, sys: 12.4 s, total: 1min 56s\n",
      "Wall time: 17.2 s\n"
     ]
    }
   ],
   "source": [
    "%%time\n",
    "from sklearn.manifold import TSNE\n",
    "\n",
    "df3 = df.drop(\"gnd\", axis=1)\n",
    "\n",
    "tsne = TSNE(n_components=2, verbose=1, perplexity=40, n_iter=300)\n",
    "tsne_results = tsne.fit_transform(df3)\n",
    "df_tsne = pd.DataFrame(tsne_results)\n",
    "df_tsne[\"gnd\"] = df[\"gnd\"]"
   ]
  },
  {
   "cell_type": "code",
   "execution_count": 20,
   "id": "109b97de-ef41-420a-9769-355ecb1ecc98",
   "metadata": {
    "tags": []
   },
   "outputs": [
    {
     "data": {
      "text/html": [
       "<div>\n",
       "<style scoped>\n",
       "    .dataframe tbody tr th:only-of-type {\n",
       "        vertical-align: middle;\n",
       "    }\n",
       "\n",
       "    .dataframe tbody tr th {\n",
       "        vertical-align: top;\n",
       "    }\n",
       "\n",
       "    .dataframe thead th {\n",
       "        text-align: right;\n",
       "    }\n",
       "</style>\n",
       "<table border=\"1\" class=\"dataframe\">\n",
       "  <thead>\n",
       "    <tr style=\"text-align: right;\">\n",
       "      <th></th>\n",
       "      <th>0</th>\n",
       "      <th>1</th>\n",
       "      <th>gnd</th>\n",
       "    </tr>\n",
       "  </thead>\n",
       "  <tbody>\n",
       "    <tr>\n",
       "      <th>54</th>\n",
       "      <td>9.414474</td>\n",
       "      <td>8.062439</td>\n",
       "      <td>0</td>\n",
       "    </tr>\n",
       "    <tr>\n",
       "      <th>381</th>\n",
       "      <td>-3.646214</td>\n",
       "      <td>-4.301101</td>\n",
       "      <td>1</td>\n",
       "    </tr>\n",
       "    <tr>\n",
       "      <th>603</th>\n",
       "      <td>-7.945167</td>\n",
       "      <td>8.621240</td>\n",
       "      <td>3</td>\n",
       "    </tr>\n",
       "    <tr>\n",
       "      <th>341</th>\n",
       "      <td>-3.247167</td>\n",
       "      <td>-8.621697</td>\n",
       "      <td>1</td>\n",
       "    </tr>\n",
       "    <tr>\n",
       "      <th>39</th>\n",
       "      <td>10.762961</td>\n",
       "      <td>8.898750</td>\n",
       "      <td>0</td>\n",
       "    </tr>\n",
       "  </tbody>\n",
       "</table>\n",
       "</div>"
      ],
      "text/plain": [
       "             0         1  gnd\n",
       "54    9.414474  8.062439    0\n",
       "381  -3.646214 -4.301101    1\n",
       "603  -7.945167  8.621240    3\n",
       "341  -3.247167 -8.621697    1\n",
       "39   10.762961  8.898750    0"
      ]
     },
     "execution_count": 20,
     "metadata": {},
     "output_type": "execute_result"
    }
   ],
   "source": [
    "df_tsne.sample(5)"
   ]
  },
  {
   "cell_type": "code",
   "execution_count": 21,
   "id": "9500a1ec-6b96-45f3-9214-d78bb46667af",
   "metadata": {
    "tags": []
   },
   "outputs": [
    {
     "data": {
      "image/png": "[encoded data removed]",
      "text/plain": [
       "<Figure size 640x480 with 1 Axes>"
      ]
     },
     "metadata": {},
     "output_type": "display_data"
    }
   ],
   "source": [
    "plt.scatter(df_tsne[0], df_tsne[1], c=df_tsne[\"gnd\"])\n",
    "plt.xlabel(\"TSNE1\")\n",
    "plt.ylabel(\"TSNE2\")\n",
    "plt.show()"
   ]
  },
  {
   "cell_type": "markdown",
   "id": "7bd01e8e-2085-4e7a-8aae-430348513f4f",
   "metadata": {},
   "source": [
    "**Comments:**\n",
    "\n",
    "//TODO"
   ]
  },
  {
   "cell_type": "markdown",
   "id": "9e4430ee-22d1-403f-ab22-8b518119a4db",
   "metadata": {},
   "source": [
    "## Dimentionality Comparison"
   ]
  },
  {
   "cell_type": "markdown",
   "id": "5ca85f4e-020e-4e54-ab3b-bdf497aad5d2",
   "metadata": {},
   "source": [
    "**9 - Use the any classifier to classify 6 sets of dimensionality reduced data (using 2, 4, 10, 30, 40, 256 PCA components).**"
   ]
  },
  {
   "cell_type": "code",
   "execution_count": 22,
   "id": "35b99b7a-1d58-4862-93a7-ac0dfb3acaee",
   "metadata": {
    "tags": []
   },
   "outputs": [
    {
     "name": "stdout",
     "output_type": "stream",
     "text": [
      "For n=2: 3 columns, accuracy is 1.0\n",
      "For n=4: 5 columns, accuracy is 1.0\n",
      "For n=10: 11 columns, accuracy is 1.0\n",
      "For n=30: 31 columns, accuracy is 1.0\n",
      "For n=40: 41 columns, accuracy is 1.0\n",
      "For n=256: 257 columns, accuracy is 0.99375\n",
      "Done.\n",
      "[1.0, 1.0, 1.0, 1.0, 1.0, 0.99375]\n"
     ]
    }
   ],
   "source": [
    "loop = [2, 4, 10, 30, 40, 256]\n",
    "#loop = [2, 4, 10]\n",
    "results = [ ]\n",
    "\n",
    "df2 = df.drop(\"gnd\", axis=1)\n",
    "\n",
    "for n in loop:\n",
    "\n",
    "    p = PCA(n_components = n)\n",
    "    p.fit(df2)\n",
    "    df_p = p.transform(df2)\n",
    "    df_p = pd.DataFrame(df_p)\n",
    "    \n",
    "    df_p[\"gnd\"] = df[\"gnd\"]\n",
    "\n",
    "    train_p, test_p = train_test_split(df_p, test_size=0.2)\n",
    "\n",
    "    X_train_p = train_p.iloc[:, 0:n]\n",
    "    y_train_p = train_p[\"gnd\"]\n",
    "\n",
    "    X_test_p = test_p.iloc[:, 0:n]\n",
    "    y_test_p = test_p[\"gnd\"]\n",
    "\n",
    "    m = DecisionTreeClassifier(random_state=0)\n",
    "    m = model.fit(X_train_p, y_train_p)\n",
    "\n",
    "    y_pred_p = m.predict(X_test_p)\n",
    "    score = metrics.accuracy_score(y_test_p, y_pred_p)\n",
    "    \n",
    "    print(f\"For n={n}: {len(df_p.columns)} columns, accuracy is {score}\")\n",
    "    \n",
    "    results.append(score)\n",
    "\n",
    "print(\"Done.\")\n",
    "print(results)"
   ]
  },
  {
   "cell_type": "markdown",
   "id": "c5e0c5cd-98ca-429f-b913-0755e81c8349",
   "metadata": {},
   "source": [
    "**10 - Plot the classification error for the 6 sets and the number of chosen components.**"
   ]
  },
  {
   "cell_type": "code",
   "execution_count": 23,
   "id": "3e71885a-d60e-4b84-b9e0-fe7e8fbcd188",
   "metadata": {
    "tags": []
   },
   "outputs": [
    {
     "data": {
      "image/png": "[encoded data removed]",
      "text/plain": [
       "<Figure size 640x480 with 1 Axes>"
      ]
     },
     "metadata": {},
     "output_type": "display_data"
    }
   ],
   "source": [
    "plt.plot(loop, results, \"-\")\n",
    "plt.xlabel(\"No. of PCA Components\")\n",
    "plt.ylabel(\"Accuracy\")\n",
    "plt.show()"
   ]
  },
  {
   "cell_type": "code",
   "execution_count": null,
   "id": "b000f4d3-6c60-4bdb-94d7-b5d2f519589f",
   "metadata": {},
   "outputs": [],
   "source": []
  }
 ],
 "metadata": {
  "kernelspec": {
   "display_name": "Python 3 (ipykernel)",
   "language": "python",
   "name": "python3"
  },
  "language_info": {
   "codemirror_mode": {
    "name": "ipython",
    "version": 3
   },
   "file_extension": ".py",
   "mimetype": "text/x-python",
   "name": "python",
   "nbconvert_exporter": "python",
   "pygments_lexer": "ipython3",
   "version": "3.9.2"
  }
 },
 "nbformat": 4,
 "nbformat_minor": 5
}
