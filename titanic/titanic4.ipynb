{
  "nbformat": 4,
  "nbformat_minor": 0,
  "metadata": {
    "colab": {
      "name": "titanic4.ipynb",
      "provenance": [],
      "include_colab_link": true
    },
    "kernelspec": {
      "name": "python3",
      "display_name": "Python 3"
    }
  },
  "cells": [
    {
      "cell_type": "markdown",
      "metadata": {
        "id": "view-in-github",
        "colab_type": "text"
      },
      "source": [
        "<a href=\"https://colab.research.google.com/github/straylight77/data-sci-learning/blob/master/titanic/titanic4.ipynb\" target=\"_parent\"><img src=\"https://colab.research.google.com/assets/colab-badge.svg\" alt=\"Open In Colab\"/></a>"
      ]
    },
    {
      "cell_type": "code",
      "metadata": {
        "id": "3whDMEQye_sT",
        "colab_type": "code",
        "outputId": "e99ab673-b02d-456e-cd44-0420d7cb9760",
        "colab": {
          "base_uri": "https://localhost:8080/",
          "height": 252
        }
      },
      "source": [
        "import numpy as np\n",
        "import pandas as pd\n",
        "from sklearn import metrics \n",
        "from sklearn.model_selection import train_test_split\n",
        "from sklearn.ensemble import RandomForestClassifier\n",
        "\n",
        "data_raw = pd.read_csv('https://raw.githubusercontent.com/straylight77/data-sci-learning/master/titanic/train.csv')\n",
        "data = data_raw.copy(deep=True)\n",
        "\n",
        "data.sample(5)\n"
      ],
      "execution_count": 1,
      "outputs": [
        {
          "output_type": "execute_result",
          "data": {
            "text/html": [
              "<div>\n",
              "<style scoped>\n",
              "    .dataframe tbody tr th:only-of-type {\n",
              "        vertical-align: middle;\n",
              "    }\n",
              "\n",
              "    .dataframe tbody tr th {\n",
              "        vertical-align: top;\n",
              "    }\n",
              "\n",
              "    .dataframe thead th {\n",
              "        text-align: right;\n",
              "    }\n",
              "</style>\n",
              "<table border=\"1\" class=\"dataframe\">\n",
              "  <thead>\n",
              "    <tr style=\"text-align: right;\">\n",
              "      <th></th>\n",
              "      <th>PassengerId</th>\n",
              "      <th>Survived</th>\n",
              "      <th>Pclass</th>\n",
              "      <th>Name</th>\n",
              "      <th>Sex</th>\n",
              "      <th>Age</th>\n",
              "      <th>SibSp</th>\n",
              "      <th>Parch</th>\n",
              "      <th>Ticket</th>\n",
              "      <th>Fare</th>\n",
              "      <th>Cabin</th>\n",
              "      <th>Embarked</th>\n",
              "    </tr>\n",
              "  </thead>\n",
              "  <tbody>\n",
              "    <tr>\n",
              "      <th>354</th>\n",
              "      <td>355</td>\n",
              "      <td>0</td>\n",
              "      <td>3</td>\n",
              "      <td>Yousif, Mr. Wazli</td>\n",
              "      <td>male</td>\n",
              "      <td>NaN</td>\n",
              "      <td>0</td>\n",
              "      <td>0</td>\n",
              "      <td>2647</td>\n",
              "      <td>7.2250</td>\n",
              "      <td>NaN</td>\n",
              "      <td>C</td>\n",
              "    </tr>\n",
              "    <tr>\n",
              "      <th>476</th>\n",
              "      <td>477</td>\n",
              "      <td>0</td>\n",
              "      <td>2</td>\n",
              "      <td>Renouf, Mr. Peter Henry</td>\n",
              "      <td>male</td>\n",
              "      <td>34.0</td>\n",
              "      <td>1</td>\n",
              "      <td>0</td>\n",
              "      <td>31027</td>\n",
              "      <td>21.0000</td>\n",
              "      <td>NaN</td>\n",
              "      <td>S</td>\n",
              "    </tr>\n",
              "    <tr>\n",
              "      <th>295</th>\n",
              "      <td>296</td>\n",
              "      <td>0</td>\n",
              "      <td>1</td>\n",
              "      <td>Lewy, Mr. Ervin G</td>\n",
              "      <td>male</td>\n",
              "      <td>NaN</td>\n",
              "      <td>0</td>\n",
              "      <td>0</td>\n",
              "      <td>PC 17612</td>\n",
              "      <td>27.7208</td>\n",
              "      <td>NaN</td>\n",
              "      <td>C</td>\n",
              "    </tr>\n",
              "    <tr>\n",
              "      <th>670</th>\n",
              "      <td>671</td>\n",
              "      <td>1</td>\n",
              "      <td>2</td>\n",
              "      <td>Brown, Mrs. Thomas William Solomon (Elizabeth ...</td>\n",
              "      <td>female</td>\n",
              "      <td>40.0</td>\n",
              "      <td>1</td>\n",
              "      <td>1</td>\n",
              "      <td>29750</td>\n",
              "      <td>39.0000</td>\n",
              "      <td>NaN</td>\n",
              "      <td>S</td>\n",
              "    </tr>\n",
              "    <tr>\n",
              "      <th>547</th>\n",
              "      <td>548</td>\n",
              "      <td>1</td>\n",
              "      <td>2</td>\n",
              "      <td>Padro y Manent, Mr. Julian</td>\n",
              "      <td>male</td>\n",
              "      <td>NaN</td>\n",
              "      <td>0</td>\n",
              "      <td>0</td>\n",
              "      <td>SC/PARIS 2146</td>\n",
              "      <td>13.8625</td>\n",
              "      <td>NaN</td>\n",
              "      <td>C</td>\n",
              "    </tr>\n",
              "  </tbody>\n",
              "</table>\n",
              "</div>"
            ],
            "text/plain": [
              "     PassengerId  Survived  Pclass  ...     Fare Cabin  Embarked\n",
              "354          355         0       3  ...   7.2250   NaN         C\n",
              "476          477         0       2  ...  21.0000   NaN         S\n",
              "295          296         0       1  ...  27.7208   NaN         C\n",
              "670          671         1       2  ...  39.0000   NaN         S\n",
              "547          548         1       2  ...  13.8625   NaN         C\n",
              "\n",
              "[5 rows x 12 columns]"
            ]
          },
          "metadata": {
            "tags": []
          },
          "execution_count": 1
        }
      ]
    },
    {
      "cell_type": "code",
      "metadata": {
        "id": "c7YFGEkJP4Lr",
        "colab_type": "code",
        "colab": {
          "base_uri": "https://localhost:8080/",
          "height": 314
        },
        "outputId": "88ce58fe-8044-4083-e3f0-3bdfa6ffdc6a"
      },
      "source": [
        "####################################################################\n",
        "# fill in missing data\n",
        "data['Age'].fillna( data['Age'].median(), inplace=True )\n",
        "data['Embarked'].fillna( data['Embarked'].mode()[0], inplace=True )\n",
        "data['Fare'].fillna( data['Fare'].median(), inplace=True )\n",
        "\n",
        "data.info()"
      ],
      "execution_count": 2,
      "outputs": [
        {
          "output_type": "stream",
          "text": [
            "<class 'pandas.core.frame.DataFrame'>\n",
            "RangeIndex: 891 entries, 0 to 890\n",
            "Data columns (total 12 columns):\n",
            "PassengerId    891 non-null int64\n",
            "Survived       891 non-null int64\n",
            "Pclass         891 non-null int64\n",
            "Name           891 non-null object\n",
            "Sex            891 non-null object\n",
            "Age            891 non-null float64\n",
            "SibSp          891 non-null int64\n",
            "Parch          891 non-null int64\n",
            "Ticket         891 non-null object\n",
            "Fare           891 non-null float64\n",
            "Cabin          204 non-null object\n",
            "Embarked       891 non-null object\n",
            "dtypes: float64(2), int64(5), object(5)\n",
            "memory usage: 83.7+ KB\n"
          ],
          "name": "stdout"
        }
      ]
    },
    {
      "cell_type": "code",
      "metadata": {
        "id": "_18XsbduQFo4",
        "colab_type": "code",
        "colab": {
          "base_uri": "https://localhost:8080/",
          "height": 402
        },
        "outputId": "b68b792b-53c3-41f8-e28b-f880a26f14cb"
      },
      "source": [
        "# feature engineering \n",
        "data['Relatives'] = data['SibSp'] + data['Parch']\n",
        "\n",
        "data['IsAlone'] = data['Relatives'].apply(lambda x: 0 if x > 0 else 1) \n",
        "\n",
        "# qcut vs cut: https://stackoverflow.com/questions/30211923/what-is-the-difference-between-pandas-qcut-and-pandas-cut\n",
        "# https://pandas.pydata.org/pandas-docs/stable/generated/pandas.qcut.html\n",
        "data['FareBin'] = pd.qcut(data['Fare'], 4)\n",
        "\n",
        "# https://pandas.pydata.org/pandas-docs/stable/generated/pandas.cut.html\n",
        "data['AgeBin'] = pd.cut(data['Age'].astype(int), 5)\n",
        "\n",
        "# extract the passenger's title from their name (Mr, Miss, Dr, etc.)\n",
        "data['Title'] = data['Name'].str.split(\", \", expand=True)[1].str.split(\".\", expand=True)[0]\n",
        "\n",
        "# replace rare Titles (< stat_min) with 'Other'\n",
        "stat_min = 10 \n",
        "title_names = (data['Title'].value_counts() < stat_min)\n",
        "data['Title'] = data['Title'].apply(lambda x: 'Other' if title_names.loc[x] == True else x)\n",
        "\n",
        "data.info()"
      ],
      "execution_count": 3,
      "outputs": [
        {
          "output_type": "stream",
          "text": [
            "<class 'pandas.core.frame.DataFrame'>\n",
            "RangeIndex: 891 entries, 0 to 890\n",
            "Data columns (total 17 columns):\n",
            "PassengerId    891 non-null int64\n",
            "Survived       891 non-null int64\n",
            "Pclass         891 non-null int64\n",
            "Name           891 non-null object\n",
            "Sex            891 non-null object\n",
            "Age            891 non-null float64\n",
            "SibSp          891 non-null int64\n",
            "Parch          891 non-null int64\n",
            "Ticket         891 non-null object\n",
            "Fare           891 non-null float64\n",
            "Cabin          204 non-null object\n",
            "Embarked       891 non-null object\n",
            "Relatives      891 non-null int64\n",
            "IsAlone        891 non-null int64\n",
            "FareBin        891 non-null category\n",
            "AgeBin         891 non-null category\n",
            "Title          891 non-null object\n",
            "dtypes: category(2), float64(2), int64(7), object(6)\n",
            "memory usage: 106.7+ KB\n"
          ],
          "name": "stdout"
        }
      ]
    },
    {
      "cell_type": "code",
      "metadata": {
        "id": "D-XLVRTvUSUM",
        "colab_type": "code",
        "colab": {
          "base_uri": "https://localhost:8080/",
          "height": 489
        },
        "outputId": "1e7f7103-c974-4eef-9a81-34cd0c832fe3"
      },
      "source": [
        "# convert types to work with the model\n",
        "from sklearn import preprocessing\n",
        "\n",
        "label = preprocessing.LabelEncoder()\n",
        "data['Sex_Code'] = label.fit_transform(data['Sex'])\n",
        "data['Embarked_Code'] = label.fit_transform(data['Embarked'])\n",
        "data['Title_Code'] = label.fit_transform(data['Title'])\n",
        "data['AgeBin_Code'] = label.fit_transform(data['AgeBin'])\n",
        "data['FareBin_Code'] = label.fit_transform(data['FareBin'])\n",
        "\n",
        "data.info()"
      ],
      "execution_count": 4,
      "outputs": [
        {
          "output_type": "stream",
          "text": [
            "<class 'pandas.core.frame.DataFrame'>\n",
            "RangeIndex: 891 entries, 0 to 890\n",
            "Data columns (total 22 columns):\n",
            "PassengerId      891 non-null int64\n",
            "Survived         891 non-null int64\n",
            "Pclass           891 non-null int64\n",
            "Name             891 non-null object\n",
            "Sex              891 non-null object\n",
            "Age              891 non-null float64\n",
            "SibSp            891 non-null int64\n",
            "Parch            891 non-null int64\n",
            "Ticket           891 non-null object\n",
            "Fare             891 non-null float64\n",
            "Cabin            204 non-null object\n",
            "Embarked         891 non-null object\n",
            "Relatives        891 non-null int64\n",
            "IsAlone          891 non-null int64\n",
            "FareBin          891 non-null category\n",
            "AgeBin           891 non-null category\n",
            "Title            891 non-null object\n",
            "Sex_Code         891 non-null int64\n",
            "Embarked_Code    891 non-null int64\n",
            "Title_Code       891 non-null int64\n",
            "AgeBin_Code      891 non-null int64\n",
            "FareBin_Code     891 non-null int64\n",
            "dtypes: category(2), float64(2), int64(12), object(6)\n",
            "memory usage: 141.5+ KB\n"
          ],
          "name": "stdout"
        }
      ]
    },
    {
      "cell_type": "code",
      "metadata": {
        "id": "wwY_TVuufcK5",
        "colab_type": "code",
        "outputId": "c66a5fff-fc9a-43b5-964c-e4a1b148de21",
        "colab": {
          "base_uri": "https://localhost:8080/",
          "height": 87
        }
      },
      "source": [
        "#####################################################################\n",
        "# prepare training data \n",
        "y = data.Survived\n",
        "\n",
        "features = ['Pclass', 'Relatives', 'Sex_Code', 'Title_Code', 'AgeBin_Code', 'FareBin_Code' ]\n",
        "X = data[features]\n",
        "\n",
        "# split into validation and training data\n",
        "#   train_X = data to be used to train a model (with labels in train_y)\n",
        "#   val_X = data to be used to measure accuracy (compare predictions with val_y) \n",
        "train_X, val_X, train_y, val_y = train_test_split(X, y, random_state=1)\n",
        "print(\"training data rows: \", len(train_X))\n",
        "print(\" testing data rows: \", len(val_X))\n",
        "print(\"original data rows: \", len(X))\n",
        "if len(train_X) + len(val_X) == len(X):\n",
        "    print(\"Good to go!\") "
      ],
      "execution_count": 5,
      "outputs": [
        {
          "output_type": "stream",
          "text": [
            "training data rows:  668\n",
            " testing data rows:  223\n",
            "original data rows:  891\n",
            "Good to go!\n"
          ],
          "name": "stdout"
        }
      ]
    },
    {
      "cell_type": "code",
      "metadata": {
        "id": "z1jwFDlig1AC",
        "colab_type": "code",
        "outputId": "760d9c16-c8ff-43c2-9be7-1147156d89f1",
        "colab": {
          "base_uri": "https://localhost:8080/",
          "height": 89
        }
      },
      "source": [
        "# create a model, train it and make predictions using the split validation data\n",
        "model = RandomForestClassifier(random_state=1)\n",
        "model.fit(train_X, train_y)\n",
        "\n",
        "y_preds = model.predict(val_X)\n",
        "print(\"Predicted rows: \", len(y_preds))"
      ],
      "execution_count": 6,
      "outputs": [
        {
          "output_type": "stream",
          "text": [
            "Predicted rows:  223\n"
          ],
          "name": "stdout"
        },
        {
          "output_type": "stream",
          "text": [
            "/usr/local/lib/python3.6/dist-packages/sklearn/ensemble/forest.py:245: FutureWarning: The default value of n_estimators will change from 10 in version 0.20 to 100 in 0.22.\n",
            "  \"10 in version 0.20 to 100 in 0.22.\", FutureWarning)\n"
          ],
          "name": "stderr"
        }
      ]
    },
    {
      "cell_type": "code",
      "metadata": {
        "id": "9qLB138JMRHl",
        "colab_type": "code",
        "colab": {
          "base_uri": "https://localhost:8080/",
          "height": 355
        },
        "outputId": "2fbe7526-cada-45a0-8342-c55f6f749c43"
      },
      "source": [
        "# measure accuracy and print\n",
        "accuracy_pct = metrics.accuracy_score(val_y, y_preds) * 100\n",
        "print(f\"Accuracy: {accuracy_pct}%\")\n",
        "\n",
        "# measure the relative importance of each feature and plot \n",
        "stats = pd.DataFrame({\n",
        "    \"Feature\": features,\n",
        "    \"Importance\": model.feature_importances_\n",
        "})\n",
        "stats.sort_values(by='Importance', ascending=False, inplace=True)\n",
        "stats.plot.bar(x='Feature', y='Importance');\n",
        "\n",
        "# PREVIOUS ITERATIONS\n",
        "# 66.816 - ['Pclass', 'SibSp', 'Parch', 'Fare'* ]\n",
        "# 64.125 - ['Pclass', 'SibSp', 'Parch', 'Fare'*, 'Age'* ]\n",
        "# 80.717 - ['Pclass'*, 'Relatives'*, 'IsAlone', 'Sex_Code'*, 'Embarked_Code', 'Title_Code'*, 'AgeBin_Code'*, 'FareBin_Code'* ]\n",
        "# 82.062 - ['Pclass', 'Relatives', 'Sex_Code', 'Title_Code', 'AgeBin_Code', 'FareBin_Code' ] - "
      ],
      "execution_count": 7,
      "outputs": [
        {
          "output_type": "stream",
          "text": [
            "Accuracy: 82.0627802690583%\n"
          ],
          "name": "stdout"
        },
        {
          "output_type": "display_data",
          "data": {
            "image/png": "[encoded data removed]",
            "text/plain": [
              "<Figure size 432x288 with 1 Axes>"
            ]
          },
          "metadata": {
            "tags": []
          }
        }
      ]
    },
    {
      "cell_type": "code",
      "metadata": {
        "id": "uAnUfhCROyCt",
        "colab_type": "code",
        "colab": {
          "base_uri": "https://localhost:8080/",
          "height": 454
        },
        "outputId": "ddd448a8-223a-41d8-c4fb-b854e6f63373"
      },
      "source": [
        "\n",
        "# get predictions for competition data and prepare output file for submission\n",
        "data_pred = pd.read_csv('https://raw.githubusercontent.com/straylight77/data-sci-learning/master/titanic/test.csv')\n",
        "\n",
        "# do the same data processing that we did earlier\n",
        "\n",
        "# fill in missing data\n",
        "data_pred['Age'].fillna( data_pred['Age'].median(), inplace=True )\n",
        "data_pred['Embarked'].fillna( data_pred['Embarked'].mode()[0], inplace=True )\n",
        "data_pred['Fare'].fillna( data_pred['Fare'].median(), inplace=True )\n",
        "\n",
        "# add new engineered features\n",
        "data_pred['Relatives'] = data_pred['SibSp'] + data_pred['Parch']\n",
        "data_pred['FareBin'] = pd.qcut(data_pred['Fare'], 4)\n",
        "data_pred['AgeBin'] = pd.cut(data_pred['Age'].astype(int), 5)\n",
        "\n",
        "# extract the passenger's title from their name (Mr, Miss, Dr, etc.)\n",
        "data_pred['Title'] = data_pred['Name'].str.split(\", \", expand=True)[1].str.split(\".\", expand=True)[0]\n",
        "\n",
        "# replace rare Titles (< stat_min) with 'Other'\n",
        "stat_min = 10 \n",
        "title_names = (data_pred['Title'].value_counts() < stat_min)\n",
        "data_pred['Title'] = data_pred['Title'].apply(lambda x: 'Other' if title_names.loc[x] == True else x)\n",
        "\n",
        "label = preprocessing.LabelEncoder()\n",
        "data_pred['Sex_Code'] = label.fit_transform(data_pred['Sex'])\n",
        "data_pred['Embarked_Code'] = label.fit_transform(data_pred['Embarked'])\n",
        "data_pred['Title_Code'] = label.fit_transform(data_pred['Title'])\n",
        "data_pred['AgeBin_Code'] = label.fit_transform(data_pred['AgeBin'])\n",
        "data_pred['FareBin_Code'] = label.fit_transform(data_pred['FareBin'])\n",
        "\n",
        "data_pred.info()"
      ],
      "execution_count": 8,
      "outputs": [
        {
          "output_type": "stream",
          "text": [
            "<class 'pandas.core.frame.DataFrame'>\n",
            "RangeIndex: 418 entries, 0 to 417\n",
            "Data columns (total 20 columns):\n",
            "PassengerId      418 non-null int64\n",
            "Pclass           418 non-null int64\n",
            "Name             418 non-null object\n",
            "Sex              418 non-null object\n",
            "Age              418 non-null float64\n",
            "SibSp            418 non-null int64\n",
            "Parch            418 non-null int64\n",
            "Ticket           418 non-null object\n",
            "Fare             418 non-null float64\n",
            "Cabin            91 non-null object\n",
            "Embarked         418 non-null object\n",
            "Relatives        418 non-null int64\n",
            "FareBin          418 non-null category\n",
            "AgeBin           418 non-null category\n",
            "Title            418 non-null object\n",
            "Sex_Code         418 non-null int64\n",
            "Embarked_Code    418 non-null int64\n",
            "Title_Code       418 non-null int64\n",
            "AgeBin_Code      418 non-null int64\n",
            "FareBin_Code     418 non-null int64\n",
            "dtypes: category(2), float64(2), int64(10), object(6)\n",
            "memory usage: 60.2+ KB\n"
          ],
          "name": "stdout"
        }
      ]
    },
    {
      "cell_type": "code",
      "metadata": {
        "id": "g3hu9htYWMj6",
        "colab_type": "code",
        "colab": {
          "base_uri": "https://localhost:8080/",
          "height": 469
        },
        "outputId": "f270c739-8146-425d-f589-f603e5418a0d"
      },
      "source": [
        "#####################################################################\n",
        "# okay, now we can create a new model based on all training data\n",
        "model = RandomForestClassifier(random_state=1)\n",
        "model.fit(X, y)\n",
        "\n",
        "X_predict = data_pred[features]\n",
        "predictions = model.predict(X_predict)\n",
        "\n",
        "output_df = pd.DataFrame({'PassengerId': data_pred.PassengerId, 'Survived': predictions})\n",
        "\n",
        "output_df\n"
      ],
      "execution_count": 9,
      "outputs": [
        {
          "output_type": "stream",
          "text": [
            "/usr/local/lib/python3.6/dist-packages/sklearn/ensemble/forest.py:245: FutureWarning: The default value of n_estimators will change from 10 in version 0.20 to 100 in 0.22.\n",
            "  \"10 in version 0.20 to 100 in 0.22.\", FutureWarning)\n"
          ],
          "name": "stderr"
        },
        {
          "output_type": "execute_result",
          "data": {
            "text/html": [
              "<div>\n",
              "<style scoped>\n",
              "    .dataframe tbody tr th:only-of-type {\n",
              "        vertical-align: middle;\n",
              "    }\n",
              "\n",
              "    .dataframe tbody tr th {\n",
              "        vertical-align: top;\n",
              "    }\n",
              "\n",
              "    .dataframe thead th {\n",
              "        text-align: right;\n",
              "    }\n",
              "</style>\n",
              "<table border=\"1\" class=\"dataframe\">\n",
              "  <thead>\n",
              "    <tr style=\"text-align: right;\">\n",
              "      <th></th>\n",
              "      <th>PassengerId</th>\n",
              "      <th>Survived</th>\n",
              "    </tr>\n",
              "  </thead>\n",
              "  <tbody>\n",
              "    <tr>\n",
              "      <th>0</th>\n",
              "      <td>892</td>\n",
              "      <td>0</td>\n",
              "    </tr>\n",
              "    <tr>\n",
              "      <th>1</th>\n",
              "      <td>893</td>\n",
              "      <td>0</td>\n",
              "    </tr>\n",
              "    <tr>\n",
              "      <th>2</th>\n",
              "      <td>894</td>\n",
              "      <td>0</td>\n",
              "    </tr>\n",
              "    <tr>\n",
              "      <th>3</th>\n",
              "      <td>895</td>\n",
              "      <td>0</td>\n",
              "    </tr>\n",
              "    <tr>\n",
              "      <th>4</th>\n",
              "      <td>896</td>\n",
              "      <td>0</td>\n",
              "    </tr>\n",
              "    <tr>\n",
              "      <th>...</th>\n",
              "      <td>...</td>\n",
              "      <td>...</td>\n",
              "    </tr>\n",
              "    <tr>\n",
              "      <th>413</th>\n",
              "      <td>1305</td>\n",
              "      <td>0</td>\n",
              "    </tr>\n",
              "    <tr>\n",
              "      <th>414</th>\n",
              "      <td>1306</td>\n",
              "      <td>1</td>\n",
              "    </tr>\n",
              "    <tr>\n",
              "      <th>415</th>\n",
              "      <td>1307</td>\n",
              "      <td>0</td>\n",
              "    </tr>\n",
              "    <tr>\n",
              "      <th>416</th>\n",
              "      <td>1308</td>\n",
              "      <td>0</td>\n",
              "    </tr>\n",
              "    <tr>\n",
              "      <th>417</th>\n",
              "      <td>1309</td>\n",
              "      <td>1</td>\n",
              "    </tr>\n",
              "  </tbody>\n",
              "</table>\n",
              "<p>418 rows × 2 columns</p>\n",
              "</div>"
            ],
            "text/plain": [
              "     PassengerId  Survived\n",
              "0            892         0\n",
              "1            893         0\n",
              "2            894         0\n",
              "3            895         0\n",
              "4            896         0\n",
              "..           ...       ...\n",
              "413         1305         0\n",
              "414         1306         1\n",
              "415         1307         0\n",
              "416         1308         0\n",
              "417         1309         1\n",
              "\n",
              "[418 rows x 2 columns]"
            ]
          },
          "metadata": {
            "tags": []
          },
          "execution_count": 9
        }
      ]
    },
    {
      "cell_type": "code",
      "metadata": {
        "id": "Z0Vw6kS3ZVBb",
        "colab_type": "code",
        "colab": {
          "base_uri": "https://localhost:8080/",
          "height": 34
        },
        "outputId": "332a4570-a51f-4575-f2a4-e5f3c592bd66"
      },
      "source": [
        "output_df.to_csv('my_submission.csv', index=False)\n",
        "print(\"Your submission was successfully saved!\")\n"
      ],
      "execution_count": 10,
      "outputs": [
        {
          "output_type": "stream",
          "text": [
            "Your submission was successfully saved!\n"
          ],
          "name": "stdout"
        }
      ]
    }
  ]
}